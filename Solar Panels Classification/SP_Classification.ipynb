{
 "cells": [
  {
   "cell_type": "markdown",
   "id": "cef4a42b",
   "metadata": {},
   "source": [
    "# Splitting the data into train, validate, and test"
   ]
  },
  {
   "cell_type": "code",
   "execution_count": 1,
   "id": "b4990777",
   "metadata": {},
   "outputs": [],
   "source": [
    "seedN = 42"
   ]
  },
  {
   "cell_type": "code",
   "execution_count": 3,
   "id": "bc7489fa",
   "metadata": {
    "collapsed": true
   },
   "outputs": [
    {
     "name": "stdout",
     "output_type": "stream",
     "text": [
      "Collecting keras\n",
      "  Obtaining dependency information for keras from https://files.pythonhosted.org/packages/fc/a7/0d4490de967a67f68a538cc9cdb259bff971c4b5787f7765dc7c8f118f71/keras-2.15.0-py3-none-any.whl.metadata\n",
      "  Downloading keras-2.15.0-py3-none-any.whl.metadata (2.4 kB)\n",
      "Downloading keras-2.15.0-py3-none-any.whl (1.7 MB)\n",
      "\u001b[2K   \u001b[90m━━━━━━━━━━━━━━━━━━━━━━━━━━━━━━━━━━━━━━━━\u001b[0m \u001b[32m1.7/1.7 MB\u001b[0m \u001b[31m2.3 MB/s\u001b[0m eta \u001b[36m0:00:00\u001b[0ma \u001b[36m0:00:01\u001b[0m0m\n",
      "\u001b[?25hInstalling collected packages: keras\n",
      "Successfully installed keras-2.15.0\n"
     ]
    }
   ],
   "source": [
    "!pip install keras"
   ]
  },
  {
   "cell_type": "code",
   "execution_count": 5,
   "id": "283bc8e5",
   "metadata": {
    "collapsed": true
   },
   "outputs": [
    {
     "name": "stdout",
     "output_type": "stream",
     "text": [
      "Collecting tensorflow\n",
      "  Obtaining dependency information for tensorflow from https://files.pythonhosted.org/packages/85/15/cf99a373812d37f8ae99752a34a9f5f690d820ceb5b302e922705bc18944/tensorflow-2.15.0-cp311-cp311-macosx_12_0_arm64.whl.metadata\n",
      "  Downloading tensorflow-2.15.0-cp311-cp311-macosx_12_0_arm64.whl.metadata (3.6 kB)\n",
      "Collecting tensorflow-macos==2.15.0 (from tensorflow)\n",
      "  Obtaining dependency information for tensorflow-macos==2.15.0 from https://files.pythonhosted.org/packages/eb/9f/0759e2fea4a3c48f070b64811c2c57036b46353ba87263afc810b8f4188a/tensorflow_macos-2.15.0-cp311-cp311-macosx_12_0_arm64.whl.metadata\n",
      "  Downloading tensorflow_macos-2.15.0-cp311-cp311-macosx_12_0_arm64.whl.metadata (4.2 kB)\n",
      "Collecting absl-py>=1.0.0 (from tensorflow-macos==2.15.0->tensorflow)\n",
      "  Obtaining dependency information for absl-py>=1.0.0 from https://files.pythonhosted.org/packages/01/e4/dc0a1dcc4e74e08d7abedab278c795eef54a224363bb18f5692f416d834f/absl_py-2.0.0-py3-none-any.whl.metadata\n",
      "  Downloading absl_py-2.0.0-py3-none-any.whl.metadata (2.3 kB)\n",
      "Collecting astunparse>=1.6.0 (from tensorflow-macos==2.15.0->tensorflow)\n",
      "  Downloading astunparse-1.6.3-py2.py3-none-any.whl (12 kB)\n",
      "Collecting flatbuffers>=23.5.26 (from tensorflow-macos==2.15.0->tensorflow)\n",
      "  Obtaining dependency information for flatbuffers>=23.5.26 from https://files.pythonhosted.org/packages/6f/12/d5c79ee252793ffe845d58a913197bfa02ae9a0b5c9bc3dc4b58d477b9e7/flatbuffers-23.5.26-py2.py3-none-any.whl.metadata\n",
      "  Downloading flatbuffers-23.5.26-py2.py3-none-any.whl.metadata (850 bytes)\n",
      "Collecting gast!=0.5.0,!=0.5.1,!=0.5.2,>=0.2.1 (from tensorflow-macos==2.15.0->tensorflow)\n",
      "  Downloading gast-0.5.4-py3-none-any.whl (19 kB)\n",
      "Collecting google-pasta>=0.1.1 (from tensorflow-macos==2.15.0->tensorflow)\n",
      "  Downloading google_pasta-0.2.0-py3-none-any.whl (57 kB)\n",
      "\u001b[2K     \u001b[90m━━━━━━━━━━━━━━━━━━━━━━━━━━━━━━━━━━━━━━━\u001b[0m \u001b[32m57.5/57.5 kB\u001b[0m \u001b[31m552.6 kB/s\u001b[0m eta \u001b[36m0:00:00\u001b[0m \u001b[36m0:00:01\u001b[0m\n",
      "\u001b[?25hRequirement already satisfied: h5py>=2.9.0 in /Users/mashaelalmus/anaconda3/lib/python3.11/site-packages (from tensorflow-macos==2.15.0->tensorflow) (3.9.0)\n",
      "Collecting libclang>=13.0.0 (from tensorflow-macos==2.15.0->tensorflow)\n",
      "  Obtaining dependency information for libclang>=13.0.0 from https://files.pythonhosted.org/packages/32/1f/981809b77b71972beec34b3ff5422c1b1f7e519daac7b3cbd055c05ba2cf/libclang-16.0.6-py2.py3-none-macosx_11_0_arm64.whl.metadata\n",
      "  Downloading libclang-16.0.6-py2.py3-none-macosx_11_0_arm64.whl.metadata (5.2 kB)\n",
      "Collecting ml-dtypes~=0.2.0 (from tensorflow-macos==2.15.0->tensorflow)\n",
      "  Obtaining dependency information for ml-dtypes~=0.2.0 from https://files.pythonhosted.org/packages/15/da/43bee505963da0c730ee50e951c604bfdb90d4cccc9c0044c946b10e68a7/ml_dtypes-0.2.0-cp311-cp311-macosx_10_9_universal2.whl.metadata\n",
      "  Downloading ml_dtypes-0.2.0-cp311-cp311-macosx_10_9_universal2.whl.metadata (20 kB)\n",
      "Requirement already satisfied: numpy<2.0.0,>=1.23.5 in /Users/mashaelalmus/anaconda3/lib/python3.11/site-packages (from tensorflow-macos==2.15.0->tensorflow) (1.24.3)\n",
      "Collecting opt-einsum>=2.3.2 (from tensorflow-macos==2.15.0->tensorflow)\n",
      "  Downloading opt_einsum-3.3.0-py3-none-any.whl (65 kB)\n",
      "\u001b[2K     \u001b[90m━━━━━━━━━━━━━━━━━━━━━━━━━━━━━━━━━━━━━━━━\u001b[0m \u001b[32m65.5/65.5 kB\u001b[0m \u001b[31m1.8 MB/s\u001b[0m eta \u001b[36m0:00:00\u001b[0m\n",
      "\u001b[?25hRequirement already satisfied: packaging in /Users/mashaelalmus/anaconda3/lib/python3.11/site-packages (from tensorflow-macos==2.15.0->tensorflow) (23.1)\n",
      "Collecting protobuf!=4.21.0,!=4.21.1,!=4.21.2,!=4.21.3,!=4.21.4,!=4.21.5,<5.0.0dev,>=3.20.3 (from tensorflow-macos==2.15.0->tensorflow)\n",
      "  Obtaining dependency information for protobuf!=4.21.0,!=4.21.1,!=4.21.2,!=4.21.3,!=4.21.4,!=4.21.5,<5.0.0dev,>=3.20.3 from https://files.pythonhosted.org/packages/e6/db/7b2edc72807d45d72f9db42f3eb86ddaf37f9e55d923159b1dbfc9d835bc/protobuf-4.25.1-cp37-abi3-macosx_10_9_universal2.whl.metadata\n",
      "  Downloading protobuf-4.25.1-cp37-abi3-macosx_10_9_universal2.whl.metadata (541 bytes)\n",
      "Requirement already satisfied: setuptools in /Users/mashaelalmus/anaconda3/lib/python3.11/site-packages (from tensorflow-macos==2.15.0->tensorflow) (68.0.0)\n",
      "Requirement already satisfied: six>=1.12.0 in /Users/mashaelalmus/anaconda3/lib/python3.11/site-packages (from tensorflow-macos==2.15.0->tensorflow) (1.16.0)\n",
      "Collecting termcolor>=1.1.0 (from tensorflow-macos==2.15.0->tensorflow)\n",
      "  Downloading termcolor-2.3.0-py3-none-any.whl (6.9 kB)\n",
      "Requirement already satisfied: typing-extensions>=3.6.6 in /Users/mashaelalmus/anaconda3/lib/python3.11/site-packages (from tensorflow-macos==2.15.0->tensorflow) (4.7.1)\n",
      "Requirement already satisfied: wrapt<1.15,>=1.11.0 in /Users/mashaelalmus/anaconda3/lib/python3.11/site-packages (from tensorflow-macos==2.15.0->tensorflow) (1.14.1)\n",
      "Collecting tensorflow-io-gcs-filesystem>=0.23.1 (from tensorflow-macos==2.15.0->tensorflow)\n",
      "  Obtaining dependency information for tensorflow-io-gcs-filesystem>=0.23.1 from https://files.pythonhosted.org/packages/5b/e9/1444afc87596a90066704cc46ed661a4e7b348eec03a3fc2ca10ab917254/tensorflow_io_gcs_filesystem-0.34.0-cp311-cp311-macosx_12_0_arm64.whl.metadata\n",
      "  Downloading tensorflow_io_gcs_filesystem-0.34.0-cp311-cp311-macosx_12_0_arm64.whl.metadata (14 kB)\n",
      "Collecting grpcio<2.0,>=1.24.3 (from tensorflow-macos==2.15.0->tensorflow)\n",
      "  Obtaining dependency information for grpcio<2.0,>=1.24.3 from https://files.pythonhosted.org/packages/da/23/cf7f605f9a87ebcc03a677477d6ba0d012be466d1491c360e52264e33672/grpcio-1.59.2-cp311-cp311-macosx_10_10_universal2.whl.metadata\n",
      "  Downloading grpcio-1.59.2-cp311-cp311-macosx_10_10_universal2.whl.metadata (4.0 kB)\n",
      "Collecting tensorboard<2.16,>=2.15 (from tensorflow-macos==2.15.0->tensorflow)\n",
      "  Obtaining dependency information for tensorboard<2.16,>=2.15 from https://files.pythonhosted.org/packages/6e/0c/1059a6682cf2cc1fcc0d5327837b5672fe4f5574255fa5430d0a8ceb75e9/tensorboard-2.15.1-py3-none-any.whl.metadata\n",
      "  Downloading tensorboard-2.15.1-py3-none-any.whl.metadata (1.7 kB)\n",
      "Collecting tensorflow-estimator<2.16,>=2.15.0 (from tensorflow-macos==2.15.0->tensorflow)\n",
      "  Obtaining dependency information for tensorflow-estimator<2.16,>=2.15.0 from https://files.pythonhosted.org/packages/b6/c8/2f823c8958d5342eafc6dd3e922f0cc4fcf8c2e0460284cc462dae3b60a0/tensorflow_estimator-2.15.0-py2.py3-none-any.whl.metadata\n",
      "  Downloading tensorflow_estimator-2.15.0-py2.py3-none-any.whl.metadata (1.3 kB)\n",
      "Requirement already satisfied: keras<2.16,>=2.15.0 in /Users/mashaelalmus/anaconda3/lib/python3.11/site-packages (from tensorflow-macos==2.15.0->tensorflow) (2.15.0)\n",
      "Requirement already satisfied: wheel<1.0,>=0.23.0 in /Users/mashaelalmus/anaconda3/lib/python3.11/site-packages (from astunparse>=1.6.0->tensorflow-macos==2.15.0->tensorflow) (0.38.4)\n",
      "Collecting google-auth<3,>=1.6.3 (from tensorboard<2.16,>=2.15->tensorflow-macos==2.15.0->tensorflow)\n",
      "  Obtaining dependency information for google-auth<3,>=1.6.3 from https://files.pythonhosted.org/packages/86/a7/75911c13a242735d5aeaca6a272da380335ff4ba5f26d6b2ae20ff682d13/google_auth-2.23.4-py2.py3-none-any.whl.metadata\n",
      "  Downloading google_auth-2.23.4-py2.py3-none-any.whl.metadata (4.7 kB)\n",
      "Collecting google-auth-oauthlib<2,>=0.5 (from tensorboard<2.16,>=2.15->tensorflow-macos==2.15.0->tensorflow)\n",
      "  Obtaining dependency information for google-auth-oauthlib<2,>=0.5 from https://files.pythonhosted.org/packages/ce/33/a907b4b67245647746dde8d61e1643ef5d210c88e090d491efd89eff9f95/google_auth_oauthlib-1.1.0-py2.py3-none-any.whl.metadata\n",
      "  Downloading google_auth_oauthlib-1.1.0-py2.py3-none-any.whl.metadata (2.7 kB)\n",
      "Requirement already satisfied: markdown>=2.6.8 in /Users/mashaelalmus/anaconda3/lib/python3.11/site-packages (from tensorboard<2.16,>=2.15->tensorflow-macos==2.15.0->tensorflow) (3.4.1)\n",
      "Collecting protobuf!=4.21.0,!=4.21.1,!=4.21.2,!=4.21.3,!=4.21.4,!=4.21.5,<5.0.0dev,>=3.20.3 (from tensorflow-macos==2.15.0->tensorflow)\n",
      "  Obtaining dependency information for protobuf!=4.21.0,!=4.21.1,!=4.21.2,!=4.21.3,!=4.21.4,!=4.21.5,<5.0.0dev,>=3.20.3 from https://files.pythonhosted.org/packages/cb/d3/a164038605494d49acc4f9cda1c0bc200b96382c53edd561387263bb181d/protobuf-4.23.4-cp37-abi3-macosx_10_9_universal2.whl.metadata\n",
      "  Downloading protobuf-4.23.4-cp37-abi3-macosx_10_9_universal2.whl.metadata (540 bytes)\n",
      "Requirement already satisfied: requests<3,>=2.21.0 in /Users/mashaelalmus/anaconda3/lib/python3.11/site-packages (from tensorboard<2.16,>=2.15->tensorflow-macos==2.15.0->tensorflow) (2.31.0)\n",
      "Collecting tensorboard-data-server<0.8.0,>=0.7.0 (from tensorboard<2.16,>=2.15->tensorflow-macos==2.15.0->tensorflow)\n",
      "  Obtaining dependency information for tensorboard-data-server<0.8.0,>=0.7.0 from https://files.pythonhosted.org/packages/7a/13/e503968fefabd4c6b2650af21e110aa8466fe21432cd7c43a84577a89438/tensorboard_data_server-0.7.2-py3-none-any.whl.metadata\n",
      "  Downloading tensorboard_data_server-0.7.2-py3-none-any.whl.metadata (1.1 kB)\n",
      "Requirement already satisfied: werkzeug>=1.0.1 in /Users/mashaelalmus/anaconda3/lib/python3.11/site-packages (from tensorboard<2.16,>=2.15->tensorflow-macos==2.15.0->tensorflow) (2.2.3)\n",
      "Collecting cachetools<6.0,>=2.0.0 (from google-auth<3,>=1.6.3->tensorboard<2.16,>=2.15->tensorflow-macos==2.15.0->tensorflow)\n",
      "  Obtaining dependency information for cachetools<6.0,>=2.0.0 from https://files.pythonhosted.org/packages/a2/91/2d843adb9fbd911e0da45fbf6f18ca89d07a087c3daa23e955584f90ebf4/cachetools-5.3.2-py3-none-any.whl.metadata\n",
      "  Downloading cachetools-5.3.2-py3-none-any.whl.metadata (5.2 kB)\n",
      "Requirement already satisfied: pyasn1-modules>=0.2.1 in /Users/mashaelalmus/anaconda3/lib/python3.11/site-packages (from google-auth<3,>=1.6.3->tensorboard<2.16,>=2.15->tensorflow-macos==2.15.0->tensorflow) (0.2.8)\n",
      "Collecting rsa<5,>=3.1.4 (from google-auth<3,>=1.6.3->tensorboard<2.16,>=2.15->tensorflow-macos==2.15.0->tensorflow)\n",
      "  Downloading rsa-4.9-py3-none-any.whl (34 kB)\n",
      "Collecting requests-oauthlib>=0.7.0 (from google-auth-oauthlib<2,>=0.5->tensorboard<2.16,>=2.15->tensorflow-macos==2.15.0->tensorflow)\n",
      "  Downloading requests_oauthlib-1.3.1-py2.py3-none-any.whl (23 kB)\n",
      "Requirement already satisfied: charset-normalizer<4,>=2 in /Users/mashaelalmus/anaconda3/lib/python3.11/site-packages (from requests<3,>=2.21.0->tensorboard<2.16,>=2.15->tensorflow-macos==2.15.0->tensorflow) (2.0.4)\n",
      "Requirement already satisfied: idna<4,>=2.5 in /Users/mashaelalmus/anaconda3/lib/python3.11/site-packages (from requests<3,>=2.21.0->tensorboard<2.16,>=2.15->tensorflow-macos==2.15.0->tensorflow) (3.4)\n",
      "Requirement already satisfied: urllib3<3,>=1.21.1 in /Users/mashaelalmus/anaconda3/lib/python3.11/site-packages (from requests<3,>=2.21.0->tensorboard<2.16,>=2.15->tensorflow-macos==2.15.0->tensorflow) (1.26.16)\n",
      "Requirement already satisfied: certifi>=2017.4.17 in /Users/mashaelalmus/anaconda3/lib/python3.11/site-packages (from requests<3,>=2.21.0->tensorboard<2.16,>=2.15->tensorflow-macos==2.15.0->tensorflow) (2023.7.22)\n",
      "Requirement already satisfied: MarkupSafe>=2.1.1 in /Users/mashaelalmus/anaconda3/lib/python3.11/site-packages (from werkzeug>=1.0.1->tensorboard<2.16,>=2.15->tensorflow-macos==2.15.0->tensorflow) (2.1.1)\n",
      "Requirement already satisfied: pyasn1<0.5.0,>=0.4.6 in /Users/mashaelalmus/anaconda3/lib/python3.11/site-packages (from pyasn1-modules>=0.2.1->google-auth<3,>=1.6.3->tensorboard<2.16,>=2.15->tensorflow-macos==2.15.0->tensorflow) (0.4.8)\n",
      "Collecting oauthlib>=3.0.0 (from requests-oauthlib>=0.7.0->google-auth-oauthlib<2,>=0.5->tensorboard<2.16,>=2.15->tensorflow-macos==2.15.0->tensorflow)\n",
      "  Downloading oauthlib-3.2.2-py3-none-any.whl (151 kB)\n",
      "\u001b[2K     \u001b[90m━━━━━━━━━━━━━━━━━━━━━━━━━━━━━━━━━━━━━━━\u001b[0m \u001b[32m151.7/151.7 kB\u001b[0m \u001b[31m1.4 MB/s\u001b[0m eta \u001b[36m0:00:00\u001b[0ma \u001b[36m0:00:01\u001b[0m\n",
      "\u001b[?25hDownloading tensorflow-2.15.0-cp311-cp311-macosx_12_0_arm64.whl (2.1 kB)\n",
      "Downloading tensorflow_macos-2.15.0-cp311-cp311-macosx_12_0_arm64.whl (208.8 MB)\n",
      "\u001b[2K   \u001b[90m━━━━━━━━━━━━━━━━━━━━━━━━━━━━━━━━━━━━━━━━\u001b[0m \u001b[32m208.8/208.8 MB\u001b[0m \u001b[31m5.9 MB/s\u001b[0m eta \u001b[36m0:00:00\u001b[0m00:01\u001b[0m00:01\u001b[0mm\n",
      "\u001b[?25hDownloading absl_py-2.0.0-py3-none-any.whl (130 kB)\n",
      "\u001b[2K   \u001b[90m━━━━━━━━━━━━━━━━━━━━━━━━━━━━━━━━━━━━━━━━\u001b[0m \u001b[32m130.2/130.2 kB\u001b[0m \u001b[31m6.4 MB/s\u001b[0m eta \u001b[36m0:00:00\u001b[0m\n",
      "\u001b[?25hDownloading flatbuffers-23.5.26-py2.py3-none-any.whl (26 kB)\n",
      "Downloading grpcio-1.59.2-cp311-cp311-macosx_10_10_universal2.whl (9.5 MB)\n",
      "\u001b[2K   \u001b[90m━━━━━━━━━━━━━━━━━━━━━━━━━━━━━━━━━━━━━━━━\u001b[0m \u001b[32m9.5/9.5 MB\u001b[0m \u001b[31m8.1 MB/s\u001b[0m eta \u001b[36m0:00:00\u001b[0m00:01\u001b[0m00:01\u001b[0mm\n",
      "\u001b[?25hDownloading libclang-16.0.6-py2.py3-none-macosx_11_0_arm64.whl (20.6 MB)\n",
      "\u001b[2K   \u001b[90m━━━━━━━━━━━━━━━━━━━━━━━━━━━━━━━━━━━━━━━━\u001b[0m \u001b[32m20.6/20.6 MB\u001b[0m \u001b[31m6.8 MB/s\u001b[0m eta \u001b[36m0:00:00\u001b[0m00:01\u001b[0m00:01\u001b[0m\n",
      "\u001b[?25hDownloading ml_dtypes-0.2.0-cp311-cp311-macosx_10_9_universal2.whl (1.2 MB)\n",
      "\u001b[2K   \u001b[90m━━━━━━━━━━━━━━━━━━━━━━━━━━━━━━━━━━━━━━━━\u001b[0m \u001b[32m1.2/1.2 MB\u001b[0m \u001b[31m6.5 MB/s\u001b[0m eta \u001b[36m0:00:00\u001b[0m00:01\u001b[0m00:01\u001b[0m\n",
      "\u001b[?25hDownloading tensorboard-2.15.1-py3-none-any.whl (5.5 MB)\n",
      "\u001b[2K   \u001b[90m━━━━━━━━━━━━━━━━━━━━━━━━━━━━━━━━━━━━━━━━\u001b[0m \u001b[32m5.5/5.5 MB\u001b[0m \u001b[31m7.7 MB/s\u001b[0m eta \u001b[36m0:00:00\u001b[0m00:01\u001b[0m00:01\u001b[0m\n",
      "\u001b[?25hDownloading protobuf-4.23.4-cp37-abi3-macosx_10_9_universal2.whl (400 kB)\n",
      "\u001b[2K   \u001b[90m━━━━━━━━━━━━━━━━━━━━━━━━━━━━━━━━━━━━━━━━\u001b[0m \u001b[32m400.3/400.3 kB\u001b[0m \u001b[31m5.6 MB/s\u001b[0m eta \u001b[36m0:00:00\u001b[0mta \u001b[36m0:00:01\u001b[0m\n",
      "\u001b[?25hDownloading tensorflow_estimator-2.15.0-py2.py3-none-any.whl (441 kB)\n",
      "\u001b[2K   \u001b[90m━━━━━━━━━━━━━━━━━━━━━━━━━━━━━━━━━━━━━━━━\u001b[0m \u001b[32m442.0/442.0 kB\u001b[0m \u001b[31m9.2 MB/s\u001b[0m eta \u001b[36m0:00:00\u001b[0mta \u001b[36m0:00:01\u001b[0m\n",
      "\u001b[?25hDownloading tensorflow_io_gcs_filesystem-0.34.0-cp311-cp311-macosx_12_0_arm64.whl (1.9 MB)\n",
      "\u001b[2K   \u001b[90m━━━━━━━━━━━━━━━━━━━━━━━━━━━━━━━━━━━━━━━━\u001b[0m \u001b[32m1.9/1.9 MB\u001b[0m \u001b[31m6.0 MB/s\u001b[0m eta \u001b[36m0:00:00\u001b[0ma \u001b[36m0:00:01\u001b[0mm\n",
      "\u001b[?25hDownloading google_auth-2.23.4-py2.py3-none-any.whl (183 kB)\n",
      "\u001b[2K   \u001b[90m━━━━━━━━━━━━━━━━━━━━━━━━━━━━━━━━━━━━━━━━\u001b[0m \u001b[32m183.3/183.3 kB\u001b[0m \u001b[31m2.1 MB/s\u001b[0m eta \u001b[36m0:00:00\u001b[0ma \u001b[36m0:00:01\u001b[0m\n",
      "\u001b[?25hDownloading google_auth_oauthlib-1.1.0-py2.py3-none-any.whl (19 kB)\n",
      "Downloading tensorboard_data_server-0.7.2-py3-none-any.whl (2.4 kB)\n",
      "Downloading cachetools-5.3.2-py3-none-any.whl (9.3 kB)\n",
      "Installing collected packages: libclang, flatbuffers, termcolor, tensorflow-io-gcs-filesystem, tensorflow-estimator, tensorboard-data-server, rsa, protobuf, opt-einsum, oauthlib, ml-dtypes, grpcio, google-pasta, gast, cachetools, astunparse, absl-py, requests-oauthlib, google-auth, google-auth-oauthlib, tensorboard, tensorflow-macos, tensorflow\n",
      "Successfully installed absl-py-2.0.0 astunparse-1.6.3 cachetools-5.3.2 flatbuffers-23.5.26 gast-0.5.4 google-auth-2.23.4 google-auth-oauthlib-1.1.0 google-pasta-0.2.0 grpcio-1.59.2 libclang-16.0.6 ml-dtypes-0.2.0 oauthlib-3.2.2 opt-einsum-3.3.0 protobuf-4.23.4 requests-oauthlib-1.3.1 rsa-4.9 tensorboard-2.15.1 tensorboard-data-server-0.7.2 tensorflow-2.15.0 tensorflow-estimator-2.15.0 tensorflow-io-gcs-filesystem-0.34.0 tensorflow-macos-2.15.0 termcolor-2.3.0\n"
     ]
    }
   ],
   "source": [
    "!pip install tensorflow"
   ]
  },
  {
   "cell_type": "code",
   "execution_count": 2,
   "id": "ae676529",
   "metadata": {},
   "outputs": [
    {
     "name": "stdout",
     "output_type": "stream",
     "text": [
      "2.15.0\n",
      "2.15.0\n"
     ]
    }
   ],
   "source": [
    "import keras\n",
    "import tensorflow as tf\n",
    "\n",
    "print(keras.__version__)\n",
    "print(tf.__version__)"
   ]
  },
  {
   "cell_type": "code",
   "execution_count": 3,
   "id": "174fe412",
   "metadata": {},
   "outputs": [],
   "source": [
    "# import required libraries\n",
    "import os\n",
    "import random\n",
    "import numpy as np\n",
    "import shutil\n",
    "import random\n",
    "import matplotlib.pyplot as plt\n",
    "from PIL import Image\n",
    "from keras.models import Sequential\n",
    "import tensorflow as tf\n",
    "from keras.layers import Dense, Dropout, Flatten\n",
    "from sklearn.model_selection import train_test_split\n",
    "from tensorflow.keras.models import Model , load_model\n",
    "from tensorflow.keras.layers import Dense , Flatten\n",
    "from tensorflow.keras.preprocessing.image import ImageDataGenerator\n",
    "from tensorflow.keras.applications.resnet50 import preprocess_input\n",
    "from tensorflow.keras.optimizers import Adam \n",
    "from tensorflow.keras import layers\n",
    "\n",
    "\n",
    "# Set the seed value\n",
    "random.seed(seedN) \n",
    "np.random.seed(seedN)\n",
    "tf.random.set_seed(seedN)"
   ]
  },
  {
   "cell_type": "code",
   "execution_count": 4,
   "id": "bf41a0bc",
   "metadata": {},
   "outputs": [
    {
     "data": {
      "text/plain": [
       "['electrical_output',\n",
       " 'out_physical',\n",
       " 'weather_output',\n",
       " 'clean_output',\n",
       " 'snow_output']"
      ]
     },
     "execution_count": 4,
     "metadata": {},
     "output_type": "execute_result"
    }
   ],
   "source": [
    "# Classes list\n",
    "List_of_classes=[]\n",
    "def print_files_in_folder(folder_path):\n",
    "    files = os.listdir(folder_path)\n",
    "    for file in files:\n",
    "        if file != '.DS_Store':\n",
    "            List_of_classes.append(file)\n",
    "    return List_of_classes\n",
    "\n",
    "folder_path = '/Users/mashaelalmus/Desktop/cleaning_dataset_file/output'\n",
    "print_files_in_folder(folder_path)"
   ]
  },
  {
   "cell_type": "code",
   "execution_count": 5,
   "id": "5a6385ef",
   "metadata": {},
   "outputs": [
    {
     "data": {
      "text/plain": [
       "5"
      ]
     },
     "execution_count": 5,
     "metadata": {},
     "output_type": "execute_result"
    }
   ],
   "source": [
    "len(List_of_classes)"
   ]
  },
  {
   "cell_type": "code",
   "execution_count": 6,
   "id": "ca195f4b",
   "metadata": {},
   "outputs": [],
   "source": [
    "# Define the paths for tra, validate, and test sets\n",
    "train_path = '/Users/mashaelalmus/Desktop/cleaning_dataset_file/train'\n",
    "val_path   = '/Users/mashaelalmus/Desktop/cleaning_dataset_file/validation'\n",
    "test_path  = '/Users/mashaelalmus/Desktop/cleaning_dataset_file/test'"
   ]
  },
  {
   "cell_type": "code",
   "execution_count": 7,
   "id": "41bf2cca",
   "metadata": {},
   "outputs": [],
   "source": [
    "# Create the output directories if they don't exist\n",
    "os.makedirs(train_path, exist_ok=True)\n",
    "os.makedirs(val_path, exist_ok=True)\n",
    "os.makedirs(test_path, exist_ok=True)"
   ]
  },
  {
   "cell_type": "code",
   "execution_count": 8,
   "id": "3da9812e",
   "metadata": {},
   "outputs": [
    {
     "data": {
      "text/plain": [
       "['/Users/mashaelalmus/Desktop/cleaning_dataset_file/output/electrical_output',\n",
       " '/Users/mashaelalmus/Desktop/cleaning_dataset_file/output/out_physical',\n",
       " '/Users/mashaelalmus/Desktop/cleaning_dataset_file/output/weather_output',\n",
       " '/Users/mashaelalmus/Desktop/cleaning_dataset_file/output/clean_output',\n",
       " '/Users/mashaelalmus/Desktop/cleaning_dataset_file/output/snow_output']"
      ]
     },
     "execution_count": 8,
     "metadata": {},
     "output_type": "execute_result"
    }
   ],
   "source": [
    "dataset_path = \"/Users/mashaelalmus/Desktop/cleaning_dataset_file/output\"\n",
    "classes_path = []\n",
    "\n",
    "# Creating the path for each class\n",
    "for Class in List_of_classes:\n",
    "    classes_path.append(dataset_path+'/'+Class)\n",
    "\n",
    "classes_path"
   ]
  },
  {
   "cell_type": "code",
   "execution_count": 9,
   "id": "b173be8e",
   "metadata": {},
   "outputs": [],
   "source": [
    "# Creating paths for each class in the train, validate, and test sets\n",
    "\n",
    "train_classes = []\n",
    "validate_classes = []\n",
    "test_classes = []\n",
    "\n",
    "for Class in List_of_classes:\n",
    "    train_classes.append(train_path+'/'+Class)\n",
    "    validate_classes.append(val_path+'/'+Class)\n",
    "    test_classes.append(test_path+'/'+Class)\n"
   ]
  },
  {
   "cell_type": "code",
   "execution_count": 10,
   "id": "d1aff7f7",
   "metadata": {},
   "outputs": [
    {
     "data": {
      "text/plain": [
       "['/Users/mashaelalmus/Desktop/cleaning_dataset_file/train/electrical_output',\n",
       " '/Users/mashaelalmus/Desktop/cleaning_dataset_file/train/out_physical',\n",
       " '/Users/mashaelalmus/Desktop/cleaning_dataset_file/train/weather_output',\n",
       " '/Users/mashaelalmus/Desktop/cleaning_dataset_file/train/clean_output',\n",
       " '/Users/mashaelalmus/Desktop/cleaning_dataset_file/train/snow_output']"
      ]
     },
     "execution_count": 10,
     "metadata": {},
     "output_type": "execute_result"
    }
   ],
   "source": [
    "train_classes"
   ]
  },
  {
   "cell_type": "code",
   "execution_count": 11,
   "id": "d49930cc",
   "metadata": {},
   "outputs": [
    {
     "data": {
      "text/plain": [
       "['/Users/mashaelalmus/Desktop/cleaning_dataset_file/validation/electrical_output',\n",
       " '/Users/mashaelalmus/Desktop/cleaning_dataset_file/validation/out_physical',\n",
       " '/Users/mashaelalmus/Desktop/cleaning_dataset_file/validation/weather_output',\n",
       " '/Users/mashaelalmus/Desktop/cleaning_dataset_file/validation/clean_output',\n",
       " '/Users/mashaelalmus/Desktop/cleaning_dataset_file/validation/snow_output']"
      ]
     },
     "execution_count": 11,
     "metadata": {},
     "output_type": "execute_result"
    }
   ],
   "source": [
    "validate_classes"
   ]
  },
  {
   "cell_type": "code",
   "execution_count": 12,
   "id": "4c4d93fc",
   "metadata": {},
   "outputs": [
    {
     "data": {
      "text/plain": [
       "['/Users/mashaelalmus/Desktop/cleaning_dataset_file/test/electrical_output',\n",
       " '/Users/mashaelalmus/Desktop/cleaning_dataset_file/test/out_physical',\n",
       " '/Users/mashaelalmus/Desktop/cleaning_dataset_file/test/weather_output',\n",
       " '/Users/mashaelalmus/Desktop/cleaning_dataset_file/test/clean_output',\n",
       " '/Users/mashaelalmus/Desktop/cleaning_dataset_file/test/snow_output']"
      ]
     },
     "execution_count": 12,
     "metadata": {},
     "output_type": "execute_result"
    }
   ],
   "source": [
    "test_classes"
   ]
  },
  {
   "cell_type": "code",
   "execution_count": 13,
   "id": "cc89cd64",
   "metadata": {},
   "outputs": [],
   "source": [
    "for i in range(len(List_of_classes)):\n",
    "    os.makedirs(train_classes[i], exist_ok=True)\n",
    "    os.makedirs(validate_classes[i], exist_ok=True)\n",
    "    os.makedirs(test_classes[i], exist_ok=True)"
   ]
  },
  {
   "cell_type": "code",
   "execution_count": 14,
   "id": "a9901fc7",
   "metadata": {},
   "outputs": [],
   "source": [
    "classes = ['electrical_output',\n",
    " 'out_physical',\n",
    " 'weather_output',\n",
    " 'clean_output',\n",
    " 'snow_output']#'Leaves',\n",
    "\n",
    "# Set your base paths\n",
    "base_path = '/Users/mashaelalmus/Desktop/cleaning_dataset_file'\n",
    "\n",
    "# Iterate through each class\n",
    "for class_name in classes:\n",
    "    \n",
    "    #class_path = os.path.join(base_path, class_name)\n",
    "    class_path = folder_path + '/' + class_name\n",
    "    \n",
    "    # Get the list of files in the current class\n",
    "    class_files = os.listdir(class_path)\n",
    "    \n",
    "    # Split the files into train, validation, and test sets\n",
    "    train_files, test_val_files = train_test_split(class_files, train_size=0.8, random_state=42)\n",
    "    val_files, test_files = train_test_split(test_val_files, train_size=0.5, random_state=42)\n",
    "    \n",
    "    # Define paths for train, validation, and test folders\n",
    "    train_path = os.path.join(base_path, 'train', class_name)\n",
    "    val_path = os.path.join(base_path, 'validation', class_name)\n",
    "    test_path = os.path.join(base_path, 'test', class_name)\n",
    "    \n",
    "    # Create train, validation, and test folders if they don't exist\n",
    "    os.makedirs(train_path, exist_ok=True)\n",
    "    os.makedirs(val_path, exist_ok=True)\n",
    "    os.makedirs(test_path, exist_ok=True)\n",
    "    \n",
    "    # Copy files to their respective folders\n",
    "    for file in train_files:\n",
    "        src = os.path.join(class_path, file)\n",
    "        dst = os.path.join(train_path, file)\n",
    "        shutil.copy(src, dst)\n",
    "\n",
    "    for file in val_files:\n",
    "        src = os.path.join(class_path, file)\n",
    "        dst = os.path.join(val_path, file)\n",
    "        shutil.copy(src, dst)\n",
    "\n",
    "    for file in test_files:\n",
    "        src = os.path.join(class_path, file)\n",
    "        dst = os.path.join(test_path, file)\n",
    "        shutil.copy(src, dst)\n"
   ]
  },
  {
   "cell_type": "markdown",
   "id": "b6710244",
   "metadata": {},
   "source": [
    "# Start running the code after splitting the data"
   ]
  },
  {
   "cell_type": "code",
   "execution_count": 4,
   "id": "3b2bed07",
   "metadata": {},
   "outputs": [],
   "source": [
    "List_of_classes = ['electrical_output',\n",
    " 'out_physical',\n",
    " 'weather_output',\n",
    " 'clean_output',\n",
    " 'snow_output']"
   ]
  },
  {
   "cell_type": "code",
   "execution_count": 15,
   "id": "6016884d",
   "metadata": {},
   "outputs": [
    {
     "name": "stdout",
     "output_type": "stream",
     "text": [
      "Train Data:\n",
      "\t electrical_output :  111\n",
      "\t out_physical :  126\n",
      "\t weather_output :  195\n",
      "\t clean_output :  238\n",
      "\t snow_output :  82\n",
      "\n",
      "Validate Data:\n",
      "\t electrical_output :  14\n",
      "\t out_physical :  16\n",
      "\t weather_output :  24\n",
      "\t clean_output :  30\n",
      "\t snow_output :  10\n",
      "\n",
      "Test Data:\n",
      "\t electrical_output :  14\n",
      "\t out_physical :  16\n",
      "\t weather_output :  25\n",
      "\t clean_output :  30\n",
      "\t snow_output :  11\n"
     ]
    }
   ],
   "source": [
    "print(\"Train Data:\")\n",
    "for Class in List_of_classes:\n",
    "    print(\"\\t \"+ Class+\" : \" , len(os.listdir('/Users/mashaelalmus/Desktop/cleaning_dataset_file/train/'+Class)))\n",
    "\n",
    "print(\"\\nValidate Data:\")\n",
    "for Class in List_of_classes:\n",
    "    print(\"\\t \"+ Class+\" : \" , len(os.listdir('/Users/mashaelalmus/Desktop/cleaning_dataset_file/validation/'+Class)))\n",
    "    \n",
    "print(\"\\nTest Data:\")\n",
    "for Class in List_of_classes:\n",
    "    print(\"\\t \"+ Class+\" : \" , len(os.listdir('/Users/mashaelalmus/Desktop/cleaning_dataset_file/test/'+Class)))"
   ]
  },
  {
   "cell_type": "markdown",
   "id": "3be657b0",
   "metadata": {},
   "source": [
    "# \n",
    "# Preprocessing The Images"
   ]
  },
  {
   "cell_type": "code",
   "execution_count": 16,
   "id": "ef4b490e",
   "metadata": {},
   "outputs": [],
   "source": [
    "# Data preprocessing for train, validation, and test datasets\n",
    "\n",
    "train_datagen = ImageDataGenerator(rescale=1./255,\n",
    "                                   shear_range=0.3,\n",
    "                                   zoom_range=0.5, \n",
    "                                   horizontal_flip=True,\n",
    "                                   vertical_flip=True,\n",
    "                                   rotation_range=45, \n",
    "                                   width_shift_range=0.3,\n",
    "                                   height_shift_range=0.3,\n",
    "                                   brightness_range=[0.2,1.2])\n",
    "\n",
    "val_datagen = ImageDataGenerator(rescale=1./255)\n",
    "\n",
    "test_datagen = ImageDataGenerator(rescale=1./255)"
   ]
  },
  {
   "cell_type": "code",
   "execution_count": 17,
   "id": "006b651f",
   "metadata": {},
   "outputs": [],
   "source": [
    "train_directory = '/Users/mashaelalmus/Desktop/cleaning_dataset_file/train'\n",
    "val_directory   = '/Users/mashaelalmus/Desktop/cleaning_dataset_file/validation'\n",
    "test_directory  = '/Users/mashaelalmus/Desktop/cleaning_dataset_file/test'"
   ]
  },
  {
   "cell_type": "code",
   "execution_count": 18,
   "id": "a80bd36a",
   "metadata": {},
   "outputs": [
    {
     "name": "stdout",
     "output_type": "stream",
     "text": [
      "Found 750 images belonging to 5 classes.\n",
      "Found 94 images belonging to 5 classes.\n",
      "Found 96 images belonging to 5 classes.\n"
     ]
    }
   ],
   "source": [
    "image_size = (224, 224)\n",
    "\n",
    "train_generator = train_datagen.flow_from_directory(\n",
    "    train_directory,\n",
    "    target_size=image_size,\n",
    "    batch_size=32,\n",
    "    class_mode='categorical',\n",
    "    color_mode = \"rgb\",\n",
    "    shuffle=True,\n",
    "    seed = seedN)\n",
    "\n",
    "val_generator = val_datagen.flow_from_directory(\n",
    "    val_directory,\n",
    "    target_size=image_size,\n",
    "    batch_size=32,\n",
    "    class_mode='categorical',\n",
    "    color_mode  =\"rgb\",\n",
    "    shuffle=True,\n",
    "    seed = seedN)\n",
    "\n",
    "test_generator = test_datagen.flow_from_directory(\n",
    "    test_directory,\n",
    "    target_size=image_size,\n",
    "    batch_size=32,\n",
    "    class_mode='categorical',\n",
    "    color_mode  =\"rgb\",\n",
    "    shuffle=True,\n",
    "    seed = seedN)"
   ]
  },
  {
   "cell_type": "code",
   "execution_count": 19,
   "id": "19bca4b0",
   "metadata": {},
   "outputs": [
    {
     "name": "stdout",
     "output_type": "stream",
     "text": [
      "Total number of training images after augmentation: 750\n",
      "Total number of validation images after augmentation: 94\n",
      "Total number of test images after augmentation: 96\n"
     ]
    }
   ],
   "source": [
    "# Assuming you have the generators as described in your code\n",
    "\n",
    "# Print total number of images after augmentation for the training set\n",
    "total_train_images = train_generator.samples\n",
    "print(f\"Total number of training images after augmentation: {total_train_images}\")\n",
    "\n",
    "# Print total number of images after augmentation for the validation set\n",
    "total_val_images = val_generator.samples\n",
    "print(f\"Total number of validation images after augmentation: {total_val_images}\")\n",
    "\n",
    "# Print total number of images after augmentation for the test set\n",
    "total_test_images = test_generator.samples\n",
    "print(f\"Total number of test images after augmentation: {total_test_images}\")\n"
   ]
  },
  {
   "cell_type": "code",
   "execution_count": 20,
   "id": "baa754ba",
   "metadata": {},
   "outputs": [
    {
     "name": "stdout",
     "output_type": "stream",
     "text": [
      "{'clean_output': 0, 'electrical_output': 1, 'out_physical': 2, 'snow_output': 3, 'weather_output': 4}\n"
     ]
    }
   ],
   "source": [
    "# Check the class indices\n",
    "print(train_generator.class_indices)"
   ]
  },
  {
   "cell_type": "markdown",
   "id": "5c51fc07",
   "metadata": {},
   "source": [
    "# \n",
    "# Metrics"
   ]
  },
  {
   "cell_type": "code",
   "execution_count": 21,
   "id": "fff18989",
   "metadata": {},
   "outputs": [],
   "source": [
    "from tensorflow.keras import metrics as Metrics\n",
    "\n",
    "Prec = Metrics.Precision()\n",
    "Rec  = Metrics.Recall()\n",
    "Acc  = Metrics.Accuracy()\n",
    "\n",
    "mList = ['accuracy', Prec, Rec]"
   ]
  },
  {
   "cell_type": "markdown",
   "id": "6fa6ef90",
   "metadata": {},
   "source": [
    "# \n",
    "# Modeling"
   ]
  },
  {
   "cell_type": "markdown",
   "id": "1b57665e",
   "metadata": {},
   "source": [
    "# MobileNet"
   ]
  },
  {
   "cell_type": "code",
   "execution_count": 45,
   "id": "4c22ff78",
   "metadata": {},
   "outputs": [
    {
     "name": "stderr",
     "output_type": "stream",
     "text": [
      "WARNING:absl:At this time, the v2.11+ optimizer `tf.keras.optimizers.Adam` runs slowly on M1/M2 Macs, please use the legacy Keras optimizer instead, located at `tf.keras.optimizers.legacy.Adam`.\n"
     ]
    }
   ],
   "source": [
    "from keras.applications import MobileNet\n",
    "\n",
    "MobileNet_model = MobileNet(input_shape=(224, 224, 3), weights='imagenet', include_top=False , pooling='avg')\n",
    "\n",
    "for layer in MobileNet_model.layers:\n",
    "    layer.trainable = True\n",
    "\n",
    "\n",
    "model_mobilenet = Flatten()(MobileNet_model.output)\n",
    "model_mobilenet = layers.Dropout(0.0001)(model_mobilenet)\n",
    "model_mobilenet = Dense(256, activation='relu')(model_mobilenet)\n",
    "model_mobilenet = Dense(128, activation='relu')(model_mobilenet)\n",
    "model_mobilenet = Dense(64, activation='relu')(model_mobilenet)\n",
    "model_mobilenet = Dense(32, activation='relu')(model_mobilenet)\n",
    "model_mobilenet = Dense(16, activation='relu')(model_mobilenet)\n",
    "#model_mobilenet = Dense(10, activation='relu')(model_mobilenet)\n",
    "#model_mobilenet = layers.Dropout(0.0001)(model_mobilenet)\n",
    "model_mobilenet = Dense(5, activation='softmax')(model_mobilenet)\n",
    "\n",
    "model_mobilenet = Model(inputs=MobileNet_model.input, outputs=model_mobilenet)\n",
    "\n",
    "model_mobilenet.compile(loss='categorical_crossentropy', optimizer=Adam(learning_rate=0.0002), metrics=mList)"
   ]
  },
  {
   "cell_type": "code",
   "execution_count": 46,
   "id": "6058bc26",
   "metadata": {},
   "outputs": [],
   "source": [
    "from tensorflow.keras.callbacks import EarlyStopping, ModelCheckpoint\n",
    "\n",
    "# Define callbacks\n",
    "early_stoppingMN = EarlyStopping(monitor='val_loss', patience=20, restore_best_weights=True)\n",
    "model_checkpointMN = ModelCheckpoint('MobileNet_model.h5', monitor='val_loss', save_best_only=True)"
   ]
  },
  {
   "cell_type": "code",
   "execution_count": 47,
   "id": "7c6f0d4a",
   "metadata": {
    "scrolled": true
   },
   "outputs": [
    {
     "name": "stdout",
     "output_type": "stream",
     "text": [
      "Epoch 1/100\n",
      "24/24 [==============================] - 30s 1s/step - loss: 1.5549 - accuracy: 0.3427 - precision: 0.8542 - recall: 0.0969 - val_loss: 1.6062 - val_accuracy: 0.3191 - val_precision: 0.4043 - val_recall: 0.2021\n",
      "Epoch 2/100\n",
      "24/24 [==============================] - 26s 1s/step - loss: 1.3202 - accuracy: 0.4680 - precision: 0.7126 - recall: 0.1653 - val_loss: 1.3054 - val_accuracy: 0.5213 - val_precision: 0.5714 - val_recall: 0.2979\n",
      "Epoch 3/100\n",
      "24/24 [==============================] - 26s 1s/step - loss: 1.0941 - accuracy: 0.5880 - precision: 0.7970 - recall: 0.3560 - val_loss: 1.4096 - val_accuracy: 0.5851 - val_precision: 0.5802 - val_recall: 0.5000\n",
      "Epoch 4/100\n",
      "24/24 [==============================] - 25s 1s/step - loss: 0.8262 - accuracy: 0.7067 - precision: 0.8253 - recall: 0.5480 - val_loss: 0.8629 - val_accuracy: 0.7234 - val_precision: 0.7471 - val_recall: 0.6915\n",
      "Epoch 5/100\n",
      "24/24 [==============================] - 25s 1s/step - loss: 0.6895 - accuracy: 0.7653 - precision: 0.8391 - recall: 0.6813 - val_loss: 0.6903 - val_accuracy: 0.7553 - val_precision: 0.8000 - val_recall: 0.7234\n",
      "Epoch 6/100\n",
      "24/24 [==============================] - 26s 1s/step - loss: 0.6630 - accuracy: 0.7747 - precision: 0.8419 - recall: 0.7173 - val_loss: 0.6209 - val_accuracy: 0.7979 - val_precision: 0.8353 - val_recall: 0.7553\n",
      "Epoch 7/100\n",
      "24/24 [==============================] - 26s 1s/step - loss: 0.5898 - accuracy: 0.7920 - precision: 0.8422 - recall: 0.7400 - val_loss: 0.7043 - val_accuracy: 0.7660 - val_precision: 0.7692 - val_recall: 0.7447\n",
      "Epoch 8/100\n",
      "24/24 [==============================] - 26s 1s/step - loss: 0.4763 - accuracy: 0.8507 - precision: 0.8766 - recall: 0.8053 - val_loss: 0.4510 - val_accuracy: 0.8085 - val_precision: 0.8242 - val_recall: 0.7979\n",
      "Epoch 9/100\n",
      "24/24 [==============================] - 26s 1s/step - loss: 0.5138 - accuracy: 0.8160 - precision: 0.8520 - recall: 0.7907 - val_loss: 0.7836 - val_accuracy: 0.7447 - val_precision: 0.7692 - val_recall: 0.7447\n",
      "Epoch 10/100\n",
      "24/24 [==============================] - 26s 1s/step - loss: 0.4120 - accuracy: 0.8533 - precision: 0.8868 - recall: 0.8253 - val_loss: 0.9563 - val_accuracy: 0.7234 - val_precision: 0.7473 - val_recall: 0.7234\n",
      "Epoch 11/100\n",
      "24/24 [==============================] - 25s 1s/step - loss: 0.4062 - accuracy: 0.8693 - precision: 0.8949 - recall: 0.8400 - val_loss: 1.1117 - val_accuracy: 0.7872 - val_precision: 0.7912 - val_recall: 0.7660\n",
      "Epoch 12/100\n",
      "24/24 [==============================] - 26s 1s/step - loss: 0.3958 - accuracy: 0.8613 - precision: 0.8821 - recall: 0.8280 - val_loss: 0.7774 - val_accuracy: 0.7872 - val_precision: 0.7826 - val_recall: 0.7660\n",
      "Epoch 13/100\n",
      "24/24 [==============================] - 25s 1s/step - loss: 0.4078 - accuracy: 0.8507 - precision: 0.8789 - recall: 0.8320 - val_loss: 0.5368 - val_accuracy: 0.8404 - val_precision: 0.8587 - val_recall: 0.8404\n",
      "Epoch 14/100\n",
      "24/24 [==============================] - 25s 1s/step - loss: 0.3366 - accuracy: 0.8747 - precision: 0.9030 - recall: 0.8560 - val_loss: 0.7847 - val_accuracy: 0.7979 - val_precision: 0.8111 - val_recall: 0.7766\n",
      "Epoch 15/100\n",
      "24/24 [==============================] - 26s 1s/step - loss: 0.3917 - accuracy: 0.8680 - precision: 0.8854 - recall: 0.8347 - val_loss: 0.7577 - val_accuracy: 0.8085 - val_precision: 0.8261 - val_recall: 0.8085\n",
      "Epoch 16/100\n",
      "24/24 [==============================] - 26s 1s/step - loss: 0.3342 - accuracy: 0.8867 - precision: 0.9012 - recall: 0.8760 - val_loss: 0.8900 - val_accuracy: 0.7553 - val_precision: 0.7753 - val_recall: 0.7340\n",
      "Epoch 17/100\n",
      "24/24 [==============================] - 26s 1s/step - loss: 0.3215 - accuracy: 0.8867 - precision: 0.9018 - recall: 0.8693 - val_loss: 0.4487 - val_accuracy: 0.8617 - val_precision: 0.8710 - val_recall: 0.8617\n",
      "Epoch 18/100\n",
      "24/24 [==============================] - 25s 1s/step - loss: 0.2874 - accuracy: 0.9107 - precision: 0.9267 - recall: 0.8933 - val_loss: 0.5081 - val_accuracy: 0.8723 - val_precision: 0.8804 - val_recall: 0.8617\n",
      "Epoch 19/100\n",
      "24/24 [==============================] - 25s 1s/step - loss: 0.2616 - accuracy: 0.9147 - precision: 0.9315 - recall: 0.9067 - val_loss: 0.7173 - val_accuracy: 0.8085 - val_precision: 0.8085 - val_recall: 0.8085\n",
      "Epoch 20/100\n",
      "24/24 [==============================] - 25s 1s/step - loss: 0.3122 - accuracy: 0.8867 - precision: 0.8997 - recall: 0.8733 - val_loss: 0.5477 - val_accuracy: 0.8298 - val_precision: 0.8387 - val_recall: 0.8298\n",
      "Epoch 21/100\n",
      "24/24 [==============================] - 25s 1s/step - loss: 0.2565 - accuracy: 0.9213 - precision: 0.9298 - recall: 0.9013 - val_loss: 0.4786 - val_accuracy: 0.8404 - val_precision: 0.8495 - val_recall: 0.8404\n",
      "Epoch 22/100\n",
      "24/24 [==============================] - 25s 1s/step - loss: 0.2460 - accuracy: 0.9067 - precision: 0.9242 - recall: 0.8947 - val_loss: 0.7446 - val_accuracy: 0.8404 - val_precision: 0.8404 - val_recall: 0.8404\n",
      "Epoch 23/100\n",
      "24/24 [==============================] - 25s 1s/step - loss: 0.2716 - accuracy: 0.9120 - precision: 0.9208 - recall: 0.8987 - val_loss: 0.9013 - val_accuracy: 0.7553 - val_precision: 0.7553 - val_recall: 0.7553\n",
      "Epoch 24/100\n",
      "24/24 [==============================] - 25s 1s/step - loss: 0.1922 - accuracy: 0.9413 - precision: 0.9525 - recall: 0.9360 - val_loss: 0.4840 - val_accuracy: 0.8936 - val_precision: 0.8936 - val_recall: 0.8936\n",
      "Epoch 25/100\n",
      "24/24 [==============================] - 25s 1s/step - loss: 0.1634 - accuracy: 0.9427 - precision: 0.9523 - recall: 0.9307 - val_loss: 0.5442 - val_accuracy: 0.8830 - val_precision: 0.8925 - val_recall: 0.8830\n",
      "Epoch 26/100\n",
      "24/24 [==============================] - 25s 1s/step - loss: 0.2118 - accuracy: 0.9253 - precision: 0.9325 - recall: 0.9213 - val_loss: 0.5280 - val_accuracy: 0.9043 - val_precision: 0.9140 - val_recall: 0.9043\n",
      "Epoch 27/100\n",
      "24/24 [==============================] - 25s 1s/step - loss: 0.2049 - accuracy: 0.9333 - precision: 0.9415 - recall: 0.9227 - val_loss: 0.5976 - val_accuracy: 0.8511 - val_precision: 0.8511 - val_recall: 0.8511\n",
      "Epoch 28/100\n",
      "24/24 [==============================] - 25s 1s/step - loss: 0.2820 - accuracy: 0.9013 - precision: 0.9130 - recall: 0.8960 - val_loss: 0.5220 - val_accuracy: 0.8617 - val_precision: 0.8710 - val_recall: 0.8617\n",
      "Epoch 29/100\n",
      "24/24 [==============================] - 25s 1s/step - loss: 0.2111 - accuracy: 0.9400 - precision: 0.9469 - recall: 0.9280 - val_loss: 0.6121 - val_accuracy: 0.8617 - val_precision: 0.8710 - val_recall: 0.8617\n",
      "Epoch 30/100\n",
      "24/24 [==============================] - 25s 1s/step - loss: 0.1964 - accuracy: 0.9400 - precision: 0.9453 - recall: 0.9213 - val_loss: 0.4482 - val_accuracy: 0.8936 - val_precision: 0.9011 - val_recall: 0.8723\n",
      "Epoch 31/100\n",
      "24/24 [==============================] - 25s 1s/step - loss: 0.1691 - accuracy: 0.9360 - precision: 0.9480 - recall: 0.9240 - val_loss: 0.4600 - val_accuracy: 0.8936 - val_precision: 0.9032 - val_recall: 0.8936\n",
      "Epoch 32/100\n",
      "24/24 [==============================] - 26s 1s/step - loss: 0.1478 - accuracy: 0.9467 - precision: 0.9568 - recall: 0.9440 - val_loss: 0.5223 - val_accuracy: 0.8617 - val_precision: 0.8710 - val_recall: 0.8617\n",
      "Epoch 33/100\n",
      "24/24 [==============================] - 25s 1s/step - loss: 0.1355 - accuracy: 0.9520 - precision: 0.9582 - recall: 0.9480 - val_loss: 0.5141 - val_accuracy: 0.8830 - val_precision: 0.8830 - val_recall: 0.8830\n",
      "Epoch 34/100\n",
      "24/24 [==============================] - 26s 1s/step - loss: 0.1784 - accuracy: 0.9453 - precision: 0.9514 - recall: 0.9400 - val_loss: 0.4949 - val_accuracy: 0.8830 - val_precision: 0.8925 - val_recall: 0.8830\n",
      "Epoch 35/100\n",
      "24/24 [==============================] - 26s 1s/step - loss: 0.1917 - accuracy: 0.9347 - precision: 0.9407 - recall: 0.9307 - val_loss: 0.6656 - val_accuracy: 0.8723 - val_precision: 0.8817 - val_recall: 0.8723\n",
      "Epoch 36/100\n",
      "24/24 [==============================] - 25s 1s/step - loss: 0.1448 - accuracy: 0.9573 - precision: 0.9610 - recall: 0.9520 - val_loss: 0.6757 - val_accuracy: 0.8723 - val_precision: 0.8723 - val_recall: 0.8723\n",
      "Epoch 37/100\n",
      "24/24 [==============================] - 25s 1s/step - loss: 0.1805 - accuracy: 0.9387 - precision: 0.9435 - recall: 0.9347 - val_loss: 0.9618 - val_accuracy: 0.8404 - val_precision: 0.8495 - val_recall: 0.8404\n",
      "Epoch 38/100\n",
      "24/24 [==============================] - 25s 1s/step - loss: 0.1357 - accuracy: 0.9547 - precision: 0.9634 - recall: 0.9467 - val_loss: 0.6535 - val_accuracy: 0.8936 - val_precision: 0.9032 - val_recall: 0.8936\n",
      "Epoch 39/100\n",
      "24/24 [==============================] - 26s 1s/step - loss: 0.1665 - accuracy: 0.9480 - precision: 0.9503 - recall: 0.9440 - val_loss: 0.5406 - val_accuracy: 0.8830 - val_precision: 0.8817 - val_recall: 0.8723\n",
      "Epoch 40/100\n",
      "24/24 [==============================] - 25s 1s/step - loss: 0.1643 - accuracy: 0.9333 - precision: 0.9405 - recall: 0.9267 - val_loss: 0.5463 - val_accuracy: 0.9043 - val_precision: 0.9043 - val_recall: 0.9043\n",
      "Epoch 41/100\n",
      "24/24 [==============================] - 25s 1s/step - loss: 0.1454 - accuracy: 0.9453 - precision: 0.9528 - recall: 0.9427 - val_loss: 0.4325 - val_accuracy: 0.9362 - val_precision: 0.9355 - val_recall: 0.9255\n",
      "Epoch 42/100\n",
      "24/24 [==============================] - 25s 1s/step - loss: 0.1360 - accuracy: 0.9547 - precision: 0.9596 - recall: 0.9507 - val_loss: 0.5228 - val_accuracy: 0.8936 - val_precision: 0.9022 - val_recall: 0.8830\n",
      "Epoch 43/100\n",
      "24/24 [==============================] - 26s 1s/step - loss: 0.1563 - accuracy: 0.9467 - precision: 0.9476 - recall: 0.9400 - val_loss: 0.8302 - val_accuracy: 0.8298 - val_precision: 0.8280 - val_recall: 0.8191\n",
      "Epoch 44/100\n",
      "24/24 [==============================] - 25s 1s/step - loss: 0.1615 - accuracy: 0.9520 - precision: 0.9531 - recall: 0.9493 - val_loss: 0.7540 - val_accuracy: 0.8617 - val_precision: 0.8696 - val_recall: 0.8511\n",
      "Epoch 45/100\n",
      "24/24 [==============================] - 25s 1s/step - loss: 0.1303 - accuracy: 0.9600 - precision: 0.9612 - recall: 0.9573 - val_loss: 0.5760 - val_accuracy: 0.8617 - val_precision: 0.8710 - val_recall: 0.8617\n",
      "Epoch 46/100\n",
      "24/24 [==============================] - 25s 1s/step - loss: 0.1392 - accuracy: 0.9493 - precision: 0.9542 - recall: 0.9440 - val_loss: 0.7059 - val_accuracy: 0.8936 - val_precision: 0.8936 - val_recall: 0.8936\n",
      "Epoch 47/100\n",
      "24/24 [==============================] - 25s 1s/step - loss: 0.1643 - accuracy: 0.9467 - precision: 0.9541 - recall: 0.9413 - val_loss: 0.8421 - val_accuracy: 0.8404 - val_precision: 0.8387 - val_recall: 0.8298\n",
      "Epoch 48/100\n",
      "24/24 [==============================] - 25s 1s/step - loss: 0.2378 - accuracy: 0.9227 - precision: 0.9252 - recall: 0.9067 - val_loss: 0.9592 - val_accuracy: 0.7660 - val_precision: 0.7660 - val_recall: 0.7660\n",
      "Epoch 49/100\n",
      "24/24 [==============================] - 25s 1s/step - loss: 0.1434 - accuracy: 0.9467 - precision: 0.9566 - recall: 0.9400 - val_loss: 0.6558 - val_accuracy: 0.9043 - val_precision: 0.9043 - val_recall: 0.9043\n",
      "Epoch 50/100\n",
      "24/24 [==============================] - 25s 1s/step - loss: 0.1464 - accuracy: 0.9480 - precision: 0.9568 - recall: 0.9453 - val_loss: 0.5589 - val_accuracy: 0.8830 - val_precision: 0.8830 - val_recall: 0.8830\n",
      "Epoch 51/100\n",
      "24/24 [==============================] - 25s 1s/step - loss: 0.2040 - accuracy: 0.9267 - precision: 0.9364 - recall: 0.9227 - val_loss: 0.7700 - val_accuracy: 0.8511 - val_precision: 0.8511 - val_recall: 0.8511\n",
      "Epoch 52/100\n",
      "24/24 [==============================] - 25s 1s/step - loss: 0.1326 - accuracy: 0.9520 - precision: 0.9584 - recall: 0.9520 - val_loss: 0.6975 - val_accuracy: 0.8511 - val_precision: 0.8696 - val_recall: 0.8511\n",
      "Epoch 53/100\n",
      "24/24 [==============================] - 25s 1s/step - loss: 0.1488 - accuracy: 0.9520 - precision: 0.9531 - recall: 0.9480 - val_loss: 0.8545 - val_accuracy: 0.8191 - val_precision: 0.8191 - val_recall: 0.8191\n",
      "Epoch 54/100\n",
      "24/24 [==============================] - 25s 1s/step - loss: 0.1998 - accuracy: 0.9387 - precision: 0.9411 - recall: 0.9373 - val_loss: 0.7835 - val_accuracy: 0.8298 - val_precision: 0.8387 - val_recall: 0.8298\n",
      "Epoch 55/100\n",
      "24/24 [==============================] - 25s 1s/step - loss: 0.1395 - accuracy: 0.9520 - precision: 0.9569 - recall: 0.9480 - val_loss: 0.9247 - val_accuracy: 0.8085 - val_precision: 0.8065 - val_recall: 0.7979\n",
      "Epoch 56/100\n",
      "24/24 [==============================] - 25s 1s/step - loss: 0.1664 - accuracy: 0.9493 - precision: 0.9490 - recall: 0.9427 - val_loss: 0.6788 - val_accuracy: 0.8617 - val_precision: 0.8617 - val_recall: 0.8617\n",
      "Epoch 57/100\n",
      "24/24 [==============================] - 25s 1s/step - loss: 0.1314 - accuracy: 0.9547 - precision: 0.9583 - recall: 0.9507 - val_loss: 0.9479 - val_accuracy: 0.8191 - val_precision: 0.8280 - val_recall: 0.8191\n",
      "Epoch 58/100\n",
      "24/24 [==============================] - 25s 1s/step - loss: 0.1313 - accuracy: 0.9533 - precision: 0.9558 - recall: 0.9520 - val_loss: 0.5577 - val_accuracy: 0.8830 - val_precision: 0.8830 - val_recall: 0.8830\n",
      "Epoch 59/100\n",
      "24/24 [==============================] - 26s 1s/step - loss: 0.1428 - accuracy: 0.9493 - precision: 0.9517 - recall: 0.9453 - val_loss: 0.6657 - val_accuracy: 0.8617 - val_precision: 0.8617 - val_recall: 0.8617\n",
      "Epoch 60/100\n",
      "24/24 [==============================] - 25s 1s/step - loss: 0.1463 - accuracy: 0.9560 - precision: 0.9594 - recall: 0.9453 - val_loss: 0.5407 - val_accuracy: 0.8936 - val_precision: 0.8936 - val_recall: 0.8936\n",
      "Epoch 61/100\n",
      "24/24 [==============================] - 26s 1s/step - loss: 0.1334 - accuracy: 0.9507 - precision: 0.9566 - recall: 0.9400 - val_loss: 0.6153 - val_accuracy: 0.8617 - val_precision: 0.8710 - val_recall: 0.8617\n"
     ]
    }
   ],
   "source": [
    "mobNet_model =  model_mobilenet.fit(train_generator, \n",
    "                                      steps_per_epoch=len(train_generator), \n",
    "                                      epochs=100,\n",
    "                                      batch_size=64,\n",
    "                                      validation_data=val_generator, \n",
    "                                      validation_steps=len(val_generator),\n",
    "                                      callbacks=[early_stoppingMN, model_checkpointMN]\n",
    "                                     )"
   ]
  },
  {
   "cell_type": "code",
   "execution_count": 48,
   "id": "97baf04a",
   "metadata": {},
   "outputs": [
    {
     "name": "stdout",
     "output_type": "stream",
     "text": [
      "3/3 [==============================] - 1s 335ms/step - loss: 0.3935 - accuracy: 0.9167 - precision: 0.9263 - recall: 0.9167\n",
      "MobileNet Test loss: 0.3935047388076782\n",
      "MobileNet Test accuracy: 0.9166666865348816\n",
      "MobileNet Test precision: 0.9263157844543457\n",
      "MobileNet Test recall: 0.9166666865348816\n"
     ]
    }
   ],
   "source": [
    "Mob_score = model_mobilenet.evaluate(test_generator)\n",
    "\n",
    "print('MobileNet Test loss:', Mob_score[0])\n",
    "print('MobileNet Test accuracy:', Mob_score[1])\n",
    "print('MobileNet Test precision:', Mob_score[2])\n",
    "print('MobileNet Test recall:', Mob_score[3])"
   ]
  },
  {
   "cell_type": "code",
   "execution_count": 49,
   "id": "02fb54ad",
   "metadata": {},
   "outputs": [
    {
     "data": {
      "image/png": "[encoded data removed]",
      "text/plain": [
       "<Figure size 640x480 with 1 Axes>"
      ]
     },
     "metadata": {},
     "output_type": "display_data"
    },
    {
     "data": {
      "image/png": "[encoded data removed]",
      "text/plain": [
       "<Figure size 640x480 with 1 Axes>"
      ]
     },
     "metadata": {},
     "output_type": "display_data"
    }
   ],
   "source": [
    "import matplotlib.pyplot as plt\n",
    "# plot the loss\n",
    "plt.plot(mobNet_model.history['loss'], label='train loss', color=\"red\")\n",
    "plt.plot(mobNet_model.history['val_loss'], label='val loss', color=\"blue\")\n",
    "plt.title('MobileNet Model Loss')\n",
    "plt.ylabel('Loss')\n",
    "plt.xlabel('Epoch')\n",
    "plt.legend()\n",
    "plt.show()\n",
    "\n",
    "# plot the accuracy\n",
    "plt.plot(mobNet_model.history['accuracy'], label='train acc')\n",
    "plt.plot(mobNet_model.history['val_accuracy'], label='val acc')\n",
    "plt.title('MobileNet Model Accuracy')\n",
    "plt.ylabel('Accuracy')\n",
    "plt.xlabel('Epoch')\n",
    "plt.legend()\n",
    "plt.show()"
   ]
  }
 ],
 "metadata": {
  "kernelspec": {
   "display_name": "Python 3 (ipykernel)",
   "language": "python",
   "name": "python3"
  },
  "language_info": {
   "codemirror_mode": {
    "name": "ipython",
    "version": 3
   },
   "file_extension": ".py",
   "mimetype": "text/x-python",
   "name": "python",
   "nbconvert_exporter": "python",
   "pygments_lexer": "ipython3",
   "version": "3.9.13"
  }
 },
 "nbformat": 4,
 "nbformat_minor": 5
}
