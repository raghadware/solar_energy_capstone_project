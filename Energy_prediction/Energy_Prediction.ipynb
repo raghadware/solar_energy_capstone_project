{
 "cells": [
  {
   "cell_type": "code",
   "execution_count": 1,
   "id": "f35564ae-6bd8-48ad-8f35-0e556667290e",
   "metadata": {
    "tags": []
   },
   "outputs": [],
   "source": [
    "import numpy as np \n",
    "import pandas as pd \n",
    "import os \n",
    "import seaborn as sns\n",
    "import matplotlib.pyplot as plt\n",
    "from sklearn.preprocessing import OrdinalEncoder\n",
    "from sklearn.preprocessing import LabelEncoder\n",
    "from sklearn.model_selection import train_test_split\n",
    "from sklearn.linear_model import LinearRegression\n",
    "from sklearn.metrics import r2_score\n",
    "from sklearn.linear_model import Ridge\n",
    "from sklearn.metrics import mean_absolute_error\n",
    "from sklearn.metrics import mean_squared_error\n",
    "from sklearn.tree import DecisionTreeRegressor\n",
    "from sklearn.svm import SVR\n",
    "from sklearn.ensemble import RandomForestRegressor\n",
    "from sklearn.model_selection import GridSearchCV\n",
    "from sklearn.preprocessing import MinMaxScaler\n",
    "from sklearn.preprocessing import StandardScaler\n",
    "from tensorflow.keras.models import Sequential\n",
    "from tensorflow.keras.layers import LSTM, Dense\n",
    "\n",
    "import warnings\n",
    "warnings.filterwarnings(\"ignore\")"
   ]
  },
  {
   "cell_type": "markdown",
   "id": "7c503716-123c-4aaa-8856-197d437f52a7",
   "metadata": {},
   "source": [
    "# Generation Power Dataset"
   ]
  },
  {
   "cell_type": "code",
   "execution_count": 2,
   "id": "4a77e30c-fa08-4a52-9f67-7f8b21906abf",
   "metadata": {
    "tags": []
   },
   "outputs": [
    {
     "data": {
      "text/html": [
       "<div>\n",
       "<style scoped>\n",
       "    .dataframe tbody tr th:only-of-type {\n",
       "        vertical-align: middle;\n",
       "    }\n",
       "\n",
       "    .dataframe tbody tr th {\n",
       "        vertical-align: top;\n",
       "    }\n",
       "\n",
       "    .dataframe thead th {\n",
       "        text-align: right;\n",
       "    }\n",
       "</style>\n",
       "<table border=\"1\" class=\"dataframe\">\n",
       "  <thead>\n",
       "    <tr style=\"text-align: right;\">\n",
       "      <th></th>\n",
       "      <th>DATE_TIME</th>\n",
       "      <th>PLANT_ID</th>\n",
       "      <th>SOURCE_KEY</th>\n",
       "      <th>DC_POWER</th>\n",
       "      <th>AC_POWER</th>\n",
       "      <th>DAILY_YIELD</th>\n",
       "      <th>TOTAL_YIELD</th>\n",
       "    </tr>\n",
       "  </thead>\n",
       "  <tbody>\n",
       "    <tr>\n",
       "      <th>0</th>\n",
       "      <td>15-05-2020 00:00</td>\n",
       "      <td>4135001</td>\n",
       "      <td>1BY6WEcLGh8j5v7</td>\n",
       "      <td>0.0</td>\n",
       "      <td>0.0</td>\n",
       "      <td>0.000</td>\n",
       "      <td>6259559.0</td>\n",
       "    </tr>\n",
       "    <tr>\n",
       "      <th>1</th>\n",
       "      <td>15-05-2020 00:00</td>\n",
       "      <td>4135001</td>\n",
       "      <td>1IF53ai7Xc0U56Y</td>\n",
       "      <td>0.0</td>\n",
       "      <td>0.0</td>\n",
       "      <td>0.000</td>\n",
       "      <td>6183645.0</td>\n",
       "    </tr>\n",
       "    <tr>\n",
       "      <th>2</th>\n",
       "      <td>15-05-2020 00:00</td>\n",
       "      <td>4135001</td>\n",
       "      <td>3PZuoBAID5Wc2HD</td>\n",
       "      <td>0.0</td>\n",
       "      <td>0.0</td>\n",
       "      <td>0.000</td>\n",
       "      <td>6987759.0</td>\n",
       "    </tr>\n",
       "    <tr>\n",
       "      <th>3</th>\n",
       "      <td>15-05-2020 00:00</td>\n",
       "      <td>4135001</td>\n",
       "      <td>7JYdWkrLSPkdwr4</td>\n",
       "      <td>0.0</td>\n",
       "      <td>0.0</td>\n",
       "      <td>0.000</td>\n",
       "      <td>7602960.0</td>\n",
       "    </tr>\n",
       "    <tr>\n",
       "      <th>4</th>\n",
       "      <td>15-05-2020 00:00</td>\n",
       "      <td>4135001</td>\n",
       "      <td>McdE0feGgRqW7Ca</td>\n",
       "      <td>0.0</td>\n",
       "      <td>0.0</td>\n",
       "      <td>0.000</td>\n",
       "      <td>7158964.0</td>\n",
       "    </tr>\n",
       "    <tr>\n",
       "      <th>...</th>\n",
       "      <td>...</td>\n",
       "      <td>...</td>\n",
       "      <td>...</td>\n",
       "      <td>...</td>\n",
       "      <td>...</td>\n",
       "      <td>...</td>\n",
       "      <td>...</td>\n",
       "    </tr>\n",
       "    <tr>\n",
       "      <th>68773</th>\n",
       "      <td>17-06-2020 23:45</td>\n",
       "      <td>4135001</td>\n",
       "      <td>uHbuxQJl8lW7ozc</td>\n",
       "      <td>0.0</td>\n",
       "      <td>0.0</td>\n",
       "      <td>5967.000</td>\n",
       "      <td>7287002.0</td>\n",
       "    </tr>\n",
       "    <tr>\n",
       "      <th>68774</th>\n",
       "      <td>17-06-2020 23:45</td>\n",
       "      <td>4135001</td>\n",
       "      <td>wCURE6d3bPkepu2</td>\n",
       "      <td>0.0</td>\n",
       "      <td>0.0</td>\n",
       "      <td>5147.625</td>\n",
       "      <td>7028601.0</td>\n",
       "    </tr>\n",
       "    <tr>\n",
       "      <th>68775</th>\n",
       "      <td>17-06-2020 23:45</td>\n",
       "      <td>4135001</td>\n",
       "      <td>z9Y9gH1T5YWrNuG</td>\n",
       "      <td>0.0</td>\n",
       "      <td>0.0</td>\n",
       "      <td>5819.000</td>\n",
       "      <td>7251204.0</td>\n",
       "    </tr>\n",
       "    <tr>\n",
       "      <th>68776</th>\n",
       "      <td>17-06-2020 23:45</td>\n",
       "      <td>4135001</td>\n",
       "      <td>zBIq5rxdHJRwDNY</td>\n",
       "      <td>0.0</td>\n",
       "      <td>0.0</td>\n",
       "      <td>5817.000</td>\n",
       "      <td>6583369.0</td>\n",
       "    </tr>\n",
       "    <tr>\n",
       "      <th>68777</th>\n",
       "      <td>17-06-2020 23:45</td>\n",
       "      <td>4135001</td>\n",
       "      <td>zVJPv84UY57bAof</td>\n",
       "      <td>0.0</td>\n",
       "      <td>0.0</td>\n",
       "      <td>5910.000</td>\n",
       "      <td>7363272.0</td>\n",
       "    </tr>\n",
       "  </tbody>\n",
       "</table>\n",
       "<p>68778 rows × 7 columns</p>\n",
       "</div>"
      ],
      "text/plain": [
       "              DATE_TIME  PLANT_ID       SOURCE_KEY  DC_POWER  AC_POWER  \\\n",
       "0      15-05-2020 00:00   4135001  1BY6WEcLGh8j5v7       0.0       0.0   \n",
       "1      15-05-2020 00:00   4135001  1IF53ai7Xc0U56Y       0.0       0.0   \n",
       "2      15-05-2020 00:00   4135001  3PZuoBAID5Wc2HD       0.0       0.0   \n",
       "3      15-05-2020 00:00   4135001  7JYdWkrLSPkdwr4       0.0       0.0   \n",
       "4      15-05-2020 00:00   4135001  McdE0feGgRqW7Ca       0.0       0.0   \n",
       "...                 ...       ...              ...       ...       ...   \n",
       "68773  17-06-2020 23:45   4135001  uHbuxQJl8lW7ozc       0.0       0.0   \n",
       "68774  17-06-2020 23:45   4135001  wCURE6d3bPkepu2       0.0       0.0   \n",
       "68775  17-06-2020 23:45   4135001  z9Y9gH1T5YWrNuG       0.0       0.0   \n",
       "68776  17-06-2020 23:45   4135001  zBIq5rxdHJRwDNY       0.0       0.0   \n",
       "68777  17-06-2020 23:45   4135001  zVJPv84UY57bAof       0.0       0.0   \n",
       "\n",
       "       DAILY_YIELD  TOTAL_YIELD  \n",
       "0            0.000    6259559.0  \n",
       "1            0.000    6183645.0  \n",
       "2            0.000    6987759.0  \n",
       "3            0.000    7602960.0  \n",
       "4            0.000    7158964.0  \n",
       "...            ...          ...  \n",
       "68773     5967.000    7287002.0  \n",
       "68774     5147.625    7028601.0  \n",
       "68775     5819.000    7251204.0  \n",
       "68776     5817.000    6583369.0  \n",
       "68777     5910.000    7363272.0  \n",
       "\n",
       "[68778 rows x 7 columns]"
      ]
     },
     "execution_count": 2,
     "metadata": {},
     "output_type": "execute_result"
    }
   ],
   "source": [
    "gen_df= pd.read_csv('Plant_1_Generation_Data.csv')\n",
    "gen_df"
   ]
  },
  {
   "cell_type": "code",
   "execution_count": 3,
   "id": "83c04d96-0f84-40b9-b39c-e2da9de37e47",
   "metadata": {
    "tags": []
   },
   "outputs": [
    {
     "data": {
      "text/plain": [
       "DATE_TIME         PLANT_ID  SOURCE_KEY       DC_POWER  AC_POWER  DAILY_YIELD  TOTAL_YIELD\n",
       "01-06-2020 00:00  4135001   1BY6WEcLGh8j5v7  0.0       0.0       829.0        6377931.0      1\n",
       "20-05-2020 01:00  4135001   1BY6WEcLGh8j5v7  0.0       0.0       0.0          6290097.0      1\n",
       "20-05-2020 00:45  4135001   ZnxXDlPa8U1GXgE  0.0       0.0       0.0          6555136.0      1\n",
       "                            ZoEaEvLYb1n2sOq  0.0       0.0       0.0          7130332.0      1\n",
       "                            adLQvlD726eNBSB  0.0       0.0       0.0          6304513.0      1\n",
       "                                                                                            ..\n",
       "11-06-2020 22:45  4135001   McdE0feGgRqW7Ca  0.0       0.0       5750.0       7367373.0      1\n",
       "                            VHMLBKoKgIrUVDU  0.0       0.0       5716.0       7415011.0      1\n",
       "                            WRmjgnKYAwPKWDb  0.0       0.0       5619.0       7232986.0      1\n",
       "                            YxYtjZvoooNbGkE  0.0       0.0       5592.0       7385279.0      1\n",
       "31-05-2020 23:45  4135001   zVJPv84UY57bAof  0.0       0.0       6047.0       7242024.0      1\n",
       "Name: count, Length: 68778, dtype: int64"
      ]
     },
     "execution_count": 3,
     "metadata": {},
     "output_type": "execute_result"
    }
   ],
   "source": [
    "gen_df.value_counts()"
   ]
  },
  {
   "cell_type": "code",
   "execution_count": 4,
   "id": "088f4d2e-25ca-48f3-8d5f-ea3f71e3743e",
   "metadata": {
    "tags": []
   },
   "outputs": [
    {
     "data": {
      "text/plain": [
       "DATE_TIME      0\n",
       "PLANT_ID       0\n",
       "SOURCE_KEY     0\n",
       "DC_POWER       0\n",
       "AC_POWER       0\n",
       "DAILY_YIELD    0\n",
       "TOTAL_YIELD    0\n",
       "dtype: int64"
      ]
     },
     "execution_count": 4,
     "metadata": {},
     "output_type": "execute_result"
    }
   ],
   "source": [
    "gen_df.isnull().sum()"
   ]
  },
  {
   "cell_type": "code",
   "execution_count": 5,
   "id": "45023338-e5fe-4cfb-af8d-9a360b9a369d",
   "metadata": {
    "tags": []
   },
   "outputs": [],
   "source": [
    "gen_df['DATE_TIME'] =  pd.to_datetime(gen_df['DATE_TIME'])\n"
   ]
  },
  {
   "cell_type": "code",
   "execution_count": 6,
   "id": "e432b348-ec97-4098-b904-2317044589fa",
   "metadata": {
    "tags": []
   },
   "outputs": [
    {
     "name": "stdout",
     "output_type": "stream",
     "text": [
      "<class 'pandas.core.frame.DataFrame'>\n",
      "RangeIndex: 68778 entries, 0 to 68777\n",
      "Data columns (total 7 columns):\n",
      " #   Column       Non-Null Count  Dtype         \n",
      "---  ------       --------------  -----         \n",
      " 0   DATE_TIME    68778 non-null  datetime64[ns]\n",
      " 1   PLANT_ID     68778 non-null  int64         \n",
      " 2   SOURCE_KEY   68778 non-null  object        \n",
      " 3   DC_POWER     68778 non-null  float64       \n",
      " 4   AC_POWER     68778 non-null  float64       \n",
      " 5   DAILY_YIELD  68778 non-null  float64       \n",
      " 6   TOTAL_YIELD  68778 non-null  float64       \n",
      "dtypes: datetime64[ns](1), float64(4), int64(1), object(1)\n",
      "memory usage: 3.7+ MB\n"
     ]
    }
   ],
   "source": [
    "gen_df.info()"
   ]
  },
  {
   "cell_type": "code",
   "execution_count": 7,
   "id": "57c30a85-4725-4dc3-9223-263243a39f7a",
   "metadata": {
    "tags": []
   },
   "outputs": [
    {
     "data": {
      "text/plain": [
       "0       2020-05-15 00:00:00\n",
       "1       2020-05-15 00:00:00\n",
       "2       2020-05-15 00:00:00\n",
       "3       2020-05-15 00:00:00\n",
       "4       2020-05-15 00:00:00\n",
       "                ...        \n",
       "68773   2020-06-17 23:45:00\n",
       "68774   2020-06-17 23:45:00\n",
       "68775   2020-06-17 23:45:00\n",
       "68776   2020-06-17 23:45:00\n",
       "68777   2020-06-17 23:45:00\n",
       "Name: DATE_TIME, Length: 68778, dtype: datetime64[ns]"
      ]
     },
     "execution_count": 7,
     "metadata": {},
     "output_type": "execute_result"
    }
   ],
   "source": [
    "gen_df['DATE_TIME']"
   ]
  },
  {
   "cell_type": "code",
   "execution_count": 8,
   "id": "e0ad2425-9ba1-497a-adca-50cb3d2063e3",
   "metadata": {
    "tags": []
   },
   "outputs": [
    {
     "data": {
      "text/html": [
       "<div>\n",
       "<style scoped>\n",
       "    .dataframe tbody tr th:only-of-type {\n",
       "        vertical-align: middle;\n",
       "    }\n",
       "\n",
       "    .dataframe tbody tr th {\n",
       "        vertical-align: top;\n",
       "    }\n",
       "\n",
       "    .dataframe thead th {\n",
       "        text-align: right;\n",
       "    }\n",
       "</style>\n",
       "<table border=\"1\" class=\"dataframe\">\n",
       "  <thead>\n",
       "    <tr style=\"text-align: right;\">\n",
       "      <th></th>\n",
       "      <th>DATE_TIME</th>\n",
       "      <th>PLANT_ID</th>\n",
       "      <th>DC_POWER</th>\n",
       "      <th>AC_POWER</th>\n",
       "      <th>DAILY_YIELD</th>\n",
       "      <th>TOTAL_YIELD</th>\n",
       "    </tr>\n",
       "  </thead>\n",
       "  <tbody>\n",
       "    <tr>\n",
       "      <th>count</th>\n",
       "      <td>68778</td>\n",
       "      <td>68778.0</td>\n",
       "      <td>68778.000000</td>\n",
       "      <td>68778.000000</td>\n",
       "      <td>68778.000000</td>\n",
       "      <td>6.877800e+04</td>\n",
       "    </tr>\n",
       "    <tr>\n",
       "      <th>mean</th>\n",
       "      <td>2020-06-01 08:02:49.458256896</td>\n",
       "      <td>4135001.0</td>\n",
       "      <td>3147.426211</td>\n",
       "      <td>307.802752</td>\n",
       "      <td>3295.968737</td>\n",
       "      <td>6.978712e+06</td>\n",
       "    </tr>\n",
       "    <tr>\n",
       "      <th>min</th>\n",
       "      <td>2020-05-15 00:00:00</td>\n",
       "      <td>4135001.0</td>\n",
       "      <td>0.000000</td>\n",
       "      <td>0.000000</td>\n",
       "      <td>0.000000</td>\n",
       "      <td>6.183645e+06</td>\n",
       "    </tr>\n",
       "    <tr>\n",
       "      <th>25%</th>\n",
       "      <td>2020-05-24 00:45:00</td>\n",
       "      <td>4135001.0</td>\n",
       "      <td>0.000000</td>\n",
       "      <td>0.000000</td>\n",
       "      <td>0.000000</td>\n",
       "      <td>6.512003e+06</td>\n",
       "    </tr>\n",
       "    <tr>\n",
       "      <th>50%</th>\n",
       "      <td>2020-06-01 14:30:00</td>\n",
       "      <td>4135001.0</td>\n",
       "      <td>429.000000</td>\n",
       "      <td>41.493750</td>\n",
       "      <td>2658.714286</td>\n",
       "      <td>7.146685e+06</td>\n",
       "    </tr>\n",
       "    <tr>\n",
       "      <th>75%</th>\n",
       "      <td>2020-06-09 20:00:00</td>\n",
       "      <td>4135001.0</td>\n",
       "      <td>6366.964286</td>\n",
       "      <td>623.618750</td>\n",
       "      <td>6274.000000</td>\n",
       "      <td>7.268706e+06</td>\n",
       "    </tr>\n",
       "    <tr>\n",
       "      <th>max</th>\n",
       "      <td>2020-06-17 23:45:00</td>\n",
       "      <td>4135001.0</td>\n",
       "      <td>14471.125000</td>\n",
       "      <td>1410.950000</td>\n",
       "      <td>9163.000000</td>\n",
       "      <td>7.846821e+06</td>\n",
       "    </tr>\n",
       "    <tr>\n",
       "      <th>std</th>\n",
       "      <td>NaN</td>\n",
       "      <td>0.0</td>\n",
       "      <td>4036.457169</td>\n",
       "      <td>394.396439</td>\n",
       "      <td>3145.178309</td>\n",
       "      <td>4.162720e+05</td>\n",
       "    </tr>\n",
       "  </tbody>\n",
       "</table>\n",
       "</div>"
      ],
      "text/plain": [
       "                           DATE_TIME   PLANT_ID      DC_POWER      AC_POWER  \\\n",
       "count                          68778    68778.0  68778.000000  68778.000000   \n",
       "mean   2020-06-01 08:02:49.458256896  4135001.0   3147.426211    307.802752   \n",
       "min              2020-05-15 00:00:00  4135001.0      0.000000      0.000000   \n",
       "25%              2020-05-24 00:45:00  4135001.0      0.000000      0.000000   \n",
       "50%              2020-06-01 14:30:00  4135001.0    429.000000     41.493750   \n",
       "75%              2020-06-09 20:00:00  4135001.0   6366.964286    623.618750   \n",
       "max              2020-06-17 23:45:00  4135001.0  14471.125000   1410.950000   \n",
       "std                              NaN        0.0   4036.457169    394.396439   \n",
       "\n",
       "        DAILY_YIELD   TOTAL_YIELD  \n",
       "count  68778.000000  6.877800e+04  \n",
       "mean    3295.968737  6.978712e+06  \n",
       "min        0.000000  6.183645e+06  \n",
       "25%        0.000000  6.512003e+06  \n",
       "50%     2658.714286  7.146685e+06  \n",
       "75%     6274.000000  7.268706e+06  \n",
       "max     9163.000000  7.846821e+06  \n",
       "std     3145.178309  4.162720e+05  "
      ]
     },
     "execution_count": 8,
     "metadata": {},
     "output_type": "execute_result"
    }
   ],
   "source": [
    "gen_df.describe()"
   ]
  },
  {
   "cell_type": "code",
   "execution_count": 9,
   "id": "124ec3df-d9c0-441b-8208-673d3b3dd1f4",
   "metadata": {
    "tags": []
   },
   "outputs": [],
   "source": [
    "gen_df.drop(columns=['TOTAL_YIELD'], axis=1, inplace=True)"
   ]
  },
  {
   "cell_type": "markdown",
   "id": "c1e8696c-4180-45df-b4b9-ccdc199ad458",
   "metadata": {},
   "source": [
    "# Weather Dataset"
   ]
  },
  {
   "cell_type": "code",
   "execution_count": 10,
   "id": "024706d8-589b-4c60-a487-9aa8f903ecd2",
   "metadata": {
    "tags": []
   },
   "outputs": [
    {
     "data": {
      "text/html": [
       "<div>\n",
       "<style scoped>\n",
       "    .dataframe tbody tr th:only-of-type {\n",
       "        vertical-align: middle;\n",
       "    }\n",
       "\n",
       "    .dataframe tbody tr th {\n",
       "        vertical-align: top;\n",
       "    }\n",
       "\n",
       "    .dataframe thead th {\n",
       "        text-align: right;\n",
       "    }\n",
       "</style>\n",
       "<table border=\"1\" class=\"dataframe\">\n",
       "  <thead>\n",
       "    <tr style=\"text-align: right;\">\n",
       "      <th></th>\n",
       "      <th>DATE_TIME</th>\n",
       "      <th>PLANT_ID</th>\n",
       "      <th>SOURCE_KEY</th>\n",
       "      <th>AMBIENT_TEMPERATURE</th>\n",
       "      <th>MODULE_TEMPERATURE</th>\n",
       "      <th>IRRADIATION</th>\n",
       "    </tr>\n",
       "  </thead>\n",
       "  <tbody>\n",
       "    <tr>\n",
       "      <th>0</th>\n",
       "      <td>2020-05-15 00:00:00</td>\n",
       "      <td>4135001</td>\n",
       "      <td>HmiyD2TTLFNqkNe</td>\n",
       "      <td>25.184316</td>\n",
       "      <td>22.857507</td>\n",
       "      <td>0.0</td>\n",
       "    </tr>\n",
       "    <tr>\n",
       "      <th>1</th>\n",
       "      <td>2020-05-15 00:15:00</td>\n",
       "      <td>4135001</td>\n",
       "      <td>HmiyD2TTLFNqkNe</td>\n",
       "      <td>25.084589</td>\n",
       "      <td>22.761668</td>\n",
       "      <td>0.0</td>\n",
       "    </tr>\n",
       "    <tr>\n",
       "      <th>2</th>\n",
       "      <td>2020-05-15 00:30:00</td>\n",
       "      <td>4135001</td>\n",
       "      <td>HmiyD2TTLFNqkNe</td>\n",
       "      <td>24.935753</td>\n",
       "      <td>22.592306</td>\n",
       "      <td>0.0</td>\n",
       "    </tr>\n",
       "    <tr>\n",
       "      <th>3</th>\n",
       "      <td>2020-05-15 00:45:00</td>\n",
       "      <td>4135001</td>\n",
       "      <td>HmiyD2TTLFNqkNe</td>\n",
       "      <td>24.846130</td>\n",
       "      <td>22.360852</td>\n",
       "      <td>0.0</td>\n",
       "    </tr>\n",
       "    <tr>\n",
       "      <th>4</th>\n",
       "      <td>2020-05-15 01:00:00</td>\n",
       "      <td>4135001</td>\n",
       "      <td>HmiyD2TTLFNqkNe</td>\n",
       "      <td>24.621525</td>\n",
       "      <td>22.165423</td>\n",
       "      <td>0.0</td>\n",
       "    </tr>\n",
       "    <tr>\n",
       "      <th>...</th>\n",
       "      <td>...</td>\n",
       "      <td>...</td>\n",
       "      <td>...</td>\n",
       "      <td>...</td>\n",
       "      <td>...</td>\n",
       "      <td>...</td>\n",
       "    </tr>\n",
       "    <tr>\n",
       "      <th>3177</th>\n",
       "      <td>2020-06-17 22:45:00</td>\n",
       "      <td>4135001</td>\n",
       "      <td>HmiyD2TTLFNqkNe</td>\n",
       "      <td>22.150570</td>\n",
       "      <td>21.480377</td>\n",
       "      <td>0.0</td>\n",
       "    </tr>\n",
       "    <tr>\n",
       "      <th>3178</th>\n",
       "      <td>2020-06-17 23:00:00</td>\n",
       "      <td>4135001</td>\n",
       "      <td>HmiyD2TTLFNqkNe</td>\n",
       "      <td>22.129816</td>\n",
       "      <td>21.389024</td>\n",
       "      <td>0.0</td>\n",
       "    </tr>\n",
       "    <tr>\n",
       "      <th>3179</th>\n",
       "      <td>2020-06-17 23:15:00</td>\n",
       "      <td>4135001</td>\n",
       "      <td>HmiyD2TTLFNqkNe</td>\n",
       "      <td>22.008275</td>\n",
       "      <td>20.709211</td>\n",
       "      <td>0.0</td>\n",
       "    </tr>\n",
       "    <tr>\n",
       "      <th>3180</th>\n",
       "      <td>2020-06-17 23:30:00</td>\n",
       "      <td>4135001</td>\n",
       "      <td>HmiyD2TTLFNqkNe</td>\n",
       "      <td>21.969495</td>\n",
       "      <td>20.734963</td>\n",
       "      <td>0.0</td>\n",
       "    </tr>\n",
       "    <tr>\n",
       "      <th>3181</th>\n",
       "      <td>2020-06-17 23:45:00</td>\n",
       "      <td>4135001</td>\n",
       "      <td>HmiyD2TTLFNqkNe</td>\n",
       "      <td>21.909288</td>\n",
       "      <td>20.427972</td>\n",
       "      <td>0.0</td>\n",
       "    </tr>\n",
       "  </tbody>\n",
       "</table>\n",
       "<p>3182 rows × 6 columns</p>\n",
       "</div>"
      ],
      "text/plain": [
       "                DATE_TIME  PLANT_ID       SOURCE_KEY  AMBIENT_TEMPERATURE  \\\n",
       "0     2020-05-15 00:00:00   4135001  HmiyD2TTLFNqkNe            25.184316   \n",
       "1     2020-05-15 00:15:00   4135001  HmiyD2TTLFNqkNe            25.084589   \n",
       "2     2020-05-15 00:30:00   4135001  HmiyD2TTLFNqkNe            24.935753   \n",
       "3     2020-05-15 00:45:00   4135001  HmiyD2TTLFNqkNe            24.846130   \n",
       "4     2020-05-15 01:00:00   4135001  HmiyD2TTLFNqkNe            24.621525   \n",
       "...                   ...       ...              ...                  ...   \n",
       "3177  2020-06-17 22:45:00   4135001  HmiyD2TTLFNqkNe            22.150570   \n",
       "3178  2020-06-17 23:00:00   4135001  HmiyD2TTLFNqkNe            22.129816   \n",
       "3179  2020-06-17 23:15:00   4135001  HmiyD2TTLFNqkNe            22.008275   \n",
       "3180  2020-06-17 23:30:00   4135001  HmiyD2TTLFNqkNe            21.969495   \n",
       "3181  2020-06-17 23:45:00   4135001  HmiyD2TTLFNqkNe            21.909288   \n",
       "\n",
       "      MODULE_TEMPERATURE  IRRADIATION  \n",
       "0              22.857507          0.0  \n",
       "1              22.761668          0.0  \n",
       "2              22.592306          0.0  \n",
       "3              22.360852          0.0  \n",
       "4              22.165423          0.0  \n",
       "...                  ...          ...  \n",
       "3177           21.480377          0.0  \n",
       "3178           21.389024          0.0  \n",
       "3179           20.709211          0.0  \n",
       "3180           20.734963          0.0  \n",
       "3181           20.427972          0.0  \n",
       "\n",
       "[3182 rows x 6 columns]"
      ]
     },
     "execution_count": 10,
     "metadata": {},
     "output_type": "execute_result"
    }
   ],
   "source": [
    "wth_df=pd.read_csv('Plant_1_Weather_Sensor_Data.csv')\n",
    "wth_df"
   ]
  },
  {
   "cell_type": "code",
   "execution_count": 11,
   "id": "ffa7161b-76f9-4129-a153-89fa8c41dc69",
   "metadata": {
    "tags": []
   },
   "outputs": [
    {
     "data": {
      "text/plain": [
       "DATE_TIME              0\n",
       "PLANT_ID               0\n",
       "SOURCE_KEY             0\n",
       "AMBIENT_TEMPERATURE    0\n",
       "MODULE_TEMPERATURE     0\n",
       "IRRADIATION            0\n",
       "dtype: int64"
      ]
     },
     "execution_count": 11,
     "metadata": {},
     "output_type": "execute_result"
    }
   ],
   "source": [
    "wth_df.isnull().sum()"
   ]
  },
  {
   "cell_type": "code",
   "execution_count": 12,
   "id": "01f3768f-d109-4c28-a16a-643f3edc727b",
   "metadata": {
    "tags": []
   },
   "outputs": [
    {
     "data": {
      "text/plain": [
       "DATE_TIME            PLANT_ID  SOURCE_KEY       AMBIENT_TEMPERATURE  MODULE_TEMPERATURE  IRRADIATION\n",
       "2020-05-15 00:00:00  4135001   HmiyD2TTLFNqkNe  25.184316            22.857507           0.000000       1\n",
       "2020-06-06 20:45:00  4135001   HmiyD2TTLFNqkNe  22.187079            20.146041           0.000000       1\n",
       "2020-06-06 21:15:00  4135001   HmiyD2TTLFNqkNe  22.210578            20.432326           0.000000       1\n",
       "2020-06-06 21:30:00  4135001   HmiyD2TTLFNqkNe  22.211206            20.508386           0.000000       1\n",
       "2020-06-06 21:45:00  4135001   HmiyD2TTLFNqkNe  22.218504            20.464101           0.000000       1\n",
       "                                                                                                       ..\n",
       "2020-05-26 17:45:00  4135001   HmiyD2TTLFNqkNe  30.519482            30.251396           0.035266       1\n",
       "2020-05-26 18:00:00  4135001   HmiyD2TTLFNqkNe  29.594161            29.093567           0.026555       1\n",
       "2020-05-26 18:15:00  4135001   HmiyD2TTLFNqkNe  29.093020            28.168933           0.024506       1\n",
       "2020-05-26 18:30:00  4135001   HmiyD2TTLFNqkNe  28.737601            27.428604           0.012342       1\n",
       "2020-06-17 23:45:00  4135001   HmiyD2TTLFNqkNe  21.909288            20.427972           0.000000       1\n",
       "Name: count, Length: 3182, dtype: int64"
      ]
     },
     "execution_count": 12,
     "metadata": {},
     "output_type": "execute_result"
    }
   ],
   "source": [
    "wth_df.value_counts()"
   ]
  },
  {
   "cell_type": "code",
   "execution_count": 13,
   "id": "f95a115d-5beb-44de-b4e7-bcc0ea0677d6",
   "metadata": {
    "tags": []
   },
   "outputs": [],
   "source": [
    "wth_df['DATE_TIME']=pd.to_datetime(wth_df['DATE_TIME'])"
   ]
  },
  {
   "cell_type": "code",
   "execution_count": 14,
   "id": "ddc5b19a-6c64-42db-b87e-6099ce663379",
   "metadata": {
    "tags": []
   },
   "outputs": [
    {
     "data": {
      "text/plain": [
       "0      2020-05-15 00:00:00\n",
       "1      2020-05-15 00:15:00\n",
       "2      2020-05-15 00:30:00\n",
       "3      2020-05-15 00:45:00\n",
       "4      2020-05-15 01:00:00\n",
       "               ...        \n",
       "3177   2020-06-17 22:45:00\n",
       "3178   2020-06-17 23:00:00\n",
       "3179   2020-06-17 23:15:00\n",
       "3180   2020-06-17 23:30:00\n",
       "3181   2020-06-17 23:45:00\n",
       "Name: DATE_TIME, Length: 3182, dtype: datetime64[ns]"
      ]
     },
     "execution_count": 14,
     "metadata": {},
     "output_type": "execute_result"
    }
   ],
   "source": [
    "wth_df['DATE_TIME']"
   ]
  },
  {
   "cell_type": "code",
   "execution_count": 15,
   "id": "80935d2b-9fa5-4c65-86b7-6fdd60be2de1",
   "metadata": {
    "tags": []
   },
   "outputs": [
    {
     "name": "stdout",
     "output_type": "stream",
     "text": [
      "<class 'pandas.core.frame.DataFrame'>\n",
      "RangeIndex: 3182 entries, 0 to 3181\n",
      "Data columns (total 6 columns):\n",
      " #   Column               Non-Null Count  Dtype         \n",
      "---  ------               --------------  -----         \n",
      " 0   DATE_TIME            3182 non-null   datetime64[ns]\n",
      " 1   PLANT_ID             3182 non-null   int64         \n",
      " 2   SOURCE_KEY           3182 non-null   object        \n",
      " 3   AMBIENT_TEMPERATURE  3182 non-null   float64       \n",
      " 4   MODULE_TEMPERATURE   3182 non-null   float64       \n",
      " 5   IRRADIATION          3182 non-null   float64       \n",
      "dtypes: datetime64[ns](1), float64(3), int64(1), object(1)\n",
      "memory usage: 149.3+ KB\n"
     ]
    }
   ],
   "source": [
    "wth_df.info()"
   ]
  },
  {
   "cell_type": "markdown",
   "id": "9ca21a8b-b2d2-4439-896f-4d4ce681983d",
   "metadata": {},
   "source": [
    "# Merged Dataset"
   ]
  },
  {
   "cell_type": "code",
   "execution_count": 16,
   "id": "65f5d3fa-ae20-4fa9-850f-9420a714774c",
   "metadata": {
    "tags": []
   },
   "outputs": [
    {
     "data": {
      "text/html": [
       "<div>\n",
       "<style scoped>\n",
       "    .dataframe tbody tr th:only-of-type {\n",
       "        vertical-align: middle;\n",
       "    }\n",
       "\n",
       "    .dataframe tbody tr th {\n",
       "        vertical-align: top;\n",
       "    }\n",
       "\n",
       "    .dataframe thead th {\n",
       "        text-align: right;\n",
       "    }\n",
       "</style>\n",
       "<table border=\"1\" class=\"dataframe\">\n",
       "  <thead>\n",
       "    <tr style=\"text-align: right;\">\n",
       "      <th></th>\n",
       "      <th>DATE_TIME</th>\n",
       "      <th>SOURCE_KEY</th>\n",
       "      <th>DC_POWER</th>\n",
       "      <th>AC_POWER</th>\n",
       "      <th>DAILY_YIELD</th>\n",
       "      <th>AMBIENT_TEMPERATURE</th>\n",
       "      <th>MODULE_TEMPERATURE</th>\n",
       "      <th>IRRADIATION</th>\n",
       "    </tr>\n",
       "  </thead>\n",
       "  <tbody>\n",
       "    <tr>\n",
       "      <th>0</th>\n",
       "      <td>2020-05-15</td>\n",
       "      <td>1BY6WEcLGh8j5v7</td>\n",
       "      <td>0.0</td>\n",
       "      <td>0.0</td>\n",
       "      <td>0.0</td>\n",
       "      <td>25.184316</td>\n",
       "      <td>22.857507</td>\n",
       "      <td>0.0</td>\n",
       "    </tr>\n",
       "    <tr>\n",
       "      <th>1</th>\n",
       "      <td>2020-05-15</td>\n",
       "      <td>1IF53ai7Xc0U56Y</td>\n",
       "      <td>0.0</td>\n",
       "      <td>0.0</td>\n",
       "      <td>0.0</td>\n",
       "      <td>25.184316</td>\n",
       "      <td>22.857507</td>\n",
       "      <td>0.0</td>\n",
       "    </tr>\n",
       "    <tr>\n",
       "      <th>2</th>\n",
       "      <td>2020-05-15</td>\n",
       "      <td>3PZuoBAID5Wc2HD</td>\n",
       "      <td>0.0</td>\n",
       "      <td>0.0</td>\n",
       "      <td>0.0</td>\n",
       "      <td>25.184316</td>\n",
       "      <td>22.857507</td>\n",
       "      <td>0.0</td>\n",
       "    </tr>\n",
       "    <tr>\n",
       "      <th>3</th>\n",
       "      <td>2020-05-15</td>\n",
       "      <td>7JYdWkrLSPkdwr4</td>\n",
       "      <td>0.0</td>\n",
       "      <td>0.0</td>\n",
       "      <td>0.0</td>\n",
       "      <td>25.184316</td>\n",
       "      <td>22.857507</td>\n",
       "      <td>0.0</td>\n",
       "    </tr>\n",
       "    <tr>\n",
       "      <th>4</th>\n",
       "      <td>2020-05-15</td>\n",
       "      <td>McdE0feGgRqW7Ca</td>\n",
       "      <td>0.0</td>\n",
       "      <td>0.0</td>\n",
       "      <td>0.0</td>\n",
       "      <td>25.184316</td>\n",
       "      <td>22.857507</td>\n",
       "      <td>0.0</td>\n",
       "    </tr>\n",
       "  </tbody>\n",
       "</table>\n",
       "</div>"
      ],
      "text/plain": [
       "   DATE_TIME       SOURCE_KEY  DC_POWER  AC_POWER  DAILY_YIELD  \\\n",
       "0 2020-05-15  1BY6WEcLGh8j5v7       0.0       0.0          0.0   \n",
       "1 2020-05-15  1IF53ai7Xc0U56Y       0.0       0.0          0.0   \n",
       "2 2020-05-15  3PZuoBAID5Wc2HD       0.0       0.0          0.0   \n",
       "3 2020-05-15  7JYdWkrLSPkdwr4       0.0       0.0          0.0   \n",
       "4 2020-05-15  McdE0feGgRqW7Ca       0.0       0.0          0.0   \n",
       "\n",
       "   AMBIENT_TEMPERATURE  MODULE_TEMPERATURE  IRRADIATION  \n",
       "0            25.184316           22.857507          0.0  \n",
       "1            25.184316           22.857507          0.0  \n",
       "2            25.184316           22.857507          0.0  \n",
       "3            25.184316           22.857507          0.0  \n",
       "4            25.184316           22.857507          0.0  "
      ]
     },
     "execution_count": 16,
     "metadata": {},
     "output_type": "execute_result"
    }
   ],
   "source": [
    "df= pd.merge(gen_df.drop(columns=['PLANT_ID']),\n",
    "             wth_df.drop(columns=['PLANT_ID', 'SOURCE_KEY']), \n",
    "             on='DATE_TIME'\n",
    "             )\n",
    "\n",
    "df.head(5)"
   ]
  },
  {
   "cell_type": "code",
   "execution_count": 17,
   "id": "87ca6874-d101-4f55-9309-0dcb33227daf",
   "metadata": {
    "tags": []
   },
   "outputs": [
    {
     "name": "stdout",
     "output_type": "stream",
     "text": [
      "<class 'pandas.core.frame.DataFrame'>\n",
      "RangeIndex: 68774 entries, 0 to 68773\n",
      "Data columns (total 8 columns):\n",
      " #   Column               Non-Null Count  Dtype         \n",
      "---  ------               --------------  -----         \n",
      " 0   DATE_TIME            68774 non-null  datetime64[ns]\n",
      " 1   SOURCE_KEY           68774 non-null  object        \n",
      " 2   DC_POWER             68774 non-null  float64       \n",
      " 3   AC_POWER             68774 non-null  float64       \n",
      " 4   DAILY_YIELD          68774 non-null  float64       \n",
      " 5   AMBIENT_TEMPERATURE  68774 non-null  float64       \n",
      " 6   MODULE_TEMPERATURE   68774 non-null  float64       \n",
      " 7   IRRADIATION          68774 non-null  float64       \n",
      "dtypes: datetime64[ns](1), float64(6), object(1)\n",
      "memory usage: 4.2+ MB\n"
     ]
    }
   ],
   "source": [
    "df.info()"
   ]
  },
  {
   "cell_type": "code",
   "execution_count": 18,
   "id": "bd4df34e-0c46-4114-9f95-5e126ba655e5",
   "metadata": {
    "tags": []
   },
   "outputs": [
    {
     "data": {
      "text/html": [
       "<div>\n",
       "<style scoped>\n",
       "    .dataframe tbody tr th:only-of-type {\n",
       "        vertical-align: middle;\n",
       "    }\n",
       "\n",
       "    .dataframe tbody tr th {\n",
       "        vertical-align: top;\n",
       "    }\n",
       "\n",
       "    .dataframe thead th {\n",
       "        text-align: right;\n",
       "    }\n",
       "</style>\n",
       "<table border=\"1\" class=\"dataframe\">\n",
       "  <thead>\n",
       "    <tr style=\"text-align: right;\">\n",
       "      <th></th>\n",
       "      <th>DATE_TIME</th>\n",
       "      <th>DC_POWER</th>\n",
       "      <th>AC_POWER</th>\n",
       "      <th>DAILY_YIELD</th>\n",
       "      <th>AMBIENT_TEMPERATURE</th>\n",
       "      <th>MODULE_TEMPERATURE</th>\n",
       "      <th>IRRADIATION</th>\n",
       "    </tr>\n",
       "  </thead>\n",
       "  <tbody>\n",
       "    <tr>\n",
       "      <th>count</th>\n",
       "      <td>68774</td>\n",
       "      <td>68774.000000</td>\n",
       "      <td>68774.000000</td>\n",
       "      <td>68774.000000</td>\n",
       "      <td>68774.000000</td>\n",
       "      <td>68774.000000</td>\n",
       "      <td>68774.000000</td>\n",
       "    </tr>\n",
       "    <tr>\n",
       "      <th>mean</th>\n",
       "      <td>2020-06-01 08:02:38.161514240</td>\n",
       "      <td>3147.177450</td>\n",
       "      <td>307.778375</td>\n",
       "      <td>3295.834644</td>\n",
       "      <td>25.558521</td>\n",
       "      <td>31.244997</td>\n",
       "      <td>0.232305</td>\n",
       "    </tr>\n",
       "    <tr>\n",
       "      <th>min</th>\n",
       "      <td>2020-05-15 00:00:00</td>\n",
       "      <td>0.000000</td>\n",
       "      <td>0.000000</td>\n",
       "      <td>0.000000</td>\n",
       "      <td>20.398505</td>\n",
       "      <td>18.140415</td>\n",
       "      <td>0.000000</td>\n",
       "    </tr>\n",
       "    <tr>\n",
       "      <th>25%</th>\n",
       "      <td>2020-05-24 00:33:45</td>\n",
       "      <td>0.000000</td>\n",
       "      <td>0.000000</td>\n",
       "      <td>0.000000</td>\n",
       "      <td>22.724491</td>\n",
       "      <td>21.123944</td>\n",
       "      <td>0.000000</td>\n",
       "    </tr>\n",
       "    <tr>\n",
       "      <th>50%</th>\n",
       "      <td>2020-06-01 14:15:00</td>\n",
       "      <td>428.571429</td>\n",
       "      <td>41.450000</td>\n",
       "      <td>2658.473214</td>\n",
       "      <td>24.670178</td>\n",
       "      <td>24.818984</td>\n",
       "      <td>0.031620</td>\n",
       "    </tr>\n",
       "    <tr>\n",
       "      <th>75%</th>\n",
       "      <td>2020-06-09 20:00:00</td>\n",
       "      <td>6365.468750</td>\n",
       "      <td>623.561161</td>\n",
       "      <td>6274.000000</td>\n",
       "      <td>27.960429</td>\n",
       "      <td>41.693659</td>\n",
       "      <td>0.454880</td>\n",
       "    </tr>\n",
       "    <tr>\n",
       "      <th>max</th>\n",
       "      <td>2020-06-17 23:45:00</td>\n",
       "      <td>14471.125000</td>\n",
       "      <td>1410.950000</td>\n",
       "      <td>9163.000000</td>\n",
       "      <td>35.252486</td>\n",
       "      <td>65.545714</td>\n",
       "      <td>1.221652</td>\n",
       "    </tr>\n",
       "    <tr>\n",
       "      <th>std</th>\n",
       "      <td>NaN</td>\n",
       "      <td>4036.441826</td>\n",
       "      <td>394.394865</td>\n",
       "      <td>3145.220597</td>\n",
       "      <td>3.361300</td>\n",
       "      <td>12.308283</td>\n",
       "      <td>0.301948</td>\n",
       "    </tr>\n",
       "  </tbody>\n",
       "</table>\n",
       "</div>"
      ],
      "text/plain": [
       "                           DATE_TIME      DC_POWER      AC_POWER  \\\n",
       "count                          68774  68774.000000  68774.000000   \n",
       "mean   2020-06-01 08:02:38.161514240   3147.177450    307.778375   \n",
       "min              2020-05-15 00:00:00      0.000000      0.000000   \n",
       "25%              2020-05-24 00:33:45      0.000000      0.000000   \n",
       "50%              2020-06-01 14:15:00    428.571429     41.450000   \n",
       "75%              2020-06-09 20:00:00   6365.468750    623.561161   \n",
       "max              2020-06-17 23:45:00  14471.125000   1410.950000   \n",
       "std                              NaN   4036.441826    394.394865   \n",
       "\n",
       "        DAILY_YIELD  AMBIENT_TEMPERATURE  MODULE_TEMPERATURE   IRRADIATION  \n",
       "count  68774.000000         68774.000000        68774.000000  68774.000000  \n",
       "mean    3295.834644            25.558521           31.244997      0.232305  \n",
       "min        0.000000            20.398505           18.140415      0.000000  \n",
       "25%        0.000000            22.724491           21.123944      0.000000  \n",
       "50%     2658.473214            24.670178           24.818984      0.031620  \n",
       "75%     6274.000000            27.960429           41.693659      0.454880  \n",
       "max     9163.000000            35.252486           65.545714      1.221652  \n",
       "std     3145.220597             3.361300           12.308283      0.301948  "
      ]
     },
     "execution_count": 18,
     "metadata": {},
     "output_type": "execute_result"
    }
   ],
   "source": [
    "df.describe()"
   ]
  },
  {
   "cell_type": "code",
   "execution_count": 19,
   "id": "8ac3deb8-af34-4086-861d-8e65a9fb3bd7",
   "metadata": {
    "tags": []
   },
   "outputs": [],
   "source": [
    "df.set_index('DATE_TIME', inplace=True)"
   ]
  },
  {
   "cell_type": "code",
   "execution_count": 20,
   "id": "f605b783-e1ed-4922-9397-dbe2c2649d3e",
   "metadata": {
    "tags": []
   },
   "outputs": [
    {
     "data": {
      "text/html": [
       "<div>\n",
       "<style scoped>\n",
       "    .dataframe tbody tr th:only-of-type {\n",
       "        vertical-align: middle;\n",
       "    }\n",
       "\n",
       "    .dataframe tbody tr th {\n",
       "        vertical-align: top;\n",
       "    }\n",
       "\n",
       "    .dataframe thead th {\n",
       "        text-align: right;\n",
       "    }\n",
       "</style>\n",
       "<table border=\"1\" class=\"dataframe\">\n",
       "  <thead>\n",
       "    <tr style=\"text-align: right;\">\n",
       "      <th></th>\n",
       "      <th>SOURCE_KEY</th>\n",
       "      <th>DC_POWER</th>\n",
       "      <th>AC_POWER</th>\n",
       "      <th>DAILY_YIELD</th>\n",
       "      <th>AMBIENT_TEMPERATURE</th>\n",
       "      <th>MODULE_TEMPERATURE</th>\n",
       "      <th>IRRADIATION</th>\n",
       "    </tr>\n",
       "    <tr>\n",
       "      <th>DATE_TIME</th>\n",
       "      <th></th>\n",
       "      <th></th>\n",
       "      <th></th>\n",
       "      <th></th>\n",
       "      <th></th>\n",
       "      <th></th>\n",
       "      <th></th>\n",
       "    </tr>\n",
       "  </thead>\n",
       "  <tbody>\n",
       "    <tr>\n",
       "      <th>2020-05-15</th>\n",
       "      <td>1BY6WEcLGh8j5v7</td>\n",
       "      <td>0.0</td>\n",
       "      <td>0.0</td>\n",
       "      <td>0.0</td>\n",
       "      <td>25.184316</td>\n",
       "      <td>22.857507</td>\n",
       "      <td>0.0</td>\n",
       "    </tr>\n",
       "    <tr>\n",
       "      <th>2020-05-15</th>\n",
       "      <td>1IF53ai7Xc0U56Y</td>\n",
       "      <td>0.0</td>\n",
       "      <td>0.0</td>\n",
       "      <td>0.0</td>\n",
       "      <td>25.184316</td>\n",
       "      <td>22.857507</td>\n",
       "      <td>0.0</td>\n",
       "    </tr>\n",
       "    <tr>\n",
       "      <th>2020-05-15</th>\n",
       "      <td>3PZuoBAID5Wc2HD</td>\n",
       "      <td>0.0</td>\n",
       "      <td>0.0</td>\n",
       "      <td>0.0</td>\n",
       "      <td>25.184316</td>\n",
       "      <td>22.857507</td>\n",
       "      <td>0.0</td>\n",
       "    </tr>\n",
       "    <tr>\n",
       "      <th>2020-05-15</th>\n",
       "      <td>7JYdWkrLSPkdwr4</td>\n",
       "      <td>0.0</td>\n",
       "      <td>0.0</td>\n",
       "      <td>0.0</td>\n",
       "      <td>25.184316</td>\n",
       "      <td>22.857507</td>\n",
       "      <td>0.0</td>\n",
       "    </tr>\n",
       "    <tr>\n",
       "      <th>2020-05-15</th>\n",
       "      <td>McdE0feGgRqW7Ca</td>\n",
       "      <td>0.0</td>\n",
       "      <td>0.0</td>\n",
       "      <td>0.0</td>\n",
       "      <td>25.184316</td>\n",
       "      <td>22.857507</td>\n",
       "      <td>0.0</td>\n",
       "    </tr>\n",
       "  </tbody>\n",
       "</table>\n",
       "</div>"
      ],
      "text/plain": [
       "                 SOURCE_KEY  DC_POWER  AC_POWER  DAILY_YIELD  \\\n",
       "DATE_TIME                                                      \n",
       "2020-05-15  1BY6WEcLGh8j5v7       0.0       0.0          0.0   \n",
       "2020-05-15  1IF53ai7Xc0U56Y       0.0       0.0          0.0   \n",
       "2020-05-15  3PZuoBAID5Wc2HD       0.0       0.0          0.0   \n",
       "2020-05-15  7JYdWkrLSPkdwr4       0.0       0.0          0.0   \n",
       "2020-05-15  McdE0feGgRqW7Ca       0.0       0.0          0.0   \n",
       "\n",
       "            AMBIENT_TEMPERATURE  MODULE_TEMPERATURE  IRRADIATION  \n",
       "DATE_TIME                                                         \n",
       "2020-05-15            25.184316           22.857507          0.0  \n",
       "2020-05-15            25.184316           22.857507          0.0  \n",
       "2020-05-15            25.184316           22.857507          0.0  \n",
       "2020-05-15            25.184316           22.857507          0.0  \n",
       "2020-05-15            25.184316           22.857507          0.0  "
      ]
     },
     "execution_count": 20,
     "metadata": {},
     "output_type": "execute_result"
    }
   ],
   "source": [
    "df.head(5)"
   ]
  },
  {
   "cell_type": "code",
   "execution_count": 21,
   "id": "2cbe6dde-3db0-4762-8684-1cfec89d13ab",
   "metadata": {
    "tags": []
   },
   "outputs": [
    {
     "data": {
      "text/plain": [
       "SOURCE_KEY             zVJPv84UY57bAof\n",
       "DC_POWER                           0.0\n",
       "AC_POWER                           0.0\n",
       "DAILY_YIELD                     5910.0\n",
       "AMBIENT_TEMPERATURE          21.909288\n",
       "MODULE_TEMPERATURE           20.427972\n",
       "IRRADIATION                        0.0\n",
       "Name: 2020-06-17 23:45:00, dtype: object"
      ]
     },
     "execution_count": 21,
     "metadata": {},
     "output_type": "execute_result"
    }
   ],
   "source": [
    "df.iloc[-1]"
   ]
  },
  {
   "cell_type": "code",
   "execution_count": 22,
   "id": "b9b0d938-55c4-4de4-969c-ee0ba576d28a",
   "metadata": {
    "tags": []
   },
   "outputs": [
    {
     "data": {
      "text/plain": [
       "SOURCE_KEY             0\n",
       "DC_POWER               0\n",
       "AC_POWER               0\n",
       "DAILY_YIELD            0\n",
       "AMBIENT_TEMPERATURE    0\n",
       "MODULE_TEMPERATURE     0\n",
       "IRRADIATION            0\n",
       "dtype: int64"
      ]
     },
     "execution_count": 22,
     "metadata": {},
     "output_type": "execute_result"
    }
   ],
   "source": [
    "df.isnull().sum()"
   ]
  },
  {
   "cell_type": "code",
   "execution_count": 23,
   "id": "ec3f68ce-87f3-4b55-96ef-c554e044d5ee",
   "metadata": {
    "tags": []
   },
   "outputs": [],
   "source": [
    "df['AMBIENT_TEMPERATURE']=df['AMBIENT_TEMPERATURE'].astype(int)\n",
    "df['MODULE_TEMPERATURE']=df['MODULE_TEMPERATURE'].astype(int)"
   ]
  },
  {
   "cell_type": "code",
   "execution_count": 24,
   "id": "33efa616-741f-4e82-8252-66d7f535ad0c",
   "metadata": {
    "tags": []
   },
   "outputs": [
    {
     "data": {
      "text/plain": [
       "SOURCE_KEY              object\n",
       "DC_POWER               float64\n",
       "AC_POWER               float64\n",
       "DAILY_YIELD            float64\n",
       "AMBIENT_TEMPERATURE      int32\n",
       "MODULE_TEMPERATURE       int32\n",
       "IRRADIATION            float64\n",
       "dtype: object"
      ]
     },
     "execution_count": 24,
     "metadata": {},
     "output_type": "execute_result"
    }
   ],
   "source": [
    "df.dtypes"
   ]
  },
  {
   "cell_type": "code",
   "execution_count": 25,
   "id": "1de3d181-d11c-4786-aad5-2c8d88e65e0c",
   "metadata": {
    "tags": []
   },
   "outputs": [
    {
     "data": {
      "text/plain": [
       "DatetimeIndex(['2020-05-15 00:00:00', '2020-05-15 00:00:00',\n",
       "               '2020-05-15 00:00:00', '2020-05-15 00:00:00',\n",
       "               '2020-05-15 00:00:00', '2020-05-15 00:00:00',\n",
       "               '2020-05-15 00:00:00', '2020-05-15 00:00:00',\n",
       "               '2020-05-15 00:00:00', '2020-05-15 00:00:00',\n",
       "               ...\n",
       "               '2020-06-17 23:45:00', '2020-06-17 23:45:00',\n",
       "               '2020-06-17 23:45:00', '2020-06-17 23:45:00',\n",
       "               '2020-06-17 23:45:00', '2020-06-17 23:45:00',\n",
       "               '2020-06-17 23:45:00', '2020-06-17 23:45:00',\n",
       "               '2020-06-17 23:45:00', '2020-06-17 23:45:00'],\n",
       "              dtype='datetime64[ns]', name='DATE_TIME', length=68774, freq=None)"
      ]
     },
     "execution_count": 25,
     "metadata": {},
     "output_type": "execute_result"
    }
   ],
   "source": [
    "df.index"
   ]
  },
  {
   "cell_type": "code",
   "execution_count": 26,
   "id": "759ad376-8207-4c05-bc21-0badb1f1676a",
   "metadata": {
    "tags": []
   },
   "outputs": [
    {
     "data": {
      "text/plain": [
       "array(['1BY6WEcLGh8j5v7', '1IF53ai7Xc0U56Y', '3PZuoBAID5Wc2HD',\n",
       "       '7JYdWkrLSPkdwr4', 'McdE0feGgRqW7Ca', 'VHMLBKoKgIrUVDU',\n",
       "       'WRmjgnKYAwPKWDb', 'ZnxXDlPa8U1GXgE', 'ZoEaEvLYb1n2sOq',\n",
       "       'adLQvlD726eNBSB', 'bvBOhCH3iADSZry', 'iCRJl6heRkivqQ3',\n",
       "       'ih0vzX44oOqAx2f', 'pkci93gMrogZuBj', 'rGa61gmuvPhdLxV',\n",
       "       'sjndEbLyjtCKgGv', 'uHbuxQJl8lW7ozc', 'wCURE6d3bPkepu2',\n",
       "       'z9Y9gH1T5YWrNuG', 'zBIq5rxdHJRwDNY', 'zVJPv84UY57bAof',\n",
       "       'YxYtjZvoooNbGkE'], dtype=object)"
      ]
     },
     "execution_count": 26,
     "metadata": {},
     "output_type": "execute_result"
    }
   ],
   "source": [
    "df['SOURCE_KEY'].unique()"
   ]
  },
  {
   "cell_type": "code",
   "execution_count": 27,
   "id": "31c63f44-5740-4e8a-8d1a-b647cd11962f",
   "metadata": {
    "tags": []
   },
   "outputs": [
    {
     "data": {
      "text/plain": [
       "22"
      ]
     },
     "execution_count": 27,
     "metadata": {},
     "output_type": "execute_result"
    }
   ],
   "source": [
    "df['SOURCE_KEY'].nunique()"
   ]
  },
  {
   "cell_type": "code",
   "execution_count": 28,
   "id": "19c2b448-65f0-4356-a4c8-ff75fa2985cf",
   "metadata": {
    "tags": []
   },
   "outputs": [
    {
     "data": {
      "text/html": [
       "<div>\n",
       "<style scoped>\n",
       "    .dataframe tbody tr th:only-of-type {\n",
       "        vertical-align: middle;\n",
       "    }\n",
       "\n",
       "    .dataframe tbody tr th {\n",
       "        vertical-align: top;\n",
       "    }\n",
       "\n",
       "    .dataframe thead th {\n",
       "        text-align: right;\n",
       "    }\n",
       "</style>\n",
       "<table border=\"1\" class=\"dataframe\">\n",
       "  <thead>\n",
       "    <tr style=\"text-align: right;\">\n",
       "      <th></th>\n",
       "      <th>SOURCE_KEY</th>\n",
       "      <th>DC_POWER</th>\n",
       "      <th>AC_POWER</th>\n",
       "      <th>DAILY_YIELD</th>\n",
       "      <th>AMBIENT_TEMPERATURE</th>\n",
       "      <th>MODULE_TEMPERATURE</th>\n",
       "      <th>IRRADIATION</th>\n",
       "      <th>SOURCE_KEY_NO</th>\n",
       "    </tr>\n",
       "    <tr>\n",
       "      <th>DATE_TIME</th>\n",
       "      <th></th>\n",
       "      <th></th>\n",
       "      <th></th>\n",
       "      <th></th>\n",
       "      <th></th>\n",
       "      <th></th>\n",
       "      <th></th>\n",
       "      <th></th>\n",
       "    </tr>\n",
       "  </thead>\n",
       "  <tbody>\n",
       "    <tr>\n",
       "      <th>2020-05-15</th>\n",
       "      <td>1BY6WEcLGh8j5v7</td>\n",
       "      <td>0.0</td>\n",
       "      <td>0.0</td>\n",
       "      <td>0.0</td>\n",
       "      <td>25</td>\n",
       "      <td>22</td>\n",
       "      <td>0.0</td>\n",
       "      <td>0</td>\n",
       "    </tr>\n",
       "    <tr>\n",
       "      <th>2020-05-15</th>\n",
       "      <td>1IF53ai7Xc0U56Y</td>\n",
       "      <td>0.0</td>\n",
       "      <td>0.0</td>\n",
       "      <td>0.0</td>\n",
       "      <td>25</td>\n",
       "      <td>22</td>\n",
       "      <td>0.0</td>\n",
       "      <td>1</td>\n",
       "    </tr>\n",
       "    <tr>\n",
       "      <th>2020-05-15</th>\n",
       "      <td>3PZuoBAID5Wc2HD</td>\n",
       "      <td>0.0</td>\n",
       "      <td>0.0</td>\n",
       "      <td>0.0</td>\n",
       "      <td>25</td>\n",
       "      <td>22</td>\n",
       "      <td>0.0</td>\n",
       "      <td>2</td>\n",
       "    </tr>\n",
       "    <tr>\n",
       "      <th>2020-05-15</th>\n",
       "      <td>7JYdWkrLSPkdwr4</td>\n",
       "      <td>0.0</td>\n",
       "      <td>0.0</td>\n",
       "      <td>0.0</td>\n",
       "      <td>25</td>\n",
       "      <td>22</td>\n",
       "      <td>0.0</td>\n",
       "      <td>3</td>\n",
       "    </tr>\n",
       "    <tr>\n",
       "      <th>2020-05-15</th>\n",
       "      <td>McdE0feGgRqW7Ca</td>\n",
       "      <td>0.0</td>\n",
       "      <td>0.0</td>\n",
       "      <td>0.0</td>\n",
       "      <td>25</td>\n",
       "      <td>22</td>\n",
       "      <td>0.0</td>\n",
       "      <td>4</td>\n",
       "    </tr>\n",
       "  </tbody>\n",
       "</table>\n",
       "</div>"
      ],
      "text/plain": [
       "                 SOURCE_KEY  DC_POWER  AC_POWER  DAILY_YIELD  \\\n",
       "DATE_TIME                                                      \n",
       "2020-05-15  1BY6WEcLGh8j5v7       0.0       0.0          0.0   \n",
       "2020-05-15  1IF53ai7Xc0U56Y       0.0       0.0          0.0   \n",
       "2020-05-15  3PZuoBAID5Wc2HD       0.0       0.0          0.0   \n",
       "2020-05-15  7JYdWkrLSPkdwr4       0.0       0.0          0.0   \n",
       "2020-05-15  McdE0feGgRqW7Ca       0.0       0.0          0.0   \n",
       "\n",
       "            AMBIENT_TEMPERATURE  MODULE_TEMPERATURE  IRRADIATION  \\\n",
       "DATE_TIME                                                          \n",
       "2020-05-15                   25                  22          0.0   \n",
       "2020-05-15                   25                  22          0.0   \n",
       "2020-05-15                   25                  22          0.0   \n",
       "2020-05-15                   25                  22          0.0   \n",
       "2020-05-15                   25                  22          0.0   \n",
       "\n",
       "            SOURCE_KEY_NO  \n",
       "DATE_TIME                  \n",
       "2020-05-15              0  \n",
       "2020-05-15              1  \n",
       "2020-05-15              2  \n",
       "2020-05-15              3  \n",
       "2020-05-15              4  "
      ]
     },
     "execution_count": 28,
     "metadata": {},
     "output_type": "execute_result"
    }
   ],
   "source": [
    "encoder = LabelEncoder()\n",
    "\n",
    "encoded_column = encoder.fit_transform(df[['SOURCE_KEY']])\n",
    "df['SOURCE_KEY_NO'] = encoded_column\n",
    "\n",
    "df.head(5)"
   ]
  },
  {
   "cell_type": "code",
   "execution_count": 29,
   "id": "f9a9a6f4-36af-43e0-b713-65bc1337bea5",
   "metadata": {
    "tags": []
   },
   "outputs": [
    {
     "data": {
      "text/plain": [
       "array([22, 21, 23, 24, 27, 28, 29, 31, 35, 40, 39, 45, 46, 52, 47, 49, 44,\n",
       "       50, 55, 54, 43, 41, 36, 34, 30, 25, 20, 19, 33, 38, 48, 37, 32, 26,\n",
       "       60, 63, 61, 56, 53, 42, 51, 18, 58, 59, 57, 62, 65])"
      ]
     },
     "execution_count": 29,
     "metadata": {},
     "output_type": "execute_result"
    }
   ],
   "source": [
    "df['MODULE_TEMPERATURE'].unique()"
   ]
  },
  {
   "cell_type": "code",
   "execution_count": 30,
   "id": "a1b99a34-5c14-45bd-b0fc-ceba3166f058",
   "metadata": {
    "tags": []
   },
   "outputs": [
    {
     "data": {
      "text/plain": [
       "array([25, 24, 23, 26, 27, 28, 29, 30, 31, 32, 33, 34, 22, 21, 35, 20])"
      ]
     },
     "execution_count": 30,
     "metadata": {},
     "output_type": "execute_result"
    }
   ],
   "source": [
    "df['AMBIENT_TEMPERATURE'].unique()"
   ]
  },
  {
   "cell_type": "code",
   "execution_count": 31,
   "id": "51de5f4e-e9c8-44e3-9bc9-ec4f9c039675",
   "metadata": {
    "tags": []
   },
   "outputs": [
    {
     "data": {
      "text/plain": [
       "array([ 0,  1,  2,  3,  4,  5,  6,  8,  9, 10, 11, 12, 13, 14, 15, 16, 17,\n",
       "       18, 19, 20, 21,  7])"
      ]
     },
     "execution_count": 31,
     "metadata": {},
     "output_type": "execute_result"
    }
   ],
   "source": [
    "df['SOURCE_KEY_NO'].unique()"
   ]
  },
  {
   "cell_type": "code",
   "execution_count": 32,
   "id": "e47df78b-43f0-4ffa-b995-180e9aa2c18c",
   "metadata": {
    "tags": []
   },
   "outputs": [
    {
     "data": {
      "text/plain": [
       "1755"
      ]
     },
     "execution_count": 32,
     "metadata": {},
     "output_type": "execute_result"
    }
   ],
   "source": [
    "df['IRRADIATION'].nunique()"
   ]
  },
  {
   "cell_type": "code",
   "execution_count": 33,
   "id": "cd357f3f-f807-4f12-8aca-3456fabf775e",
   "metadata": {
    "tags": []
   },
   "outputs": [
    {
     "data": {
      "image/png": "[encoded data removed]",
      "text/plain": [
       "<Figure size 1500x500 with 1 Axes>"
      ]
     },
     "metadata": {},
     "output_type": "display_data"
    }
   ],
   "source": [
    "df[['AC_POWER', 'DC_POWER']].plot(figsize=(15, 5));"
   ]
  },
  {
   "cell_type": "code",
   "execution_count": 34,
   "id": "8319efd4-b895-4849-b0c6-c8e385b921b8",
   "metadata": {
    "tags": []
   },
   "outputs": [
    {
     "data": {
      "text/plain": [
       "<Axes: xlabel='DATE_TIME'>"
      ]
     },
     "execution_count": 34,
     "metadata": {},
     "output_type": "execute_result"
    },
    {
     "data": {
      "image/png": "[encoded data removed]",
      "text/plain": [
       "<Figure size 1200x500 with 1 Axes>"
      ]
     },
     "metadata": {},
     "output_type": "display_data"
    }
   ],
   "source": [
    "df[['AMBIENT_TEMPERATURE', 'MODULE_TEMPERATURE']].plot(figsize=(12,5))"
   ]
  },
  {
   "cell_type": "markdown",
   "id": "7bc6f02c-18ca-4685-9e57-0b4f8bfcec42",
   "metadata": {
    "tags": []
   },
   "source": [
    "# Data Split"
   ]
  },
  {
   "cell_type": "code",
   "execution_count": 35,
   "id": "380ac7c1-94d8-4396-85cd-40ce6f5d6f37",
   "metadata": {
    "tags": []
   },
   "outputs": [],
   "source": [
    "x=df.drop(columns=['AC_POWER','SOURCE_KEY','DAILY_YIELD','SOURCE_KEY_NO'], axis=1)\n",
    "y=df['AC_POWER'].copy()"
   ]
  },
  {
   "cell_type": "code",
   "execution_count": 36,
   "id": "e1966e97-ed30-4ba0-9381-cb5a7a069888",
   "metadata": {
    "tags": []
   },
   "outputs": [
    {
     "data": {
      "text/html": [
       "<div>\n",
       "<style scoped>\n",
       "    .dataframe tbody tr th:only-of-type {\n",
       "        vertical-align: middle;\n",
       "    }\n",
       "\n",
       "    .dataframe tbody tr th {\n",
       "        vertical-align: top;\n",
       "    }\n",
       "\n",
       "    .dataframe thead th {\n",
       "        text-align: right;\n",
       "    }\n",
       "</style>\n",
       "<table border=\"1\" class=\"dataframe\">\n",
       "  <thead>\n",
       "    <tr style=\"text-align: right;\">\n",
       "      <th></th>\n",
       "      <th>DC_POWER</th>\n",
       "      <th>AMBIENT_TEMPERATURE</th>\n",
       "      <th>MODULE_TEMPERATURE</th>\n",
       "      <th>IRRADIATION</th>\n",
       "    </tr>\n",
       "    <tr>\n",
       "      <th>DATE_TIME</th>\n",
       "      <th></th>\n",
       "      <th></th>\n",
       "      <th></th>\n",
       "      <th></th>\n",
       "    </tr>\n",
       "  </thead>\n",
       "  <tbody>\n",
       "    <tr>\n",
       "      <th>2020-05-15 00:00:00</th>\n",
       "      <td>0.0</td>\n",
       "      <td>25</td>\n",
       "      <td>22</td>\n",
       "      <td>0.0</td>\n",
       "    </tr>\n",
       "    <tr>\n",
       "      <th>2020-05-15 00:00:00</th>\n",
       "      <td>0.0</td>\n",
       "      <td>25</td>\n",
       "      <td>22</td>\n",
       "      <td>0.0</td>\n",
       "    </tr>\n",
       "    <tr>\n",
       "      <th>2020-05-15 00:00:00</th>\n",
       "      <td>0.0</td>\n",
       "      <td>25</td>\n",
       "      <td>22</td>\n",
       "      <td>0.0</td>\n",
       "    </tr>\n",
       "    <tr>\n",
       "      <th>2020-05-15 00:00:00</th>\n",
       "      <td>0.0</td>\n",
       "      <td>25</td>\n",
       "      <td>22</td>\n",
       "      <td>0.0</td>\n",
       "    </tr>\n",
       "    <tr>\n",
       "      <th>2020-05-15 00:00:00</th>\n",
       "      <td>0.0</td>\n",
       "      <td>25</td>\n",
       "      <td>22</td>\n",
       "      <td>0.0</td>\n",
       "    </tr>\n",
       "    <tr>\n",
       "      <th>...</th>\n",
       "      <td>...</td>\n",
       "      <td>...</td>\n",
       "      <td>...</td>\n",
       "      <td>...</td>\n",
       "    </tr>\n",
       "    <tr>\n",
       "      <th>2020-06-17 23:45:00</th>\n",
       "      <td>0.0</td>\n",
       "      <td>21</td>\n",
       "      <td>20</td>\n",
       "      <td>0.0</td>\n",
       "    </tr>\n",
       "    <tr>\n",
       "      <th>2020-06-17 23:45:00</th>\n",
       "      <td>0.0</td>\n",
       "      <td>21</td>\n",
       "      <td>20</td>\n",
       "      <td>0.0</td>\n",
       "    </tr>\n",
       "    <tr>\n",
       "      <th>2020-06-17 23:45:00</th>\n",
       "      <td>0.0</td>\n",
       "      <td>21</td>\n",
       "      <td>20</td>\n",
       "      <td>0.0</td>\n",
       "    </tr>\n",
       "    <tr>\n",
       "      <th>2020-06-17 23:45:00</th>\n",
       "      <td>0.0</td>\n",
       "      <td>21</td>\n",
       "      <td>20</td>\n",
       "      <td>0.0</td>\n",
       "    </tr>\n",
       "    <tr>\n",
       "      <th>2020-06-17 23:45:00</th>\n",
       "      <td>0.0</td>\n",
       "      <td>21</td>\n",
       "      <td>20</td>\n",
       "      <td>0.0</td>\n",
       "    </tr>\n",
       "  </tbody>\n",
       "</table>\n",
       "<p>68774 rows × 4 columns</p>\n",
       "</div>"
      ],
      "text/plain": [
       "                     DC_POWER  AMBIENT_TEMPERATURE  MODULE_TEMPERATURE  \\\n",
       "DATE_TIME                                                                \n",
       "2020-05-15 00:00:00       0.0                   25                  22   \n",
       "2020-05-15 00:00:00       0.0                   25                  22   \n",
       "2020-05-15 00:00:00       0.0                   25                  22   \n",
       "2020-05-15 00:00:00       0.0                   25                  22   \n",
       "2020-05-15 00:00:00       0.0                   25                  22   \n",
       "...                       ...                  ...                 ...   \n",
       "2020-06-17 23:45:00       0.0                   21                  20   \n",
       "2020-06-17 23:45:00       0.0                   21                  20   \n",
       "2020-06-17 23:45:00       0.0                   21                  20   \n",
       "2020-06-17 23:45:00       0.0                   21                  20   \n",
       "2020-06-17 23:45:00       0.0                   21                  20   \n",
       "\n",
       "                     IRRADIATION  \n",
       "DATE_TIME                         \n",
       "2020-05-15 00:00:00          0.0  \n",
       "2020-05-15 00:00:00          0.0  \n",
       "2020-05-15 00:00:00          0.0  \n",
       "2020-05-15 00:00:00          0.0  \n",
       "2020-05-15 00:00:00          0.0  \n",
       "...                          ...  \n",
       "2020-06-17 23:45:00          0.0  \n",
       "2020-06-17 23:45:00          0.0  \n",
       "2020-06-17 23:45:00          0.0  \n",
       "2020-06-17 23:45:00          0.0  \n",
       "2020-06-17 23:45:00          0.0  \n",
       "\n",
       "[68774 rows x 4 columns]"
      ]
     },
     "execution_count": 36,
     "metadata": {},
     "output_type": "execute_result"
    }
   ],
   "source": [
    "x"
   ]
  },
  {
   "cell_type": "markdown",
   "id": "49191e74-e6f6-4ae3-9a62-114156daefe7",
   "metadata": {},
   "source": [
    "**Train Split:**"
   ]
  },
  {
   "cell_type": "code",
   "execution_count": 37,
   "id": "7f5dbcae-3e19-481c-8677-9ee282ff06cc",
   "metadata": {
    "tags": []
   },
   "outputs": [],
   "source": [
    "x_train=x.loc[: '2020-06-10 23:45:00']\n",
    "y_train=y.loc[: '2020-06-10 23:45:00']"
   ]
  },
  {
   "cell_type": "code",
   "execution_count": 38,
   "id": "0257e4a2-66cc-4800-9431-38f9d7c5d5c4",
   "metadata": {
    "tags": []
   },
   "outputs": [
    {
     "data": {
      "text/html": [
       "<div>\n",
       "<style scoped>\n",
       "    .dataframe tbody tr th:only-of-type {\n",
       "        vertical-align: middle;\n",
       "    }\n",
       "\n",
       "    .dataframe tbody tr th {\n",
       "        vertical-align: top;\n",
       "    }\n",
       "\n",
       "    .dataframe thead th {\n",
       "        text-align: right;\n",
       "    }\n",
       "</style>\n",
       "<table border=\"1\" class=\"dataframe\">\n",
       "  <thead>\n",
       "    <tr style=\"text-align: right;\">\n",
       "      <th></th>\n",
       "      <th>DC_POWER</th>\n",
       "      <th>AMBIENT_TEMPERATURE</th>\n",
       "      <th>MODULE_TEMPERATURE</th>\n",
       "      <th>IRRADIATION</th>\n",
       "    </tr>\n",
       "    <tr>\n",
       "      <th>DATE_TIME</th>\n",
       "      <th></th>\n",
       "      <th></th>\n",
       "      <th></th>\n",
       "      <th></th>\n",
       "    </tr>\n",
       "  </thead>\n",
       "  <tbody>\n",
       "    <tr>\n",
       "      <th>2020-05-15 00:00:00</th>\n",
       "      <td>0.0</td>\n",
       "      <td>25</td>\n",
       "      <td>22</td>\n",
       "      <td>0.0</td>\n",
       "    </tr>\n",
       "    <tr>\n",
       "      <th>2020-05-15 00:00:00</th>\n",
       "      <td>0.0</td>\n",
       "      <td>25</td>\n",
       "      <td>22</td>\n",
       "      <td>0.0</td>\n",
       "    </tr>\n",
       "    <tr>\n",
       "      <th>2020-05-15 00:00:00</th>\n",
       "      <td>0.0</td>\n",
       "      <td>25</td>\n",
       "      <td>22</td>\n",
       "      <td>0.0</td>\n",
       "    </tr>\n",
       "    <tr>\n",
       "      <th>2020-05-15 00:00:00</th>\n",
       "      <td>0.0</td>\n",
       "      <td>25</td>\n",
       "      <td>22</td>\n",
       "      <td>0.0</td>\n",
       "    </tr>\n",
       "    <tr>\n",
       "      <th>2020-05-15 00:00:00</th>\n",
       "      <td>0.0</td>\n",
       "      <td>25</td>\n",
       "      <td>22</td>\n",
       "      <td>0.0</td>\n",
       "    </tr>\n",
       "    <tr>\n",
       "      <th>...</th>\n",
       "      <td>...</td>\n",
       "      <td>...</td>\n",
       "      <td>...</td>\n",
       "      <td>...</td>\n",
       "    </tr>\n",
       "    <tr>\n",
       "      <th>2020-06-10 23:45:00</th>\n",
       "      <td>0.0</td>\n",
       "      <td>22</td>\n",
       "      <td>21</td>\n",
       "      <td>0.0</td>\n",
       "    </tr>\n",
       "    <tr>\n",
       "      <th>2020-06-10 23:45:00</th>\n",
       "      <td>0.0</td>\n",
       "      <td>22</td>\n",
       "      <td>21</td>\n",
       "      <td>0.0</td>\n",
       "    </tr>\n",
       "    <tr>\n",
       "      <th>2020-06-10 23:45:00</th>\n",
       "      <td>0.0</td>\n",
       "      <td>22</td>\n",
       "      <td>21</td>\n",
       "      <td>0.0</td>\n",
       "    </tr>\n",
       "    <tr>\n",
       "      <th>2020-06-10 23:45:00</th>\n",
       "      <td>0.0</td>\n",
       "      <td>22</td>\n",
       "      <td>21</td>\n",
       "      <td>0.0</td>\n",
       "    </tr>\n",
       "    <tr>\n",
       "      <th>2020-06-10 23:45:00</th>\n",
       "      <td>0.0</td>\n",
       "      <td>22</td>\n",
       "      <td>21</td>\n",
       "      <td>0.0</td>\n",
       "    </tr>\n",
       "  </tbody>\n",
       "</table>\n",
       "<p>54034 rows × 4 columns</p>\n",
       "</div>"
      ],
      "text/plain": [
       "                     DC_POWER  AMBIENT_TEMPERATURE  MODULE_TEMPERATURE  \\\n",
       "DATE_TIME                                                                \n",
       "2020-05-15 00:00:00       0.0                   25                  22   \n",
       "2020-05-15 00:00:00       0.0                   25                  22   \n",
       "2020-05-15 00:00:00       0.0                   25                  22   \n",
       "2020-05-15 00:00:00       0.0                   25                  22   \n",
       "2020-05-15 00:00:00       0.0                   25                  22   \n",
       "...                       ...                  ...                 ...   \n",
       "2020-06-10 23:45:00       0.0                   22                  21   \n",
       "2020-06-10 23:45:00       0.0                   22                  21   \n",
       "2020-06-10 23:45:00       0.0                   22                  21   \n",
       "2020-06-10 23:45:00       0.0                   22                  21   \n",
       "2020-06-10 23:45:00       0.0                   22                  21   \n",
       "\n",
       "                     IRRADIATION  \n",
       "DATE_TIME                         \n",
       "2020-05-15 00:00:00          0.0  \n",
       "2020-05-15 00:00:00          0.0  \n",
       "2020-05-15 00:00:00          0.0  \n",
       "2020-05-15 00:00:00          0.0  \n",
       "2020-05-15 00:00:00          0.0  \n",
       "...                          ...  \n",
       "2020-06-10 23:45:00          0.0  \n",
       "2020-06-10 23:45:00          0.0  \n",
       "2020-06-10 23:45:00          0.0  \n",
       "2020-06-10 23:45:00          0.0  \n",
       "2020-06-10 23:45:00          0.0  \n",
       "\n",
       "[54034 rows x 4 columns]"
      ]
     },
     "execution_count": 38,
     "metadata": {},
     "output_type": "execute_result"
    }
   ],
   "source": [
    "x_train"
   ]
  },
  {
   "cell_type": "code",
   "execution_count": 39,
   "id": "b4229f30-c0f6-4c9a-84bb-199ac14feeec",
   "metadata": {
    "tags": []
   },
   "outputs": [
    {
     "data": {
      "text/html": [
       "<div>\n",
       "<style scoped>\n",
       "    .dataframe tbody tr th:only-of-type {\n",
       "        vertical-align: middle;\n",
       "    }\n",
       "\n",
       "    .dataframe tbody tr th {\n",
       "        vertical-align: top;\n",
       "    }\n",
       "\n",
       "    .dataframe thead th {\n",
       "        text-align: right;\n",
       "    }\n",
       "</style>\n",
       "<table border=\"1\" class=\"dataframe\">\n",
       "  <thead>\n",
       "    <tr style=\"text-align: right;\">\n",
       "      <th></th>\n",
       "      <th>AC_POWER</th>\n",
       "    </tr>\n",
       "    <tr>\n",
       "      <th>DATE_TIME</th>\n",
       "      <th></th>\n",
       "    </tr>\n",
       "  </thead>\n",
       "  <tbody>\n",
       "    <tr>\n",
       "      <th>2020-05-15 00:00:00</th>\n",
       "      <td>0.0</td>\n",
       "    </tr>\n",
       "    <tr>\n",
       "      <th>2020-05-15 00:00:00</th>\n",
       "      <td>0.0</td>\n",
       "    </tr>\n",
       "    <tr>\n",
       "      <th>2020-05-15 00:00:00</th>\n",
       "      <td>0.0</td>\n",
       "    </tr>\n",
       "    <tr>\n",
       "      <th>2020-05-15 00:00:00</th>\n",
       "      <td>0.0</td>\n",
       "    </tr>\n",
       "    <tr>\n",
       "      <th>2020-05-15 00:00:00</th>\n",
       "      <td>0.0</td>\n",
       "    </tr>\n",
       "    <tr>\n",
       "      <th>...</th>\n",
       "      <td>...</td>\n",
       "    </tr>\n",
       "    <tr>\n",
       "      <th>2020-06-10 23:45:00</th>\n",
       "      <td>0.0</td>\n",
       "    </tr>\n",
       "    <tr>\n",
       "      <th>2020-06-10 23:45:00</th>\n",
       "      <td>0.0</td>\n",
       "    </tr>\n",
       "    <tr>\n",
       "      <th>2020-06-10 23:45:00</th>\n",
       "      <td>0.0</td>\n",
       "    </tr>\n",
       "    <tr>\n",
       "      <th>2020-06-10 23:45:00</th>\n",
       "      <td>0.0</td>\n",
       "    </tr>\n",
       "    <tr>\n",
       "      <th>2020-06-10 23:45:00</th>\n",
       "      <td>0.0</td>\n",
       "    </tr>\n",
       "  </tbody>\n",
       "</table>\n",
       "<p>54034 rows × 1 columns</p>\n",
       "</div>"
      ],
      "text/plain": [
       "                     AC_POWER\n",
       "DATE_TIME                    \n",
       "2020-05-15 00:00:00       0.0\n",
       "2020-05-15 00:00:00       0.0\n",
       "2020-05-15 00:00:00       0.0\n",
       "2020-05-15 00:00:00       0.0\n",
       "2020-05-15 00:00:00       0.0\n",
       "...                       ...\n",
       "2020-06-10 23:45:00       0.0\n",
       "2020-06-10 23:45:00       0.0\n",
       "2020-06-10 23:45:00       0.0\n",
       "2020-06-10 23:45:00       0.0\n",
       "2020-06-10 23:45:00       0.0\n",
       "\n",
       "[54034 rows x 1 columns]"
      ]
     },
     "execution_count": 39,
     "metadata": {},
     "output_type": "execute_result"
    }
   ],
   "source": [
    "pd.DataFrame(y_train)"
   ]
  },
  {
   "cell_type": "markdown",
   "id": "39616b3a-a079-4478-b06c-b239fc7a2685",
   "metadata": {},
   "source": [
    "**Test Split:**"
   ]
  },
  {
   "cell_type": "code",
   "execution_count": 40,
   "id": "c8fc8fd4-8ef6-49ca-8a7e-05d35a7600f2",
   "metadata": {
    "tags": []
   },
   "outputs": [],
   "source": [
    "x_test=x.loc['2020-06-11 00:00:00': ]\n",
    "y_test=y.loc['2020-06-11 00:00:00': ]"
   ]
  },
  {
   "cell_type": "code",
   "execution_count": 41,
   "id": "a237351b-7948-4462-b25b-e59029fad111",
   "metadata": {
    "tags": []
   },
   "outputs": [
    {
     "data": {
      "text/html": [
       "<div>\n",
       "<style scoped>\n",
       "    .dataframe tbody tr th:only-of-type {\n",
       "        vertical-align: middle;\n",
       "    }\n",
       "\n",
       "    .dataframe tbody tr th {\n",
       "        vertical-align: top;\n",
       "    }\n",
       "\n",
       "    .dataframe thead th {\n",
       "        text-align: right;\n",
       "    }\n",
       "</style>\n",
       "<table border=\"1\" class=\"dataframe\">\n",
       "  <thead>\n",
       "    <tr style=\"text-align: right;\">\n",
       "      <th></th>\n",
       "      <th>DC_POWER</th>\n",
       "      <th>AMBIENT_TEMPERATURE</th>\n",
       "      <th>MODULE_TEMPERATURE</th>\n",
       "      <th>IRRADIATION</th>\n",
       "    </tr>\n",
       "    <tr>\n",
       "      <th>DATE_TIME</th>\n",
       "      <th></th>\n",
       "      <th></th>\n",
       "      <th></th>\n",
       "      <th></th>\n",
       "    </tr>\n",
       "  </thead>\n",
       "  <tbody>\n",
       "    <tr>\n",
       "      <th>2020-06-11 00:00:00</th>\n",
       "      <td>0.0</td>\n",
       "      <td>22</td>\n",
       "      <td>21</td>\n",
       "      <td>0.0</td>\n",
       "    </tr>\n",
       "    <tr>\n",
       "      <th>2020-06-11 00:00:00</th>\n",
       "      <td>0.0</td>\n",
       "      <td>22</td>\n",
       "      <td>21</td>\n",
       "      <td>0.0</td>\n",
       "    </tr>\n",
       "    <tr>\n",
       "      <th>2020-06-11 00:00:00</th>\n",
       "      <td>0.0</td>\n",
       "      <td>22</td>\n",
       "      <td>21</td>\n",
       "      <td>0.0</td>\n",
       "    </tr>\n",
       "    <tr>\n",
       "      <th>2020-06-11 00:00:00</th>\n",
       "      <td>0.0</td>\n",
       "      <td>22</td>\n",
       "      <td>21</td>\n",
       "      <td>0.0</td>\n",
       "    </tr>\n",
       "    <tr>\n",
       "      <th>2020-06-11 00:00:00</th>\n",
       "      <td>0.0</td>\n",
       "      <td>22</td>\n",
       "      <td>21</td>\n",
       "      <td>0.0</td>\n",
       "    </tr>\n",
       "    <tr>\n",
       "      <th>...</th>\n",
       "      <td>...</td>\n",
       "      <td>...</td>\n",
       "      <td>...</td>\n",
       "      <td>...</td>\n",
       "    </tr>\n",
       "    <tr>\n",
       "      <th>2020-06-17 23:45:00</th>\n",
       "      <td>0.0</td>\n",
       "      <td>21</td>\n",
       "      <td>20</td>\n",
       "      <td>0.0</td>\n",
       "    </tr>\n",
       "    <tr>\n",
       "      <th>2020-06-17 23:45:00</th>\n",
       "      <td>0.0</td>\n",
       "      <td>21</td>\n",
       "      <td>20</td>\n",
       "      <td>0.0</td>\n",
       "    </tr>\n",
       "    <tr>\n",
       "      <th>2020-06-17 23:45:00</th>\n",
       "      <td>0.0</td>\n",
       "      <td>21</td>\n",
       "      <td>20</td>\n",
       "      <td>0.0</td>\n",
       "    </tr>\n",
       "    <tr>\n",
       "      <th>2020-06-17 23:45:00</th>\n",
       "      <td>0.0</td>\n",
       "      <td>21</td>\n",
       "      <td>20</td>\n",
       "      <td>0.0</td>\n",
       "    </tr>\n",
       "    <tr>\n",
       "      <th>2020-06-17 23:45:00</th>\n",
       "      <td>0.0</td>\n",
       "      <td>21</td>\n",
       "      <td>20</td>\n",
       "      <td>0.0</td>\n",
       "    </tr>\n",
       "  </tbody>\n",
       "</table>\n",
       "<p>14740 rows × 4 columns</p>\n",
       "</div>"
      ],
      "text/plain": [
       "                     DC_POWER  AMBIENT_TEMPERATURE  MODULE_TEMPERATURE  \\\n",
       "DATE_TIME                                                                \n",
       "2020-06-11 00:00:00       0.0                   22                  21   \n",
       "2020-06-11 00:00:00       0.0                   22                  21   \n",
       "2020-06-11 00:00:00       0.0                   22                  21   \n",
       "2020-06-11 00:00:00       0.0                   22                  21   \n",
       "2020-06-11 00:00:00       0.0                   22                  21   \n",
       "...                       ...                  ...                 ...   \n",
       "2020-06-17 23:45:00       0.0                   21                  20   \n",
       "2020-06-17 23:45:00       0.0                   21                  20   \n",
       "2020-06-17 23:45:00       0.0                   21                  20   \n",
       "2020-06-17 23:45:00       0.0                   21                  20   \n",
       "2020-06-17 23:45:00       0.0                   21                  20   \n",
       "\n",
       "                     IRRADIATION  \n",
       "DATE_TIME                         \n",
       "2020-06-11 00:00:00          0.0  \n",
       "2020-06-11 00:00:00          0.0  \n",
       "2020-06-11 00:00:00          0.0  \n",
       "2020-06-11 00:00:00          0.0  \n",
       "2020-06-11 00:00:00          0.0  \n",
       "...                          ...  \n",
       "2020-06-17 23:45:00          0.0  \n",
       "2020-06-17 23:45:00          0.0  \n",
       "2020-06-17 23:45:00          0.0  \n",
       "2020-06-17 23:45:00          0.0  \n",
       "2020-06-17 23:45:00          0.0  \n",
       "\n",
       "[14740 rows x 4 columns]"
      ]
     },
     "execution_count": 41,
     "metadata": {},
     "output_type": "execute_result"
    }
   ],
   "source": [
    "x_test"
   ]
  },
  {
   "cell_type": "code",
   "execution_count": 42,
   "id": "d042082b-c465-4f4b-8e61-7d5e863fc2fa",
   "metadata": {
    "tags": []
   },
   "outputs": [
    {
     "data": {
      "text/html": [
       "<div>\n",
       "<style scoped>\n",
       "    .dataframe tbody tr th:only-of-type {\n",
       "        vertical-align: middle;\n",
       "    }\n",
       "\n",
       "    .dataframe tbody tr th {\n",
       "        vertical-align: top;\n",
       "    }\n",
       "\n",
       "    .dataframe thead th {\n",
       "        text-align: right;\n",
       "    }\n",
       "</style>\n",
       "<table border=\"1\" class=\"dataframe\">\n",
       "  <thead>\n",
       "    <tr style=\"text-align: right;\">\n",
       "      <th></th>\n",
       "      <th>AC_POWER</th>\n",
       "    </tr>\n",
       "    <tr>\n",
       "      <th>DATE_TIME</th>\n",
       "      <th></th>\n",
       "    </tr>\n",
       "  </thead>\n",
       "  <tbody>\n",
       "    <tr>\n",
       "      <th>2020-06-11 00:00:00</th>\n",
       "      <td>0.0</td>\n",
       "    </tr>\n",
       "    <tr>\n",
       "      <th>2020-06-11 00:00:00</th>\n",
       "      <td>0.0</td>\n",
       "    </tr>\n",
       "    <tr>\n",
       "      <th>2020-06-11 00:00:00</th>\n",
       "      <td>0.0</td>\n",
       "    </tr>\n",
       "    <tr>\n",
       "      <th>2020-06-11 00:00:00</th>\n",
       "      <td>0.0</td>\n",
       "    </tr>\n",
       "    <tr>\n",
       "      <th>2020-06-11 00:00:00</th>\n",
       "      <td>0.0</td>\n",
       "    </tr>\n",
       "    <tr>\n",
       "      <th>...</th>\n",
       "      <td>...</td>\n",
       "    </tr>\n",
       "    <tr>\n",
       "      <th>2020-06-17 23:45:00</th>\n",
       "      <td>0.0</td>\n",
       "    </tr>\n",
       "    <tr>\n",
       "      <th>2020-06-17 23:45:00</th>\n",
       "      <td>0.0</td>\n",
       "    </tr>\n",
       "    <tr>\n",
       "      <th>2020-06-17 23:45:00</th>\n",
       "      <td>0.0</td>\n",
       "    </tr>\n",
       "    <tr>\n",
       "      <th>2020-06-17 23:45:00</th>\n",
       "      <td>0.0</td>\n",
       "    </tr>\n",
       "    <tr>\n",
       "      <th>2020-06-17 23:45:00</th>\n",
       "      <td>0.0</td>\n",
       "    </tr>\n",
       "  </tbody>\n",
       "</table>\n",
       "<p>14740 rows × 1 columns</p>\n",
       "</div>"
      ],
      "text/plain": [
       "                     AC_POWER\n",
       "DATE_TIME                    \n",
       "2020-06-11 00:00:00       0.0\n",
       "2020-06-11 00:00:00       0.0\n",
       "2020-06-11 00:00:00       0.0\n",
       "2020-06-11 00:00:00       0.0\n",
       "2020-06-11 00:00:00       0.0\n",
       "...                       ...\n",
       "2020-06-17 23:45:00       0.0\n",
       "2020-06-17 23:45:00       0.0\n",
       "2020-06-17 23:45:00       0.0\n",
       "2020-06-17 23:45:00       0.0\n",
       "2020-06-17 23:45:00       0.0\n",
       "\n",
       "[14740 rows x 1 columns]"
      ]
     },
     "execution_count": 42,
     "metadata": {},
     "output_type": "execute_result"
    }
   ],
   "source": [
    "pd.DataFrame(y_test)"
   ]
  },
  {
   "cell_type": "markdown",
   "id": "f6ba8abc-b465-48b3-bf1a-70b1ee16dad9",
   "metadata": {
    "tags": []
   },
   "source": [
    "# ML Models:"
   ]
  },
  {
   "cell_type": "markdown",
   "id": "91e55305-e3b3-42b4-810a-1428a9555c2c",
   "metadata": {},
   "source": [
    "**Linear Regression:**"
   ]
  },
  {
   "cell_type": "code",
   "execution_count": 43,
   "id": "6a57db3f-7f01-422c-a9cd-7c321fd5a86c",
   "metadata": {
    "tags": []
   },
   "outputs": [
    {
     "data": {
      "text/html": [
       "<style>#sk-container-id-1 {color: black;}#sk-container-id-1 pre{padding: 0;}#sk-container-id-1 div.sk-toggleable {background-color: white;}#sk-container-id-1 label.sk-toggleable__label {cursor: pointer;display: block;width: 100%;margin-bottom: 0;padding: 0.3em;box-sizing: border-box;text-align: center;}#sk-container-id-1 label.sk-toggleable__label-arrow:before {content: \"▸\";float: left;margin-right: 0.25em;color: #696969;}#sk-container-id-1 label.sk-toggleable__label-arrow:hover:before {color: black;}#sk-container-id-1 div.sk-estimator:hover label.sk-toggleable__label-arrow:before {color: black;}#sk-container-id-1 div.sk-toggleable__content {max-height: 0;max-width: 0;overflow: hidden;text-align: left;background-color: #f0f8ff;}#sk-container-id-1 div.sk-toggleable__content pre {margin: 0.2em;color: black;border-radius: 0.25em;background-color: #f0f8ff;}#sk-container-id-1 input.sk-toggleable__control:checked~div.sk-toggleable__content {max-height: 200px;max-width: 100%;overflow: auto;}#sk-container-id-1 input.sk-toggleable__control:checked~label.sk-toggleable__label-arrow:before {content: \"▾\";}#sk-container-id-1 div.sk-estimator input.sk-toggleable__control:checked~label.sk-toggleable__label {background-color: #d4ebff;}#sk-container-id-1 div.sk-label input.sk-toggleable__control:checked~label.sk-toggleable__label {background-color: #d4ebff;}#sk-container-id-1 input.sk-hidden--visually {border: 0;clip: rect(1px 1px 1px 1px);clip: rect(1px, 1px, 1px, 1px);height: 1px;margin: -1px;overflow: hidden;padding: 0;position: absolute;width: 1px;}#sk-container-id-1 div.sk-estimator {font-family: monospace;background-color: #f0f8ff;border: 1px dotted black;border-radius: 0.25em;box-sizing: border-box;margin-bottom: 0.5em;}#sk-container-id-1 div.sk-estimator:hover {background-color: #d4ebff;}#sk-container-id-1 div.sk-parallel-item::after {content: \"\";width: 100%;border-bottom: 1px solid gray;flex-grow: 1;}#sk-container-id-1 div.sk-label:hover label.sk-toggleable__label {background-color: #d4ebff;}#sk-container-id-1 div.sk-serial::before {content: \"\";position: absolute;border-left: 1px solid gray;box-sizing: border-box;top: 0;bottom: 0;left: 50%;z-index: 0;}#sk-container-id-1 div.sk-serial {display: flex;flex-direction: column;align-items: center;background-color: white;padding-right: 0.2em;padding-left: 0.2em;position: relative;}#sk-container-id-1 div.sk-item {position: relative;z-index: 1;}#sk-container-id-1 div.sk-parallel {display: flex;align-items: stretch;justify-content: center;background-color: white;position: relative;}#sk-container-id-1 div.sk-item::before, #sk-container-id-1 div.sk-parallel-item::before {content: \"\";position: absolute;border-left: 1px solid gray;box-sizing: border-box;top: 0;bottom: 0;left: 50%;z-index: -1;}#sk-container-id-1 div.sk-parallel-item {display: flex;flex-direction: column;z-index: 1;position: relative;background-color: white;}#sk-container-id-1 div.sk-parallel-item:first-child::after {align-self: flex-end;width: 50%;}#sk-container-id-1 div.sk-parallel-item:last-child::after {align-self: flex-start;width: 50%;}#sk-container-id-1 div.sk-parallel-item:only-child::after {width: 0;}#sk-container-id-1 div.sk-dashed-wrapped {border: 1px dashed gray;margin: 0 0.4em 0.5em 0.4em;box-sizing: border-box;padding-bottom: 0.4em;background-color: white;}#sk-container-id-1 div.sk-label label {font-family: monospace;font-weight: bold;display: inline-block;line-height: 1.2em;}#sk-container-id-1 div.sk-label-container {text-align: center;}#sk-container-id-1 div.sk-container {/* jupyter's `normalize.less` sets `[hidden] { display: none; }` but bootstrap.min.css set `[hidden] { display: none !important; }` so we also need the `!important` here to be able to override the default hidden behavior on the sphinx rendered scikit-learn.org. See: https://github.com/scikit-learn/scikit-learn/issues/21755 */display: inline-block !important;position: relative;}#sk-container-id-1 div.sk-text-repr-fallback {display: none;}</style><div id=\"sk-container-id-1\" class=\"sk-top-container\"><div class=\"sk-text-repr-fallback\"><pre>LinearRegression()</pre><b>In a Jupyter environment, please rerun this cell to show the HTML representation or trust the notebook. <br />On GitHub, the HTML representation is unable to render, please try loading this page with nbviewer.org.</b></div><div class=\"sk-container\" hidden><div class=\"sk-item\"><div class=\"sk-estimator sk-toggleable\"><input class=\"sk-toggleable__control sk-hidden--visually\" id=\"sk-estimator-id-1\" type=\"checkbox\" checked><label for=\"sk-estimator-id-1\" class=\"sk-toggleable__label sk-toggleable__label-arrow\">LinearRegression</label><div class=\"sk-toggleable__content\"><pre>LinearRegression()</pre></div></div></div></div></div>"
      ],
      "text/plain": [
       "LinearRegression()"
      ]
     },
     "execution_count": 43,
     "metadata": {},
     "output_type": "execute_result"
    }
   ],
   "source": [
    "lr_reg= LinearRegression()\n",
    "lr_reg.fit(x_train, y_train)"
   ]
  },
  {
   "cell_type": "code",
   "execution_count": 44,
   "id": "b8dd181f-2088-4bc4-805d-0b03e361fdf9",
   "metadata": {
    "tags": []
   },
   "outputs": [
    {
     "data": {
      "text/plain": [
       "array([0.2766959 , 0.2766959 , 0.2766959 , ..., 0.22505675, 0.22505675,\n",
       "       0.22505675])"
      ]
     },
     "execution_count": 44,
     "metadata": {},
     "output_type": "execute_result"
    }
   ],
   "source": [
    "lr_pred=lr_reg.predict(x_test)\n",
    "lr_pred"
   ]
  },
  {
   "cell_type": "code",
   "execution_count": 45,
   "id": "1ef5cc12-0ede-44c9-a8a2-27246b683877",
   "metadata": {
    "tags": []
   },
   "outputs": [
    {
     "name": "stdout",
     "output_type": "stream",
     "text": [
      "training result:\n",
      "===============================\n",
      "Mean Absolute Error (MAE) - Training: 0.6616197999740633\n",
      "Mean Square Error (MSE) - Training: 1.108535703949292\n",
      "Root Mean Squared Error (RMSE) - Training: 1.0528702217981531\n",
      "R2 - Training: 99.99931719852356\n"
     ]
    }
   ],
   "source": [
    "print('training result:')\n",
    "print('===============================')\n",
    "\n",
    "# Assuming lr_pred_train is the predictions on the training set\n",
    "lr_pred_train = lr_reg.predict(x_train)\n",
    "\n",
    "mae_train = mean_absolute_error(y_train, lr_pred_train)\n",
    "mse_train = mean_squared_error(y_train, lr_pred_train)\n",
    "rmse_train = np.sqrt(mse_train)\n",
    "r2_train = r2_score(y_train, lr_pred_train)\n",
    "\n",
    "print(\"Mean Absolute Error (MAE) - Training:\", mae_train)\n",
    "print(\"Mean Square Error (MSE) - Training:\", mse_train)\n",
    "print(\"Root Mean Squared Error (RMSE) - Training:\", rmse_train)\n",
    "print(\"R2 - Training:\", r2_train * 100)\n"
   ]
  },
  {
   "cell_type": "code",
   "execution_count": 46,
   "id": "926b4736-05df-43da-9ea3-54cb9abb6818",
   "metadata": {
    "tags": []
   },
   "outputs": [
    {
     "name": "stdout",
     "output_type": "stream",
     "text": [
      "testing result:\n",
      "===============================\n",
      "Mean Absolute Error (MAE): 0.678449913107723\n",
      "Mean Square Error (MAE): 1.0881211373378903\n",
      "Root Mean Squared Error (RMSE): 1.0431304507768384\n",
      "R2- Testing:  99.99915699193238\n"
     ]
    }
   ],
   "source": [
    "print('testing result:')\n",
    "print('===============================')\n",
    "\n",
    "mae=mean_absolute_error(y_test,lr_pred)\n",
    "mse=mean_squared_error(y_test, lr_pred)\n",
    "rmse= np.sqrt(mse)\n",
    "r2 = r2_score(y_test, lr_pred)\n",
    "print(\"Mean Absolute Error (MAE):\", mae)\n",
    "print(\"Mean Square Error (MAE):\", mse)\n",
    "print(\"Root Mean Squared Error (RMSE):\", rmse)\n",
    "print(\"R2- Testing: \", r2*100)\n"
   ]
  },
  {
   "cell_type": "code",
   "execution_count": 47,
   "id": "82afd960-5116-4bd0-bdf3-199d65e3125b",
   "metadata": {
    "tags": []
   },
   "outputs": [
    {
     "data": {
      "text/html": [
       "<div>\n",
       "<style scoped>\n",
       "    .dataframe tbody tr th:only-of-type {\n",
       "        vertical-align: middle;\n",
       "    }\n",
       "\n",
       "    .dataframe tbody tr th {\n",
       "        vertical-align: top;\n",
       "    }\n",
       "\n",
       "    .dataframe thead th {\n",
       "        text-align: right;\n",
       "    }\n",
       "</style>\n",
       "<table border=\"1\" class=\"dataframe\">\n",
       "  <thead>\n",
       "    <tr style=\"text-align: right;\">\n",
       "      <th></th>\n",
       "      <th>Actual</th>\n",
       "      <th>Predicted</th>\n",
       "    </tr>\n",
       "    <tr>\n",
       "      <th>DATE_TIME</th>\n",
       "      <th></th>\n",
       "      <th></th>\n",
       "    </tr>\n",
       "  </thead>\n",
       "  <tbody>\n",
       "    <tr>\n",
       "      <th>2020-06-11 00:00:00</th>\n",
       "      <td>0.0</td>\n",
       "      <td>0.276696</td>\n",
       "    </tr>\n",
       "    <tr>\n",
       "      <th>2020-06-11 00:00:00</th>\n",
       "      <td>0.0</td>\n",
       "      <td>0.276696</td>\n",
       "    </tr>\n",
       "    <tr>\n",
       "      <th>2020-06-11 00:00:00</th>\n",
       "      <td>0.0</td>\n",
       "      <td>0.276696</td>\n",
       "    </tr>\n",
       "    <tr>\n",
       "      <th>2020-06-11 00:00:00</th>\n",
       "      <td>0.0</td>\n",
       "      <td>0.276696</td>\n",
       "    </tr>\n",
       "    <tr>\n",
       "      <th>2020-06-11 00:00:00</th>\n",
       "      <td>0.0</td>\n",
       "      <td>0.276696</td>\n",
       "    </tr>\n",
       "    <tr>\n",
       "      <th>...</th>\n",
       "      <td>...</td>\n",
       "      <td>...</td>\n",
       "    </tr>\n",
       "    <tr>\n",
       "      <th>2020-06-17 23:45:00</th>\n",
       "      <td>0.0</td>\n",
       "      <td>0.225057</td>\n",
       "    </tr>\n",
       "    <tr>\n",
       "      <th>2020-06-17 23:45:00</th>\n",
       "      <td>0.0</td>\n",
       "      <td>0.225057</td>\n",
       "    </tr>\n",
       "    <tr>\n",
       "      <th>2020-06-17 23:45:00</th>\n",
       "      <td>0.0</td>\n",
       "      <td>0.225057</td>\n",
       "    </tr>\n",
       "    <tr>\n",
       "      <th>2020-06-17 23:45:00</th>\n",
       "      <td>0.0</td>\n",
       "      <td>0.225057</td>\n",
       "    </tr>\n",
       "    <tr>\n",
       "      <th>2020-06-17 23:45:00</th>\n",
       "      <td>0.0</td>\n",
       "      <td>0.225057</td>\n",
       "    </tr>\n",
       "  </tbody>\n",
       "</table>\n",
       "<p>14740 rows × 2 columns</p>\n",
       "</div>"
      ],
      "text/plain": [
       "                     Actual  Predicted\n",
       "DATE_TIME                             \n",
       "2020-06-11 00:00:00     0.0   0.276696\n",
       "2020-06-11 00:00:00     0.0   0.276696\n",
       "2020-06-11 00:00:00     0.0   0.276696\n",
       "2020-06-11 00:00:00     0.0   0.276696\n",
       "2020-06-11 00:00:00     0.0   0.276696\n",
       "...                     ...        ...\n",
       "2020-06-17 23:45:00     0.0   0.225057\n",
       "2020-06-17 23:45:00     0.0   0.225057\n",
       "2020-06-17 23:45:00     0.0   0.225057\n",
       "2020-06-17 23:45:00     0.0   0.225057\n",
       "2020-06-17 23:45:00     0.0   0.225057\n",
       "\n",
       "[14740 rows x 2 columns]"
      ]
     },
     "execution_count": 47,
     "metadata": {},
     "output_type": "execute_result"
    }
   ],
   "source": [
    "results_df = pd.DataFrame({'Actual': y_test, 'Predicted': lr_pred})\n",
    "results_df"
   ]
  },
  {
   "cell_type": "markdown",
   "id": "e835bf4a-ee0e-4d01-ada5-eab2dbbc8158",
   "metadata": {
    "tags": []
   },
   "source": [
    "**Ridge:**"
   ]
  },
  {
   "cell_type": "code",
   "execution_count": 48,
   "id": "7b55335f-07c6-46e4-a1f5-4ab37542ceb7",
   "metadata": {
    "tags": []
   },
   "outputs": [
    {
     "data": {
      "text/html": [
       "<style>#sk-container-id-2 {color: black;}#sk-container-id-2 pre{padding: 0;}#sk-container-id-2 div.sk-toggleable {background-color: white;}#sk-container-id-2 label.sk-toggleable__label {cursor: pointer;display: block;width: 100%;margin-bottom: 0;padding: 0.3em;box-sizing: border-box;text-align: center;}#sk-container-id-2 label.sk-toggleable__label-arrow:before {content: \"▸\";float: left;margin-right: 0.25em;color: #696969;}#sk-container-id-2 label.sk-toggleable__label-arrow:hover:before {color: black;}#sk-container-id-2 div.sk-estimator:hover label.sk-toggleable__label-arrow:before {color: black;}#sk-container-id-2 div.sk-toggleable__content {max-height: 0;max-width: 0;overflow: hidden;text-align: left;background-color: #f0f8ff;}#sk-container-id-2 div.sk-toggleable__content pre {margin: 0.2em;color: black;border-radius: 0.25em;background-color: #f0f8ff;}#sk-container-id-2 input.sk-toggleable__control:checked~div.sk-toggleable__content {max-height: 200px;max-width: 100%;overflow: auto;}#sk-container-id-2 input.sk-toggleable__control:checked~label.sk-toggleable__label-arrow:before {content: \"▾\";}#sk-container-id-2 div.sk-estimator input.sk-toggleable__control:checked~label.sk-toggleable__label {background-color: #d4ebff;}#sk-container-id-2 div.sk-label input.sk-toggleable__control:checked~label.sk-toggleable__label {background-color: #d4ebff;}#sk-container-id-2 input.sk-hidden--visually {border: 0;clip: rect(1px 1px 1px 1px);clip: rect(1px, 1px, 1px, 1px);height: 1px;margin: -1px;overflow: hidden;padding: 0;position: absolute;width: 1px;}#sk-container-id-2 div.sk-estimator {font-family: monospace;background-color: #f0f8ff;border: 1px dotted black;border-radius: 0.25em;box-sizing: border-box;margin-bottom: 0.5em;}#sk-container-id-2 div.sk-estimator:hover {background-color: #d4ebff;}#sk-container-id-2 div.sk-parallel-item::after {content: \"\";width: 100%;border-bottom: 1px solid gray;flex-grow: 1;}#sk-container-id-2 div.sk-label:hover label.sk-toggleable__label {background-color: #d4ebff;}#sk-container-id-2 div.sk-serial::before {content: \"\";position: absolute;border-left: 1px solid gray;box-sizing: border-box;top: 0;bottom: 0;left: 50%;z-index: 0;}#sk-container-id-2 div.sk-serial {display: flex;flex-direction: column;align-items: center;background-color: white;padding-right: 0.2em;padding-left: 0.2em;position: relative;}#sk-container-id-2 div.sk-item {position: relative;z-index: 1;}#sk-container-id-2 div.sk-parallel {display: flex;align-items: stretch;justify-content: center;background-color: white;position: relative;}#sk-container-id-2 div.sk-item::before, #sk-container-id-2 div.sk-parallel-item::before {content: \"\";position: absolute;border-left: 1px solid gray;box-sizing: border-box;top: 0;bottom: 0;left: 50%;z-index: -1;}#sk-container-id-2 div.sk-parallel-item {display: flex;flex-direction: column;z-index: 1;position: relative;background-color: white;}#sk-container-id-2 div.sk-parallel-item:first-child::after {align-self: flex-end;width: 50%;}#sk-container-id-2 div.sk-parallel-item:last-child::after {align-self: flex-start;width: 50%;}#sk-container-id-2 div.sk-parallel-item:only-child::after {width: 0;}#sk-container-id-2 div.sk-dashed-wrapped {border: 1px dashed gray;margin: 0 0.4em 0.5em 0.4em;box-sizing: border-box;padding-bottom: 0.4em;background-color: white;}#sk-container-id-2 div.sk-label label {font-family: monospace;font-weight: bold;display: inline-block;line-height: 1.2em;}#sk-container-id-2 div.sk-label-container {text-align: center;}#sk-container-id-2 div.sk-container {/* jupyter's `normalize.less` sets `[hidden] { display: none; }` but bootstrap.min.css set `[hidden] { display: none !important; }` so we also need the `!important` here to be able to override the default hidden behavior on the sphinx rendered scikit-learn.org. See: https://github.com/scikit-learn/scikit-learn/issues/21755 */display: inline-block !important;position: relative;}#sk-container-id-2 div.sk-text-repr-fallback {display: none;}</style><div id=\"sk-container-id-2\" class=\"sk-top-container\"><div class=\"sk-text-repr-fallback\"><pre>Ridge()</pre><b>In a Jupyter environment, please rerun this cell to show the HTML representation or trust the notebook. <br />On GitHub, the HTML representation is unable to render, please try loading this page with nbviewer.org.</b></div><div class=\"sk-container\" hidden><div class=\"sk-item\"><div class=\"sk-estimator sk-toggleable\"><input class=\"sk-toggleable__control sk-hidden--visually\" id=\"sk-estimator-id-2\" type=\"checkbox\" checked><label for=\"sk-estimator-id-2\" class=\"sk-toggleable__label sk-toggleable__label-arrow\">Ridge</label><div class=\"sk-toggleable__content\"><pre>Ridge()</pre></div></div></div></div></div>"
      ],
      "text/plain": [
       "Ridge()"
      ]
     },
     "execution_count": 48,
     "metadata": {},
     "output_type": "execute_result"
    }
   ],
   "source": [
    "alpha = 1.0  # Regularization strength (adjust as needed)\n",
    "ridge_model = Ridge(alpha=alpha)\n",
    "ridge_model.fit(x_train, y_train)"
   ]
  },
  {
   "cell_type": "code",
   "execution_count": 49,
   "id": "fa3c7b4d-77b1-4f8a-b0f6-099246402382",
   "metadata": {
    "tags": []
   },
   "outputs": [
    {
     "name": "stdout",
     "output_type": "stream",
     "text": [
      "training result:\n",
      "===============================\n",
      "Mean Absolute Error (MAE) - Training: 0.6617800209579783\n",
      "Mean Square Error (MSE) - Training: 1.108541845837631\n",
      "Root Mean Squared Error (RMSE) - Training: 1.052873138529819\n",
      "R2 - Training: 99.99931719474046\n"
     ]
    }
   ],
   "source": [
    "print('training result:')\n",
    "print('===============================')\n",
    "\n",
    "# Assuming lr_pred_train is the predictions on the training set\n",
    "r_pred_train = ridge_model.predict(x_train)\n",
    "\n",
    "mae_train = mean_absolute_error(y_train, r_pred_train)\n",
    "mse_train = mean_squared_error(y_train, r_pred_train)\n",
    "rmse_train = np.sqrt(mse_train)\n",
    "r2_train = r2_score(y_train, r_pred_train)\n",
    "\n",
    "print(\"Mean Absolute Error (MAE) - Training:\", mae_train)\n",
    "print(\"Mean Square Error (MSE) - Training:\", mse_train)\n",
    "print(\"Root Mean Squared Error (RMSE) - Training:\", rmse_train)\n",
    "print(\"R2 - Training:\", r2_train * 100)\n"
   ]
  },
  {
   "cell_type": "code",
   "execution_count": 50,
   "id": "b42016b2-a36d-47d5-a536-1346e93b08ad",
   "metadata": {
    "tags": []
   },
   "outputs": [
    {
     "data": {
      "text/plain": [
       "array([0.27620063, 0.27620063, 0.27620063, ..., 0.2244946 , 0.2244946 ,\n",
       "       0.2244946 ])"
      ]
     },
     "execution_count": 50,
     "metadata": {},
     "output_type": "execute_result"
    }
   ],
   "source": [
    "r_pred=ridge_model.predict(x_test)\n",
    "r_pred\n"
   ]
  },
  {
   "cell_type": "code",
   "execution_count": 51,
   "id": "0d87f53e-74d1-4a50-b1de-47db7c97e602",
   "metadata": {
    "tags": []
   },
   "outputs": [
    {
     "name": "stdout",
     "output_type": "stream",
     "text": [
      "testing result:\n",
      "===============================\n",
      "Mean Absolute Error (MAE): 0.6786291171179187\n",
      "Mean Square Error (MAE): 1.0886896333795666\n",
      "Root Mean Squared Error (RMSE): 1.0434029103752618\n",
      "R2- Testing:  99.99915655149726\n"
     ]
    }
   ],
   "source": [
    "print('testing result:')\n",
    "print('===============================')\n",
    "\n",
    "mae=mean_absolute_error(y_test,r_pred)\n",
    "mse=mean_squared_error(y_test, r_pred)\n",
    "rmse= np.sqrt(mse)\n",
    "r2 = r2_score(y_test, r_pred)\n",
    "print(\"Mean Absolute Error (MAE):\", mae)\n",
    "print(\"Mean Square Error (MAE):\", mse)\n",
    "print(\"Root Mean Squared Error (RMSE):\", rmse)\n",
    "print(\"R2- Testing: \", r2*100)\n"
   ]
  },
  {
   "cell_type": "code",
   "execution_count": 52,
   "id": "0a03f6d1-100a-4e45-baa4-838753575c64",
   "metadata": {
    "tags": []
   },
   "outputs": [
    {
     "data": {
      "text/html": [
       "<div>\n",
       "<style scoped>\n",
       "    .dataframe tbody tr th:only-of-type {\n",
       "        vertical-align: middle;\n",
       "    }\n",
       "\n",
       "    .dataframe tbody tr th {\n",
       "        vertical-align: top;\n",
       "    }\n",
       "\n",
       "    .dataframe thead th {\n",
       "        text-align: right;\n",
       "    }\n",
       "</style>\n",
       "<table border=\"1\" class=\"dataframe\">\n",
       "  <thead>\n",
       "    <tr style=\"text-align: right;\">\n",
       "      <th></th>\n",
       "      <th>Actual</th>\n",
       "      <th>Predicted</th>\n",
       "    </tr>\n",
       "    <tr>\n",
       "      <th>DATE_TIME</th>\n",
       "      <th></th>\n",
       "      <th></th>\n",
       "    </tr>\n",
       "  </thead>\n",
       "  <tbody>\n",
       "    <tr>\n",
       "      <th>2020-06-14 18:15:00</th>\n",
       "      <td>24.257143</td>\n",
       "      <td>24.926336</td>\n",
       "    </tr>\n",
       "    <tr>\n",
       "      <th>2020-06-14 14:45:00</th>\n",
       "      <td>586.887500</td>\n",
       "      <td>585.665754</td>\n",
       "    </tr>\n",
       "    <tr>\n",
       "      <th>2020-06-13 15:45:00</th>\n",
       "      <td>680.525000</td>\n",
       "      <td>679.657824</td>\n",
       "    </tr>\n",
       "    <tr>\n",
       "      <th>2020-06-12 14:15:00</th>\n",
       "      <td>702.957143</td>\n",
       "      <td>701.659010</td>\n",
       "    </tr>\n",
       "    <tr>\n",
       "      <th>2020-06-12 20:15:00</th>\n",
       "      <td>0.000000</td>\n",
       "      <td>0.228959</td>\n",
       "    </tr>\n",
       "    <tr>\n",
       "      <th>2020-06-15 05:00:00</th>\n",
       "      <td>0.000000</td>\n",
       "      <td>0.224495</td>\n",
       "    </tr>\n",
       "    <tr>\n",
       "      <th>2020-06-14 15:15:00</th>\n",
       "      <td>990.412500</td>\n",
       "      <td>991.428487</td>\n",
       "    </tr>\n",
       "    <tr>\n",
       "      <th>2020-06-12 12:45:00</th>\n",
       "      <td>785.800000</td>\n",
       "      <td>784.370472</td>\n",
       "    </tr>\n",
       "    <tr>\n",
       "      <th>2020-06-13 21:45:00</th>\n",
       "      <td>0.000000</td>\n",
       "      <td>0.177253</td>\n",
       "    </tr>\n",
       "    <tr>\n",
       "      <th>2020-06-11 13:30:00</th>\n",
       "      <td>470.600000</td>\n",
       "      <td>469.291530</td>\n",
       "    </tr>\n",
       "  </tbody>\n",
       "</table>\n",
       "</div>"
      ],
      "text/plain": [
       "                         Actual   Predicted\n",
       "DATE_TIME                                  \n",
       "2020-06-14 18:15:00   24.257143   24.926336\n",
       "2020-06-14 14:45:00  586.887500  585.665754\n",
       "2020-06-13 15:45:00  680.525000  679.657824\n",
       "2020-06-12 14:15:00  702.957143  701.659010\n",
       "2020-06-12 20:15:00    0.000000    0.228959\n",
       "2020-06-15 05:00:00    0.000000    0.224495\n",
       "2020-06-14 15:15:00  990.412500  991.428487\n",
       "2020-06-12 12:45:00  785.800000  784.370472\n",
       "2020-06-13 21:45:00    0.000000    0.177253\n",
       "2020-06-11 13:30:00  470.600000  469.291530"
      ]
     },
     "execution_count": 52,
     "metadata": {},
     "output_type": "execute_result"
    }
   ],
   "source": [
    "results_df = pd.DataFrame({'Actual': y_test, 'Predicted': r_pred})\n",
    "results_df.sample(10)"
   ]
  },
  {
   "cell_type": "code",
   "execution_count": 53,
   "id": "c29a4e44-f009-48c1-b4f7-7a860876bb05",
   "metadata": {
    "tags": []
   },
   "outputs": [
    {
     "data": {
      "text/plain": [
       "<Axes: xlabel='DATE_TIME'>"
      ]
     },
     "execution_count": 53,
     "metadata": {},
     "output_type": "execute_result"
    },
    {
     "data": {
      "image/png": "[encoded data removed]",
      "text/plain": [
       "<Figure size 1300x500 with 1 Axes>"
      ]
     },
     "metadata": {},
     "output_type": "display_data"
    }
   ],
   "source": [
    "results_df.plot(figsize=(13,5))"
   ]
  },
  {
   "cell_type": "markdown",
   "id": "b97d0de2-cd2f-429b-9177-d59a93c988be",
   "metadata": {},
   "source": [
    "# Decision tree: \n"
   ]
  },
  {
   "cell_type": "code",
   "execution_count": 54,
   "id": "3c6fadae-355b-47db-8d39-5bb22893d4cd",
   "metadata": {
    "tags": []
   },
   "outputs": [
    {
     "data": {
      "text/plain": [
       "{'max_depth': 9}"
      ]
     },
     "execution_count": 54,
     "metadata": {},
     "output_type": "execute_result"
    }
   ],
   "source": [
    "dt_reg= DecisionTreeRegressor()\n",
    "grid = {\n",
    "    'max_depth': [3, 5, 7 , 9]\n",
    "} # grid search to find the optimal parameter that gives better performance\n",
    "grid_search = GridSearchCV(dt_reg, grid)\n",
    "grid_search.fit(x_train, y_train)\n",
    "grid_search.best_params_\n"
   ]
  },
  {
   "cell_type": "code",
   "execution_count": 55,
   "id": "e23bea57-ab6e-4f3b-80bb-f70af0a52d85",
   "metadata": {
    "tags": []
   },
   "outputs": [
    {
     "name": "stdout",
     "output_type": "stream",
     "text": [
      "training result:\n",
      "===============================\n",
      "Mean Absolute Error (MAE) - Training: 0.3892977089254582\n",
      "Mean Square Error (MSE) - Training: 0.5622465045994223\n",
      "Root Mean Squared Error (RMSE) - Training: 0.7498309840220143\n",
      "R2 - Training: 99.99965368481854\n"
     ]
    }
   ],
   "source": [
    "print('training result:')\n",
    "print('===============================')\n",
    "\n",
    "# Assuming lr_pred_train is the predictions on the training set\n",
    "dt_pred_train = grid_search.predict(x_train)\n",
    "\n",
    "mae_train = mean_absolute_error(y_train, dt_pred_train)\n",
    "mse_train = mean_squared_error(y_train, dt_pred_train)\n",
    "rmse_train = np.sqrt(mse_train)\n",
    "r2_train = r2_score(y_train, dt_pred_train)\n",
    "\n",
    "print(\"Mean Absolute Error (MAE) - Training:\", mae_train)\n",
    "print(\"Mean Square Error (MSE) - Training:\", mse_train)\n",
    "print(\"Root Mean Squared Error (RMSE) - Training:\", rmse_train)\n",
    "print(\"R2 - Training:\", r2_train * 100)\n"
   ]
  },
  {
   "cell_type": "code",
   "execution_count": 56,
   "id": "24d455d1-0939-4aef-b130-23e5f2c8346c",
   "metadata": {
    "tags": []
   },
   "outputs": [
    {
     "data": {
      "text/plain": [
       "array([0., 0., 0., ..., 0., 0., 0.])"
      ]
     },
     "execution_count": 56,
     "metadata": {},
     "output_type": "execute_result"
    }
   ],
   "source": [
    "dt_pred=grid_search.predict(x_test)\n",
    "dt_pred"
   ]
  },
  {
   "cell_type": "code",
   "execution_count": 57,
   "id": "7682d327-8d41-43c1-aec8-1531e3cd3c68",
   "metadata": {
    "tags": []
   },
   "outputs": [
    {
     "name": "stdout",
     "output_type": "stream",
     "text": [
      "testing result:\n",
      "===============================\n",
      "Mean Absolute Error (MAE): 0.39748166967252\n",
      "Mean Square Error (MAE): 0.7561685407254329\n",
      "Root Mean Squared Error (RMSE): 0.8695795194951598\n",
      "R2- Testing:  99.99941416800166\n"
     ]
    }
   ],
   "source": [
    "print('testing result:')\n",
    "print('===============================')\n",
    "\n",
    "mae=mean_absolute_error(y_test,dt_pred)\n",
    "mse=mean_squared_error(y_test, dt_pred)\n",
    "rmse= np.sqrt(mse)\n",
    "r2 = r2_score(y_test, dt_pred)\n",
    "print(\"Mean Absolute Error (MAE):\", mae)\n",
    "print(\"Mean Square Error (MAE):\", mse)\n",
    "print(\"Root Mean Squared Error (RMSE):\", rmse)\n",
    "print(\"R2- Testing: \", r2*100)\n"
   ]
  },
  {
   "cell_type": "code",
   "execution_count": 58,
   "id": "b371b3e8-dc0a-40ac-bb1a-b5221bac766b",
   "metadata": {
    "tags": []
   },
   "outputs": [
    {
     "data": {
      "text/html": [
       "<div>\n",
       "<style scoped>\n",
       "    .dataframe tbody tr th:only-of-type {\n",
       "        vertical-align: middle;\n",
       "    }\n",
       "\n",
       "    .dataframe tbody tr th {\n",
       "        vertical-align: top;\n",
       "    }\n",
       "\n",
       "    .dataframe thead th {\n",
       "        text-align: right;\n",
       "    }\n",
       "</style>\n",
       "<table border=\"1\" class=\"dataframe\">\n",
       "  <thead>\n",
       "    <tr style=\"text-align: right;\">\n",
       "      <th></th>\n",
       "      <th>Actual</th>\n",
       "      <th>Predicted</th>\n",
       "    </tr>\n",
       "    <tr>\n",
       "      <th>DATE_TIME</th>\n",
       "      <th></th>\n",
       "      <th></th>\n",
       "    </tr>\n",
       "  </thead>\n",
       "  <tbody>\n",
       "    <tr>\n",
       "      <th>2020-06-11 07:45:00</th>\n",
       "      <td>195.271429</td>\n",
       "      <td>196.131312</td>\n",
       "    </tr>\n",
       "    <tr>\n",
       "      <th>2020-06-14 03:00:00</th>\n",
       "      <td>0.000000</td>\n",
       "      <td>0.000000</td>\n",
       "    </tr>\n",
       "    <tr>\n",
       "      <th>2020-06-14 01:15:00</th>\n",
       "      <td>0.000000</td>\n",
       "      <td>0.000000</td>\n",
       "    </tr>\n",
       "    <tr>\n",
       "      <th>2020-06-14 09:45:00</th>\n",
       "      <td>830.342857</td>\n",
       "      <td>828.585492</td>\n",
       "    </tr>\n",
       "    <tr>\n",
       "      <th>2020-06-11 00:45:00</th>\n",
       "      <td>0.000000</td>\n",
       "      <td>0.000000</td>\n",
       "    </tr>\n",
       "    <tr>\n",
       "      <th>2020-06-16 19:30:00</th>\n",
       "      <td>0.000000</td>\n",
       "      <td>0.000000</td>\n",
       "    </tr>\n",
       "    <tr>\n",
       "      <th>2020-06-13 23:45:00</th>\n",
       "      <td>0.000000</td>\n",
       "      <td>0.000000</td>\n",
       "    </tr>\n",
       "    <tr>\n",
       "      <th>2020-06-11 06:15:00</th>\n",
       "      <td>15.671429</td>\n",
       "      <td>15.452473</td>\n",
       "    </tr>\n",
       "    <tr>\n",
       "      <th>2020-06-14 16:00:00</th>\n",
       "      <td>557.912500</td>\n",
       "      <td>559.018177</td>\n",
       "    </tr>\n",
       "    <tr>\n",
       "      <th>2020-06-11 13:30:00</th>\n",
       "      <td>477.642857</td>\n",
       "      <td>477.461272</td>\n",
       "    </tr>\n",
       "  </tbody>\n",
       "</table>\n",
       "</div>"
      ],
      "text/plain": [
       "                         Actual   Predicted\n",
       "DATE_TIME                                  \n",
       "2020-06-11 07:45:00  195.271429  196.131312\n",
       "2020-06-14 03:00:00    0.000000    0.000000\n",
       "2020-06-14 01:15:00    0.000000    0.000000\n",
       "2020-06-14 09:45:00  830.342857  828.585492\n",
       "2020-06-11 00:45:00    0.000000    0.000000\n",
       "2020-06-16 19:30:00    0.000000    0.000000\n",
       "2020-06-13 23:45:00    0.000000    0.000000\n",
       "2020-06-11 06:15:00   15.671429   15.452473\n",
       "2020-06-14 16:00:00  557.912500  559.018177\n",
       "2020-06-11 13:30:00  477.642857  477.461272"
      ]
     },
     "execution_count": 58,
     "metadata": {},
     "output_type": "execute_result"
    }
   ],
   "source": [
    "results_df = pd.DataFrame({'Actual': y_test, 'Predicted': dt_pred})\n",
    "results_df.sample(10)"
   ]
  },
  {
   "cell_type": "markdown",
   "id": "bef72458-8b32-48c8-821b-ebf8272956d6",
   "metadata": {},
   "source": [
    "# Random Forest: "
   ]
  },
  {
   "cell_type": "code",
   "execution_count": 59,
   "id": "d3c7c6fd-6622-4cfb-8651-81fe7e664ea8",
   "metadata": {
    "tags": []
   },
   "outputs": [
    {
     "data": {
      "text/html": [
       "<style>#sk-container-id-3 {color: black;}#sk-container-id-3 pre{padding: 0;}#sk-container-id-3 div.sk-toggleable {background-color: white;}#sk-container-id-3 label.sk-toggleable__label {cursor: pointer;display: block;width: 100%;margin-bottom: 0;padding: 0.3em;box-sizing: border-box;text-align: center;}#sk-container-id-3 label.sk-toggleable__label-arrow:before {content: \"▸\";float: left;margin-right: 0.25em;color: #696969;}#sk-container-id-3 label.sk-toggleable__label-arrow:hover:before {color: black;}#sk-container-id-3 div.sk-estimator:hover label.sk-toggleable__label-arrow:before {color: black;}#sk-container-id-3 div.sk-toggleable__content {max-height: 0;max-width: 0;overflow: hidden;text-align: left;background-color: #f0f8ff;}#sk-container-id-3 div.sk-toggleable__content pre {margin: 0.2em;color: black;border-radius: 0.25em;background-color: #f0f8ff;}#sk-container-id-3 input.sk-toggleable__control:checked~div.sk-toggleable__content {max-height: 200px;max-width: 100%;overflow: auto;}#sk-container-id-3 input.sk-toggleable__control:checked~label.sk-toggleable__label-arrow:before {content: \"▾\";}#sk-container-id-3 div.sk-estimator input.sk-toggleable__control:checked~label.sk-toggleable__label {background-color: #d4ebff;}#sk-container-id-3 div.sk-label input.sk-toggleable__control:checked~label.sk-toggleable__label {background-color: #d4ebff;}#sk-container-id-3 input.sk-hidden--visually {border: 0;clip: rect(1px 1px 1px 1px);clip: rect(1px, 1px, 1px, 1px);height: 1px;margin: -1px;overflow: hidden;padding: 0;position: absolute;width: 1px;}#sk-container-id-3 div.sk-estimator {font-family: monospace;background-color: #f0f8ff;border: 1px dotted black;border-radius: 0.25em;box-sizing: border-box;margin-bottom: 0.5em;}#sk-container-id-3 div.sk-estimator:hover {background-color: #d4ebff;}#sk-container-id-3 div.sk-parallel-item::after {content: \"\";width: 100%;border-bottom: 1px solid gray;flex-grow: 1;}#sk-container-id-3 div.sk-label:hover label.sk-toggleable__label {background-color: #d4ebff;}#sk-container-id-3 div.sk-serial::before {content: \"\";position: absolute;border-left: 1px solid gray;box-sizing: border-box;top: 0;bottom: 0;left: 50%;z-index: 0;}#sk-container-id-3 div.sk-serial {display: flex;flex-direction: column;align-items: center;background-color: white;padding-right: 0.2em;padding-left: 0.2em;position: relative;}#sk-container-id-3 div.sk-item {position: relative;z-index: 1;}#sk-container-id-3 div.sk-parallel {display: flex;align-items: stretch;justify-content: center;background-color: white;position: relative;}#sk-container-id-3 div.sk-item::before, #sk-container-id-3 div.sk-parallel-item::before {content: \"\";position: absolute;border-left: 1px solid gray;box-sizing: border-box;top: 0;bottom: 0;left: 50%;z-index: -1;}#sk-container-id-3 div.sk-parallel-item {display: flex;flex-direction: column;z-index: 1;position: relative;background-color: white;}#sk-container-id-3 div.sk-parallel-item:first-child::after {align-self: flex-end;width: 50%;}#sk-container-id-3 div.sk-parallel-item:last-child::after {align-self: flex-start;width: 50%;}#sk-container-id-3 div.sk-parallel-item:only-child::after {width: 0;}#sk-container-id-3 div.sk-dashed-wrapped {border: 1px dashed gray;margin: 0 0.4em 0.5em 0.4em;box-sizing: border-box;padding-bottom: 0.4em;background-color: white;}#sk-container-id-3 div.sk-label label {font-family: monospace;font-weight: bold;display: inline-block;line-height: 1.2em;}#sk-container-id-3 div.sk-label-container {text-align: center;}#sk-container-id-3 div.sk-container {/* jupyter's `normalize.less` sets `[hidden] { display: none; }` but bootstrap.min.css set `[hidden] { display: none !important; }` so we also need the `!important` here to be able to override the default hidden behavior on the sphinx rendered scikit-learn.org. See: https://github.com/scikit-learn/scikit-learn/issues/21755 */display: inline-block !important;position: relative;}#sk-container-id-3 div.sk-text-repr-fallback {display: none;}</style><div id=\"sk-container-id-3\" class=\"sk-top-container\"><div class=\"sk-text-repr-fallback\"><pre>RandomForestRegressor(random_state=42)</pre><b>In a Jupyter environment, please rerun this cell to show the HTML representation or trust the notebook. <br />On GitHub, the HTML representation is unable to render, please try loading this page with nbviewer.org.</b></div><div class=\"sk-container\" hidden><div class=\"sk-item\"><div class=\"sk-estimator sk-toggleable\"><input class=\"sk-toggleable__control sk-hidden--visually\" id=\"sk-estimator-id-3\" type=\"checkbox\" checked><label for=\"sk-estimator-id-3\" class=\"sk-toggleable__label sk-toggleable__label-arrow\">RandomForestRegressor</label><div class=\"sk-toggleable__content\"><pre>RandomForestRegressor(random_state=42)</pre></div></div></div></div></div>"
      ],
      "text/plain": [
       "RandomForestRegressor(random_state=42)"
      ]
     },
     "execution_count": 59,
     "metadata": {},
     "output_type": "execute_result"
    }
   ],
   "source": [
    "rf = RandomForestRegressor(n_estimators=100, random_state=42)\n",
    "rf.fit(x_train, y_train)"
   ]
  },
  {
   "cell_type": "code",
   "execution_count": 60,
   "id": "1b1a5c01-4533-4acf-9e3b-0ade90e9db1e",
   "metadata": {
    "tags": []
   },
   "outputs": [
    {
     "name": "stdout",
     "output_type": "stream",
     "text": [
      "training result:\n",
      "===============================\n",
      "Mean Absolute Error (MAE) - Training: 0.04942549252411343\n",
      "Mean Square Error (MSE) - Training: 0.05716204200200001\n",
      "Root Mean Squared Error (RMSE) - Training: 0.23908584651124792\n",
      "R2 - Training: 99.99996479109645\n"
     ]
    }
   ],
   "source": [
    "print('training result:')\n",
    "print('===============================')\n",
    "\n",
    "# Assuming lr_pred_train is the predictions on the training set\n",
    "rf_pred_train = rf.predict(x_train)\n",
    "\n",
    "mae_train = mean_absolute_error(y_train, rf_pred_train)\n",
    "mse_train = mean_squared_error(y_train, rf_pred_train)\n",
    "rmse_train = np.sqrt(mse_train)\n",
    "r2_train = r2_score(y_train, rf_pred_train)\n",
    "\n",
    "print(\"Mean Absolute Error (MAE) - Training:\", mae_train)\n",
    "print(\"Mean Square Error (MSE) - Training:\", mse_train)\n",
    "print(\"Root Mean Squared Error (RMSE) - Training:\", rmse_train)\n",
    "print(\"R2 - Training:\", r2_train * 100)\n"
   ]
  },
  {
   "cell_type": "code",
   "execution_count": 61,
   "id": "d7dcb4f6-9ca6-4d53-8c28-b94c0e7aeaff",
   "metadata": {
    "tags": []
   },
   "outputs": [
    {
     "data": {
      "text/plain": [
       "array([0., 0., 0., ..., 0., 0., 0.])"
      ]
     },
     "execution_count": 61,
     "metadata": {},
     "output_type": "execute_result"
    }
   ],
   "source": [
    "rf_pred= rf.predict(x_test)\n",
    "rf_pred"
   ]
  },
  {
   "cell_type": "code",
   "execution_count": 62,
   "id": "b906c66e-ec68-469a-865e-4b579a5db218",
   "metadata": {
    "tags": []
   },
   "outputs": [
    {
     "name": "stdout",
     "output_type": "stream",
     "text": [
      "testing result:\n",
      "===============================\n",
      "Mean Absolute Error (MAE): 0.12306166784956374\n",
      "Mean Square Error (MAE): 0.5153090294959167\n",
      "Root Mean Squared Error (RMSE): 0.7178502834825078\n",
      "R2- Testing:  99.99960077085696\n"
     ]
    }
   ],
   "source": [
    "print('testing result:')\n",
    "print('===============================')\n",
    "\n",
    "mae=mean_absolute_error(y_test,rf_pred)\n",
    "mse=mean_squared_error(y_test, rf_pred)\n",
    "rmse= np.sqrt(mse)\n",
    "r2 = r2_score(y_test, rf_pred)\n",
    "print(\"Mean Absolute Error (MAE):\", mae)\n",
    "print(\"Mean Square Error (MAE):\", mse)\n",
    "print(\"Root Mean Squared Error (RMSE):\", rmse)\n",
    "print(\"R2- Testing: \", r2*100)\n"
   ]
  },
  {
   "cell_type": "code",
   "execution_count": 63,
   "id": "aba8f902-db35-46d7-98c1-9242034cc8e9",
   "metadata": {
    "tags": []
   },
   "outputs": [
    {
     "data": {
      "text/html": [
       "<div>\n",
       "<style scoped>\n",
       "    .dataframe tbody tr th:only-of-type {\n",
       "        vertical-align: middle;\n",
       "    }\n",
       "\n",
       "    .dataframe tbody tr th {\n",
       "        vertical-align: top;\n",
       "    }\n",
       "\n",
       "    .dataframe thead th {\n",
       "        text-align: right;\n",
       "    }\n",
       "</style>\n",
       "<table border=\"1\" class=\"dataframe\">\n",
       "  <thead>\n",
       "    <tr style=\"text-align: right;\">\n",
       "      <th></th>\n",
       "      <th>Actual</th>\n",
       "      <th>Predicted</th>\n",
       "    </tr>\n",
       "    <tr>\n",
       "      <th>DATE_TIME</th>\n",
       "      <th></th>\n",
       "      <th></th>\n",
       "    </tr>\n",
       "  </thead>\n",
       "  <tbody>\n",
       "    <tr>\n",
       "      <th>2020-06-17 23:45:00</th>\n",
       "      <td>0.000000</td>\n",
       "      <td>0.000000</td>\n",
       "    </tr>\n",
       "    <tr>\n",
       "      <th>2020-06-12 09:15:00</th>\n",
       "      <td>584.837500</td>\n",
       "      <td>585.041769</td>\n",
       "    </tr>\n",
       "    <tr>\n",
       "      <th>2020-06-12 01:15:00</th>\n",
       "      <td>0.000000</td>\n",
       "      <td>0.000000</td>\n",
       "    </tr>\n",
       "    <tr>\n",
       "      <th>2020-06-15 09:00:00</th>\n",
       "      <td>811.312500</td>\n",
       "      <td>809.887693</td>\n",
       "    </tr>\n",
       "    <tr>\n",
       "      <th>2020-06-17 06:45:00</th>\n",
       "      <td>45.450000</td>\n",
       "      <td>45.172223</td>\n",
       "    </tr>\n",
       "    <tr>\n",
       "      <th>2020-06-16 19:45:00</th>\n",
       "      <td>0.000000</td>\n",
       "      <td>0.000000</td>\n",
       "    </tr>\n",
       "    <tr>\n",
       "      <th>2020-06-17 16:45:00</th>\n",
       "      <td>115.575000</td>\n",
       "      <td>116.007507</td>\n",
       "    </tr>\n",
       "    <tr>\n",
       "      <th>2020-06-17 03:15:00</th>\n",
       "      <td>0.000000</td>\n",
       "      <td>0.000000</td>\n",
       "    </tr>\n",
       "    <tr>\n",
       "      <th>2020-06-11 03:30:00</th>\n",
       "      <td>0.000000</td>\n",
       "      <td>0.000000</td>\n",
       "    </tr>\n",
       "    <tr>\n",
       "      <th>2020-06-13 17:00:00</th>\n",
       "      <td>157.814286</td>\n",
       "      <td>157.257967</td>\n",
       "    </tr>\n",
       "  </tbody>\n",
       "</table>\n",
       "</div>"
      ],
      "text/plain": [
       "                         Actual   Predicted\n",
       "DATE_TIME                                  \n",
       "2020-06-17 23:45:00    0.000000    0.000000\n",
       "2020-06-12 09:15:00  584.837500  585.041769\n",
       "2020-06-12 01:15:00    0.000000    0.000000\n",
       "2020-06-15 09:00:00  811.312500  809.887693\n",
       "2020-06-17 06:45:00   45.450000   45.172223\n",
       "2020-06-16 19:45:00    0.000000    0.000000\n",
       "2020-06-17 16:45:00  115.575000  116.007507\n",
       "2020-06-17 03:15:00    0.000000    0.000000\n",
       "2020-06-11 03:30:00    0.000000    0.000000\n",
       "2020-06-13 17:00:00  157.814286  157.257967"
      ]
     },
     "execution_count": 63,
     "metadata": {},
     "output_type": "execute_result"
    }
   ],
   "source": [
    "results_df = pd.DataFrame({'Actual': y_test, 'Predicted': dt_pred})\n",
    "results_df.sample(10)"
   ]
  },
  {
   "cell_type": "markdown",
   "id": "005fecd1-1cb0-4718-9b4b-f9cead16187b",
   "metadata": {},
   "source": [
    "# Saving the best model"
   ]
  },
  {
   "cell_type": "code",
   "execution_count": 64,
   "id": "d9d18a4c-31bd-41c7-9ecd-2372cc04dc85",
   "metadata": {
    "tags": []
   },
   "outputs": [],
   "source": [
    "import pickle\n",
    "pickle.dump(ridge_model, open('ridge.sav', 'wb'))"
   ]
  },
  {
   "cell_type": "code",
   "execution_count": 65,
   "id": "d05e9b5d-7d45-4f6b-9004-f577110d8fb5",
   "metadata": {
    "tags": []
   },
   "outputs": [
    {
     "name": "stdout",
     "output_type": "stream",
     "text": [
      "<class 'pandas.core.frame.DataFrame'>\n",
      "DatetimeIndex: 54034 entries, 2020-05-15 00:00:00 to 2020-06-10 23:45:00\n",
      "Data columns (total 4 columns):\n",
      " #   Column               Non-Null Count  Dtype  \n",
      "---  ------               --------------  -----  \n",
      " 0   DC_POWER             54034 non-null  float64\n",
      " 1   AMBIENT_TEMPERATURE  54034 non-null  int32  \n",
      " 2   MODULE_TEMPERATURE   54034 non-null  int32  \n",
      " 3   IRRADIATION          54034 non-null  float64\n",
      "dtypes: float64(2), int32(2)\n",
      "memory usage: 1.6 MB\n"
     ]
    }
   ],
   "source": [
    "x_train.info()"
   ]
  },
  {
   "cell_type": "code",
   "execution_count": null,
   "id": "4e10f22a-1c97-4017-aaab-b116da6d7924",
   "metadata": {},
   "outputs": [],
   "source": []
  }
 ],
 "metadata": {
  "kernelspec": {
   "display_name": "Python 3 (ipykernel)",
   "language": "python",
   "name": "python3"
  },
  "language_info": {
   "codemirror_mode": {
    "name": "ipython",
    "version": 3
   },
   "file_extension": ".py",
   "mimetype": "text/x-python",
   "name": "python",
   "nbconvert_exporter": "python",
   "pygments_lexer": "ipython3",
   "version": "3.11.5"
  }
 },
 "nbformat": 4,
 "nbformat_minor": 5
}
